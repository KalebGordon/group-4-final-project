{
 "cells": [
  {
   "cell_type": "code",
   "execution_count": 387,
   "metadata": {},
   "outputs": [],
   "source": [
    "# Importing dependencies and file.\n",
    "import pandas as pd\n",
    "from pathlib import Path\n",
    "import matplotlib.pyplot as plt\n",
    "from sklearn.linear_model import LinearRegression\n",
    "import numpy as np\n",
    "\n",
    "file_path = \"Resources/emissions_dataframe.csv\"\n",
    "emissions = pd.read_csv(file_path)"
   ]
  },
  {
   "cell_type": "code",
   "execution_count": 388,
   "metadata": {},
   "outputs": [
    {
     "data": {
      "text/html": [
       "<div>\n",
       "<style scoped>\n",
       "    .dataframe tbody tr th:only-of-type {\n",
       "        vertical-align: middle;\n",
       "    }\n",
       "\n",
       "    .dataframe tbody tr th {\n",
       "        vertical-align: top;\n",
       "    }\n",
       "\n",
       "    .dataframe thead th {\n",
       "        text-align: right;\n",
       "    }\n",
       "</style>\n",
       "<table border=\"1\" class=\"dataframe\">\n",
       "  <thead>\n",
       "    <tr style=\"text-align: right;\">\n",
       "      <th></th>\n",
       "      <th>area</th>\n",
       "      <th>year</th>\n",
       "      <th>Emissions_CH4</th>\n",
       "      <th>Emissions_CO2</th>\n",
       "      <th>Emissions_CO2eq_AR5</th>\n",
       "      <th>Emissions_CO2eq_from_CH4_AR5</th>\n",
       "      <th>Emissions_CO2eq_from_F-gases_AR5</th>\n",
       "      <th>Emissions_CO2eq_from_N2O_AR5</th>\n",
       "      <th>Emissions_N2O</th>\n",
       "      <th>population</th>\n",
       "      <th>deaths_caused_by_outdoor_air_pollution</th>\n",
       "      <th>deaths_caused_by_household_pollution_from_solid_fuels</th>\n",
       "      <th>deaths_caused_by_air_pollution</th>\n",
       "    </tr>\n",
       "  </thead>\n",
       "  <tbody>\n",
       "    <tr>\n",
       "      <th>0</th>\n",
       "      <td>Afghanistan</td>\n",
       "      <td>2000</td>\n",
       "      <td>419.1023</td>\n",
       "      <td>-1474.8030</td>\n",
       "      <td>13346.3010</td>\n",
       "      <td>11734.8635</td>\n",
       "      <td>NaN</td>\n",
       "      <td>3086.2405</td>\n",
       "      <td>11.6462</td>\n",
       "      <td>19542982.0</td>\n",
       "      <td>4021</td>\n",
       "      <td>45132</td>\n",
       "      <td>48763</td>\n",
       "    </tr>\n",
       "    <tr>\n",
       "      <th>1</th>\n",
       "      <td>Afghanistan</td>\n",
       "      <td>2001</td>\n",
       "      <td>371.2675</td>\n",
       "      <td>1066.9016</td>\n",
       "      <td>14189.0978</td>\n",
       "      <td>10395.4910</td>\n",
       "      <td>NaN</td>\n",
       "      <td>2726.7051</td>\n",
       "      <td>10.2895</td>\n",
       "      <td>19688632.0</td>\n",
       "      <td>4014</td>\n",
       "      <td>45028</td>\n",
       "      <td>48660</td>\n",
       "    </tr>\n",
       "    <tr>\n",
       "      <th>2</th>\n",
       "      <td>Afghanistan</td>\n",
       "      <td>2002</td>\n",
       "      <td>447.8971</td>\n",
       "      <td>1347.9016</td>\n",
       "      <td>17043.7102</td>\n",
       "      <td>12541.1191</td>\n",
       "      <td>NaN</td>\n",
       "      <td>3154.6895</td>\n",
       "      <td>11.9045</td>\n",
       "      <td>21000256.0</td>\n",
       "      <td>3961</td>\n",
       "      <td>44137</td>\n",
       "      <td>47732</td>\n",
       "    </tr>\n",
       "    <tr>\n",
       "      <th>3</th>\n",
       "      <td>Afghanistan</td>\n",
       "      <td>2003</td>\n",
       "      <td>463.6655</td>\n",
       "      <td>1478.9016</td>\n",
       "      <td>17744.0810</td>\n",
       "      <td>12982.6335</td>\n",
       "      <td>NaN</td>\n",
       "      <td>3282.5460</td>\n",
       "      <td>12.3870</td>\n",
       "      <td>22645130.0</td>\n",
       "      <td>4116</td>\n",
       "      <td>44953</td>\n",
       "      <td>48687</td>\n",
       "    </tr>\n",
       "    <tr>\n",
       "      <th>4</th>\n",
       "      <td>Afghanistan</td>\n",
       "      <td>2004</td>\n",
       "      <td>465.8062</td>\n",
       "      <td>1187.9016</td>\n",
       "      <td>17494.7135</td>\n",
       "      <td>13042.5729</td>\n",
       "      <td>NaN</td>\n",
       "      <td>3264.2390</td>\n",
       "      <td>12.3179</td>\n",
       "      <td>23553551.0</td>\n",
       "      <td>4176</td>\n",
       "      <td>44534</td>\n",
       "      <td>48337</td>\n",
       "    </tr>\n",
       "    <tr>\n",
       "      <th>...</th>\n",
       "      <td>...</td>\n",
       "      <td>...</td>\n",
       "      <td>...</td>\n",
       "      <td>...</td>\n",
       "      <td>...</td>\n",
       "      <td>...</td>\n",
       "      <td>...</td>\n",
       "      <td>...</td>\n",
       "      <td>...</td>\n",
       "      <td>...</td>\n",
       "      <td>...</td>\n",
       "      <td>...</td>\n",
       "      <td>...</td>\n",
       "    </tr>\n",
       "    <tr>\n",
       "      <th>2915</th>\n",
       "      <td>Suriname</td>\n",
       "      <td>2015</td>\n",
       "      <td>35.0855</td>\n",
       "      <td>10853.0806</td>\n",
       "      <td>12047.6211</td>\n",
       "      <td>982.3933</td>\n",
       "      <td>0.0</td>\n",
       "      <td>212.1471</td>\n",
       "      <td>0.8006</td>\n",
       "      <td>575475.0</td>\n",
       "      <td>276</td>\n",
       "      <td>52</td>\n",
       "      <td>329</td>\n",
       "    </tr>\n",
       "    <tr>\n",
       "      <th>2916</th>\n",
       "      <td>Suriname</td>\n",
       "      <td>2016</td>\n",
       "      <td>35.4646</td>\n",
       "      <td>11536.3878</td>\n",
       "      <td>12757.1288</td>\n",
       "      <td>993.0085</td>\n",
       "      <td>0.0</td>\n",
       "      <td>227.7325</td>\n",
       "      <td>0.8594</td>\n",
       "      <td>581453.0</td>\n",
       "      <td>272</td>\n",
       "      <td>51</td>\n",
       "      <td>325</td>\n",
       "    </tr>\n",
       "    <tr>\n",
       "      <th>2917</th>\n",
       "      <td>Suriname</td>\n",
       "      <td>2017</td>\n",
       "      <td>34.8279</td>\n",
       "      <td>11740.4385</td>\n",
       "      <td>12951.8067</td>\n",
       "      <td>975.1807</td>\n",
       "      <td>0.0</td>\n",
       "      <td>236.1876</td>\n",
       "      <td>0.8913</td>\n",
       "      <td>587559.0</td>\n",
       "      <td>263</td>\n",
       "      <td>50</td>\n",
       "      <td>313</td>\n",
       "    </tr>\n",
       "    <tr>\n",
       "      <th>2918</th>\n",
       "      <td>Suriname</td>\n",
       "      <td>2018</td>\n",
       "      <td>33.7716</td>\n",
       "      <td>12170.5588</td>\n",
       "      <td>13314.9521</td>\n",
       "      <td>945.6055</td>\n",
       "      <td>0.0</td>\n",
       "      <td>198.7878</td>\n",
       "      <td>0.7501</td>\n",
       "      <td>593715.0</td>\n",
       "      <td>261</td>\n",
       "      <td>49</td>\n",
       "      <td>310</td>\n",
       "    </tr>\n",
       "    <tr>\n",
       "      <th>2919</th>\n",
       "      <td>Suriname</td>\n",
       "      <td>2019</td>\n",
       "      <td>36.1693</td>\n",
       "      <td>12172.9810</td>\n",
       "      <td>13401.8309</td>\n",
       "      <td>1012.7401</td>\n",
       "      <td>0.0</td>\n",
       "      <td>216.1097</td>\n",
       "      <td>0.8155</td>\n",
       "      <td>600301.0</td>\n",
       "      <td>261</td>\n",
       "      <td>47</td>\n",
       "      <td>308</td>\n",
       "    </tr>\n",
       "  </tbody>\n",
       "</table>\n",
       "<p>2920 rows × 13 columns</p>\n",
       "</div>"
      ],
      "text/plain": [
       "             area  year  Emissions_CH4  Emissions_CO2  Emissions_CO2eq_AR5  \\\n",
       "0     Afghanistan  2000       419.1023     -1474.8030           13346.3010   \n",
       "1     Afghanistan  2001       371.2675      1066.9016           14189.0978   \n",
       "2     Afghanistan  2002       447.8971      1347.9016           17043.7102   \n",
       "3     Afghanistan  2003       463.6655      1478.9016           17744.0810   \n",
       "4     Afghanistan  2004       465.8062      1187.9016           17494.7135   \n",
       "...           ...   ...            ...            ...                  ...   \n",
       "2915     Suriname  2015        35.0855     10853.0806           12047.6211   \n",
       "2916     Suriname  2016        35.4646     11536.3878           12757.1288   \n",
       "2917     Suriname  2017        34.8279     11740.4385           12951.8067   \n",
       "2918     Suriname  2018        33.7716     12170.5588           13314.9521   \n",
       "2919     Suriname  2019        36.1693     12172.9810           13401.8309   \n",
       "\n",
       "      Emissions_CO2eq_from_CH4_AR5  Emissions_CO2eq_from_F-gases_AR5  \\\n",
       "0                       11734.8635                               NaN   \n",
       "1                       10395.4910                               NaN   \n",
       "2                       12541.1191                               NaN   \n",
       "3                       12982.6335                               NaN   \n",
       "4                       13042.5729                               NaN   \n",
       "...                            ...                               ...   \n",
       "2915                      982.3933                               0.0   \n",
       "2916                      993.0085                               0.0   \n",
       "2917                      975.1807                               0.0   \n",
       "2918                      945.6055                               0.0   \n",
       "2919                     1012.7401                               0.0   \n",
       "\n",
       "      Emissions_CO2eq_from_N2O_AR5  Emissions_N2O  population  \\\n",
       "0                        3086.2405        11.6462  19542982.0   \n",
       "1                        2726.7051        10.2895  19688632.0   \n",
       "2                        3154.6895        11.9045  21000256.0   \n",
       "3                        3282.5460        12.3870  22645130.0   \n",
       "4                        3264.2390        12.3179  23553551.0   \n",
       "...                            ...            ...         ...   \n",
       "2915                      212.1471         0.8006    575475.0   \n",
       "2916                      227.7325         0.8594    581453.0   \n",
       "2917                      236.1876         0.8913    587559.0   \n",
       "2918                      198.7878         0.7501    593715.0   \n",
       "2919                      216.1097         0.8155    600301.0   \n",
       "\n",
       "      deaths_caused_by_outdoor_air_pollution  \\\n",
       "0                                       4021   \n",
       "1                                       4014   \n",
       "2                                       3961   \n",
       "3                                       4116   \n",
       "4                                       4176   \n",
       "...                                      ...   \n",
       "2915                                     276   \n",
       "2916                                     272   \n",
       "2917                                     263   \n",
       "2918                                     261   \n",
       "2919                                     261   \n",
       "\n",
       "      deaths_caused_by_household_pollution_from_solid_fuels  \\\n",
       "0                                                 45132       \n",
       "1                                                 45028       \n",
       "2                                                 44137       \n",
       "3                                                 44953       \n",
       "4                                                 44534       \n",
       "...                                                 ...       \n",
       "2915                                                 52       \n",
       "2916                                                 51       \n",
       "2917                                                 50       \n",
       "2918                                                 49       \n",
       "2919                                                 47       \n",
       "\n",
       "      deaths_caused_by_air_pollution  \n",
       "0                              48763  \n",
       "1                              48660  \n",
       "2                              47732  \n",
       "3                              48687  \n",
       "4                              48337  \n",
       "...                              ...  \n",
       "2915                             329  \n",
       "2916                             325  \n",
       "2917                             313  \n",
       "2918                             310  \n",
       "2919                             308  \n",
       "\n",
       "[2920 rows x 13 columns]"
      ]
     },
     "execution_count": 388,
     "metadata": {},
     "output_type": "execute_result"
    }
   ],
   "source": [
    "# Checking file import.\n",
    "emissions"
   ]
  },
  {
   "cell_type": "code",
   "execution_count": 389,
   "metadata": {},
   "outputs": [],
   "source": [
    "emissions['Emissions_CO2eq_from_F-gases_AR5'] = emissions['Emissions_CO2eq_from_F-gases_AR5'].fillna(0)"
   ]
  },
  {
   "cell_type": "code",
   "execution_count": 390,
   "metadata": {},
   "outputs": [],
   "source": [
    "emissions['total_emissions'] = emissions['Emissions_CH4'] + emissions['Emissions_CO2'] + emissions['Emissions_CO2eq_AR5'] + emissions['Emissions_CO2eq_from_CH4_AR5'] + emissions['Emissions_CO2eq_from_F-gases_AR5'] + emissions['Emissions_CO2eq_from_N2O_AR5'] + emissions['Emissions_N2O'] "
   ]
  },
  {
   "cell_type": "code",
   "execution_count": 391,
   "metadata": {},
   "outputs": [],
   "source": [
    "emissions['total_deaths'] = emissions['deaths_caused_by_outdoor_air_pollution'] + emissions['deaths_caused_by_household_pollution_from_solid_fuels'] + emissions['deaths_caused_by_air_pollution'] "
   ]
  },
  {
   "cell_type": "code",
   "execution_count": 392,
   "metadata": {},
   "outputs": [
    {
     "data": {
      "text/html": [
       "<div>\n",
       "<style scoped>\n",
       "    .dataframe tbody tr th:only-of-type {\n",
       "        vertical-align: middle;\n",
       "    }\n",
       "\n",
       "    .dataframe tbody tr th {\n",
       "        vertical-align: top;\n",
       "    }\n",
       "\n",
       "    .dataframe thead th {\n",
       "        text-align: right;\n",
       "    }\n",
       "</style>\n",
       "<table border=\"1\" class=\"dataframe\">\n",
       "  <thead>\n",
       "    <tr style=\"text-align: right;\">\n",
       "      <th></th>\n",
       "      <th>area</th>\n",
       "      <th>year</th>\n",
       "      <th>Emissions_CH4</th>\n",
       "      <th>Emissions_CO2</th>\n",
       "      <th>Emissions_CO2eq_AR5</th>\n",
       "      <th>Emissions_CO2eq_from_CH4_AR5</th>\n",
       "      <th>Emissions_CO2eq_from_F-gases_AR5</th>\n",
       "      <th>Emissions_CO2eq_from_N2O_AR5</th>\n",
       "      <th>Emissions_N2O</th>\n",
       "      <th>population</th>\n",
       "      <th>deaths_caused_by_outdoor_air_pollution</th>\n",
       "      <th>deaths_caused_by_household_pollution_from_solid_fuels</th>\n",
       "      <th>deaths_caused_by_air_pollution</th>\n",
       "      <th>total_emissions</th>\n",
       "      <th>total_deaths</th>\n",
       "    </tr>\n",
       "  </thead>\n",
       "  <tbody>\n",
       "    <tr>\n",
       "      <th>0</th>\n",
       "      <td>Afghanistan</td>\n",
       "      <td>2000</td>\n",
       "      <td>419.1023</td>\n",
       "      <td>-1474.8030</td>\n",
       "      <td>13346.3010</td>\n",
       "      <td>11734.8635</td>\n",
       "      <td>0.0</td>\n",
       "      <td>3086.2405</td>\n",
       "      <td>11.6462</td>\n",
       "      <td>19542982.0</td>\n",
       "      <td>4021</td>\n",
       "      <td>45132</td>\n",
       "      <td>48763</td>\n",
       "      <td>27123.3505</td>\n",
       "      <td>97916</td>\n",
       "    </tr>\n",
       "    <tr>\n",
       "      <th>1</th>\n",
       "      <td>Afghanistan</td>\n",
       "      <td>2001</td>\n",
       "      <td>371.2675</td>\n",
       "      <td>1066.9016</td>\n",
       "      <td>14189.0978</td>\n",
       "      <td>10395.4910</td>\n",
       "      <td>0.0</td>\n",
       "      <td>2726.7051</td>\n",
       "      <td>10.2895</td>\n",
       "      <td>19688632.0</td>\n",
       "      <td>4014</td>\n",
       "      <td>45028</td>\n",
       "      <td>48660</td>\n",
       "      <td>28759.7525</td>\n",
       "      <td>97702</td>\n",
       "    </tr>\n",
       "    <tr>\n",
       "      <th>2</th>\n",
       "      <td>Afghanistan</td>\n",
       "      <td>2002</td>\n",
       "      <td>447.8971</td>\n",
       "      <td>1347.9016</td>\n",
       "      <td>17043.7102</td>\n",
       "      <td>12541.1191</td>\n",
       "      <td>0.0</td>\n",
       "      <td>3154.6895</td>\n",
       "      <td>11.9045</td>\n",
       "      <td>21000256.0</td>\n",
       "      <td>3961</td>\n",
       "      <td>44137</td>\n",
       "      <td>47732</td>\n",
       "      <td>34547.2220</td>\n",
       "      <td>95830</td>\n",
       "    </tr>\n",
       "    <tr>\n",
       "      <th>3</th>\n",
       "      <td>Afghanistan</td>\n",
       "      <td>2003</td>\n",
       "      <td>463.6655</td>\n",
       "      <td>1478.9016</td>\n",
       "      <td>17744.0810</td>\n",
       "      <td>12982.6335</td>\n",
       "      <td>0.0</td>\n",
       "      <td>3282.5460</td>\n",
       "      <td>12.3870</td>\n",
       "      <td>22645130.0</td>\n",
       "      <td>4116</td>\n",
       "      <td>44953</td>\n",
       "      <td>48687</td>\n",
       "      <td>35964.2146</td>\n",
       "      <td>97756</td>\n",
       "    </tr>\n",
       "    <tr>\n",
       "      <th>4</th>\n",
       "      <td>Afghanistan</td>\n",
       "      <td>2004</td>\n",
       "      <td>465.8062</td>\n",
       "      <td>1187.9016</td>\n",
       "      <td>17494.7135</td>\n",
       "      <td>13042.5729</td>\n",
       "      <td>0.0</td>\n",
       "      <td>3264.2390</td>\n",
       "      <td>12.3179</td>\n",
       "      <td>23553551.0</td>\n",
       "      <td>4176</td>\n",
       "      <td>44534</td>\n",
       "      <td>48337</td>\n",
       "      <td>35467.5511</td>\n",
       "      <td>97047</td>\n",
       "    </tr>\n",
       "    <tr>\n",
       "      <th>...</th>\n",
       "      <td>...</td>\n",
       "      <td>...</td>\n",
       "      <td>...</td>\n",
       "      <td>...</td>\n",
       "      <td>...</td>\n",
       "      <td>...</td>\n",
       "      <td>...</td>\n",
       "      <td>...</td>\n",
       "      <td>...</td>\n",
       "      <td>...</td>\n",
       "      <td>...</td>\n",
       "      <td>...</td>\n",
       "      <td>...</td>\n",
       "      <td>...</td>\n",
       "      <td>...</td>\n",
       "    </tr>\n",
       "    <tr>\n",
       "      <th>2915</th>\n",
       "      <td>Suriname</td>\n",
       "      <td>2015</td>\n",
       "      <td>35.0855</td>\n",
       "      <td>10853.0806</td>\n",
       "      <td>12047.6211</td>\n",
       "      <td>982.3933</td>\n",
       "      <td>0.0</td>\n",
       "      <td>212.1471</td>\n",
       "      <td>0.8006</td>\n",
       "      <td>575475.0</td>\n",
       "      <td>276</td>\n",
       "      <td>52</td>\n",
       "      <td>329</td>\n",
       "      <td>24131.1282</td>\n",
       "      <td>657</td>\n",
       "    </tr>\n",
       "    <tr>\n",
       "      <th>2916</th>\n",
       "      <td>Suriname</td>\n",
       "      <td>2016</td>\n",
       "      <td>35.4646</td>\n",
       "      <td>11536.3878</td>\n",
       "      <td>12757.1288</td>\n",
       "      <td>993.0085</td>\n",
       "      <td>0.0</td>\n",
       "      <td>227.7325</td>\n",
       "      <td>0.8594</td>\n",
       "      <td>581453.0</td>\n",
       "      <td>272</td>\n",
       "      <td>51</td>\n",
       "      <td>325</td>\n",
       "      <td>25550.5816</td>\n",
       "      <td>648</td>\n",
       "    </tr>\n",
       "    <tr>\n",
       "      <th>2917</th>\n",
       "      <td>Suriname</td>\n",
       "      <td>2017</td>\n",
       "      <td>34.8279</td>\n",
       "      <td>11740.4385</td>\n",
       "      <td>12951.8067</td>\n",
       "      <td>975.1807</td>\n",
       "      <td>0.0</td>\n",
       "      <td>236.1876</td>\n",
       "      <td>0.8913</td>\n",
       "      <td>587559.0</td>\n",
       "      <td>263</td>\n",
       "      <td>50</td>\n",
       "      <td>313</td>\n",
       "      <td>25939.3327</td>\n",
       "      <td>626</td>\n",
       "    </tr>\n",
       "    <tr>\n",
       "      <th>2918</th>\n",
       "      <td>Suriname</td>\n",
       "      <td>2018</td>\n",
       "      <td>33.7716</td>\n",
       "      <td>12170.5588</td>\n",
       "      <td>13314.9521</td>\n",
       "      <td>945.6055</td>\n",
       "      <td>0.0</td>\n",
       "      <td>198.7878</td>\n",
       "      <td>0.7501</td>\n",
       "      <td>593715.0</td>\n",
       "      <td>261</td>\n",
       "      <td>49</td>\n",
       "      <td>310</td>\n",
       "      <td>26664.4259</td>\n",
       "      <td>620</td>\n",
       "    </tr>\n",
       "    <tr>\n",
       "      <th>2919</th>\n",
       "      <td>Suriname</td>\n",
       "      <td>2019</td>\n",
       "      <td>36.1693</td>\n",
       "      <td>12172.9810</td>\n",
       "      <td>13401.8309</td>\n",
       "      <td>1012.7401</td>\n",
       "      <td>0.0</td>\n",
       "      <td>216.1097</td>\n",
       "      <td>0.8155</td>\n",
       "      <td>600301.0</td>\n",
       "      <td>261</td>\n",
       "      <td>47</td>\n",
       "      <td>308</td>\n",
       "      <td>26840.6465</td>\n",
       "      <td>616</td>\n",
       "    </tr>\n",
       "  </tbody>\n",
       "</table>\n",
       "<p>2920 rows × 15 columns</p>\n",
       "</div>"
      ],
      "text/plain": [
       "             area  year  Emissions_CH4  Emissions_CO2  Emissions_CO2eq_AR5  \\\n",
       "0     Afghanistan  2000       419.1023     -1474.8030           13346.3010   \n",
       "1     Afghanistan  2001       371.2675      1066.9016           14189.0978   \n",
       "2     Afghanistan  2002       447.8971      1347.9016           17043.7102   \n",
       "3     Afghanistan  2003       463.6655      1478.9016           17744.0810   \n",
       "4     Afghanistan  2004       465.8062      1187.9016           17494.7135   \n",
       "...           ...   ...            ...            ...                  ...   \n",
       "2915     Suriname  2015        35.0855     10853.0806           12047.6211   \n",
       "2916     Suriname  2016        35.4646     11536.3878           12757.1288   \n",
       "2917     Suriname  2017        34.8279     11740.4385           12951.8067   \n",
       "2918     Suriname  2018        33.7716     12170.5588           13314.9521   \n",
       "2919     Suriname  2019        36.1693     12172.9810           13401.8309   \n",
       "\n",
       "      Emissions_CO2eq_from_CH4_AR5  Emissions_CO2eq_from_F-gases_AR5  \\\n",
       "0                       11734.8635                               0.0   \n",
       "1                       10395.4910                               0.0   \n",
       "2                       12541.1191                               0.0   \n",
       "3                       12982.6335                               0.0   \n",
       "4                       13042.5729                               0.0   \n",
       "...                            ...                               ...   \n",
       "2915                      982.3933                               0.0   \n",
       "2916                      993.0085                               0.0   \n",
       "2917                      975.1807                               0.0   \n",
       "2918                      945.6055                               0.0   \n",
       "2919                     1012.7401                               0.0   \n",
       "\n",
       "      Emissions_CO2eq_from_N2O_AR5  Emissions_N2O  population  \\\n",
       "0                        3086.2405        11.6462  19542982.0   \n",
       "1                        2726.7051        10.2895  19688632.0   \n",
       "2                        3154.6895        11.9045  21000256.0   \n",
       "3                        3282.5460        12.3870  22645130.0   \n",
       "4                        3264.2390        12.3179  23553551.0   \n",
       "...                            ...            ...         ...   \n",
       "2915                      212.1471         0.8006    575475.0   \n",
       "2916                      227.7325         0.8594    581453.0   \n",
       "2917                      236.1876         0.8913    587559.0   \n",
       "2918                      198.7878         0.7501    593715.0   \n",
       "2919                      216.1097         0.8155    600301.0   \n",
       "\n",
       "      deaths_caused_by_outdoor_air_pollution  \\\n",
       "0                                       4021   \n",
       "1                                       4014   \n",
       "2                                       3961   \n",
       "3                                       4116   \n",
       "4                                       4176   \n",
       "...                                      ...   \n",
       "2915                                     276   \n",
       "2916                                     272   \n",
       "2917                                     263   \n",
       "2918                                     261   \n",
       "2919                                     261   \n",
       "\n",
       "      deaths_caused_by_household_pollution_from_solid_fuels  \\\n",
       "0                                                 45132       \n",
       "1                                                 45028       \n",
       "2                                                 44137       \n",
       "3                                                 44953       \n",
       "4                                                 44534       \n",
       "...                                                 ...       \n",
       "2915                                                 52       \n",
       "2916                                                 51       \n",
       "2917                                                 50       \n",
       "2918                                                 49       \n",
       "2919                                                 47       \n",
       "\n",
       "      deaths_caused_by_air_pollution  total_emissions  total_deaths  \n",
       "0                              48763       27123.3505         97916  \n",
       "1                              48660       28759.7525         97702  \n",
       "2                              47732       34547.2220         95830  \n",
       "3                              48687       35964.2146         97756  \n",
       "4                              48337       35467.5511         97047  \n",
       "...                              ...              ...           ...  \n",
       "2915                             329       24131.1282           657  \n",
       "2916                             325       25550.5816           648  \n",
       "2917                             313       25939.3327           626  \n",
       "2918                             310       26664.4259           620  \n",
       "2919                             308       26840.6465           616  \n",
       "\n",
       "[2920 rows x 15 columns]"
      ]
     },
     "execution_count": 392,
     "metadata": {},
     "output_type": "execute_result"
    }
   ],
   "source": [
    "emissions"
   ]
  },
  {
   "cell_type": "code",
   "execution_count": 393,
   "metadata": {},
   "outputs": [
    {
     "data": {
      "image/png": "[encoded data removed]",
      "text/plain": [
       "<Figure size 640x480 with 1 Axes>"
      ]
     },
     "metadata": {},
     "output_type": "display_data"
    }
   ],
   "source": [
    "plt.scatter(emissions['population'], emissions['total_emissions'])\n",
    "plt.title('Total Emissions Based on Population')\n",
    "plt.xlabel('Population * 1,000,000,000')\n",
    "plt.ylabel('Emissions * 10,000,000 kilotons')\n",
    "plt.show()"
   ]
  },
  {
   "cell_type": "code",
   "execution_count": 394,
   "metadata": {},
   "outputs": [
    {
     "data": {
      "image/png": "[encoded data removed]",
      "text/plain": [
       "<Figure size 640x480 with 1 Axes>"
      ]
     },
     "metadata": {},
     "output_type": "display_data"
    }
   ],
   "source": [
    "plt.scatter(emissions['year'], emissions['total_emissions'])\n",
    "plt.title('Total Emissions per Year')\n",
    "plt.xlabel('Year')\n",
    "plt.xticks(np.arange(2000, 2021, 1), rotation=90)\n",
    "plt.ylabel('Emissions * 10,000,000 kilotons')\n",
    "plt.show()"
   ]
  },
  {
   "cell_type": "code",
   "execution_count": 395,
   "metadata": {},
   "outputs": [
    {
     "data": {
      "image/png": "[encoded data removed]",
      "text/plain": [
       "<Figure size 640x480 with 1 Axes>"
      ]
     },
     "metadata": {},
     "output_type": "display_data"
    }
   ],
   "source": [
    "plt.scatter(emissions['total_emissions'], emissions['total_deaths'])\n",
    "plt.title('Total Deaths from Pollution Based on Emissions')\n",
    "plt.xlabel('Emissions * 10,000,000 kilotons')\n",
    "plt.ylabel('Deaths * 1,000,000')\n",
    "plt.show()"
   ]
  },
  {
   "cell_type": "code",
   "execution_count": 396,
   "metadata": {},
   "outputs": [
    {
     "data": {
      "text/plain": [
       "<matplotlib.collections.PathCollection at 0x16591075c88>"
      ]
     },
     "execution_count": 396,
     "metadata": {},
     "output_type": "execute_result"
    },
    {
     "data": {
      "image/png": "[encoded data removed]",
      "text/plain": [
       "<Figure size 640x480 with 1 Axes>"
      ]
     },
     "metadata": {},
     "output_type": "display_data"
    }
   ],
   "source": [
    "plt.scatter(emissions['Emissions_CO2'], emissions['deaths_caused_by_outdoor_air_pollution'])"
   ]
  },
  {
   "cell_type": "code",
   "execution_count": 397,
   "metadata": {},
   "outputs": [],
   "source": [
    "import plotly.express as px\n",
    "import hvplot.pandas\n",
    "from sklearn.cluster import KMeans"
   ]
  },
  {
   "cell_type": "code",
   "execution_count": 398,
   "metadata": {},
   "outputs": [
    {
     "data": {
      "text/plain": [
       "KMeans(n_clusters=3, random_state=5)"
      ]
     },
     "execution_count": 398,
     "metadata": {},
     "output_type": "execute_result"
    }
   ],
   "source": [
    "model = KMeans(n_clusters=3, random_state=5)\n",
    "model"
   ]
  },
  {
   "cell_type": "code",
   "execution_count": 399,
   "metadata": {},
   "outputs": [
    {
     "data": {
      "text/html": [
       "<div>\n",
       "<style scoped>\n",
       "    .dataframe tbody tr th:only-of-type {\n",
       "        vertical-align: middle;\n",
       "    }\n",
       "\n",
       "    .dataframe tbody tr th {\n",
       "        vertical-align: top;\n",
       "    }\n",
       "\n",
       "    .dataframe thead th {\n",
       "        text-align: right;\n",
       "    }\n",
       "</style>\n",
       "<table border=\"1\" class=\"dataframe\">\n",
       "  <thead>\n",
       "    <tr style=\"text-align: right;\">\n",
       "      <th></th>\n",
       "      <th>area</th>\n",
       "      <th>year</th>\n",
       "      <th>population</th>\n",
       "      <th>total_emissions</th>\n",
       "      <th>total_deaths</th>\n",
       "    </tr>\n",
       "  </thead>\n",
       "  <tbody>\n",
       "    <tr>\n",
       "      <th>0</th>\n",
       "      <td>Afghanistan</td>\n",
       "      <td>2000</td>\n",
       "      <td>19542982.0</td>\n",
       "      <td>27123.3505</td>\n",
       "      <td>97916</td>\n",
       "    </tr>\n",
       "    <tr>\n",
       "      <th>1</th>\n",
       "      <td>Afghanistan</td>\n",
       "      <td>2001</td>\n",
       "      <td>19688632.0</td>\n",
       "      <td>28759.7525</td>\n",
       "      <td>97702</td>\n",
       "    </tr>\n",
       "    <tr>\n",
       "      <th>2</th>\n",
       "      <td>Afghanistan</td>\n",
       "      <td>2002</td>\n",
       "      <td>21000256.0</td>\n",
       "      <td>34547.2220</td>\n",
       "      <td>95830</td>\n",
       "    </tr>\n",
       "    <tr>\n",
       "      <th>3</th>\n",
       "      <td>Afghanistan</td>\n",
       "      <td>2003</td>\n",
       "      <td>22645130.0</td>\n",
       "      <td>35964.2146</td>\n",
       "      <td>97756</td>\n",
       "    </tr>\n",
       "    <tr>\n",
       "      <th>4</th>\n",
       "      <td>Afghanistan</td>\n",
       "      <td>2004</td>\n",
       "      <td>23553551.0</td>\n",
       "      <td>35467.5511</td>\n",
       "      <td>97047</td>\n",
       "    </tr>\n",
       "    <tr>\n",
       "      <th>...</th>\n",
       "      <td>...</td>\n",
       "      <td>...</td>\n",
       "      <td>...</td>\n",
       "      <td>...</td>\n",
       "      <td>...</td>\n",
       "    </tr>\n",
       "    <tr>\n",
       "      <th>2915</th>\n",
       "      <td>Suriname</td>\n",
       "      <td>2015</td>\n",
       "      <td>575475.0</td>\n",
       "      <td>24131.1282</td>\n",
       "      <td>657</td>\n",
       "    </tr>\n",
       "    <tr>\n",
       "      <th>2916</th>\n",
       "      <td>Suriname</td>\n",
       "      <td>2016</td>\n",
       "      <td>581453.0</td>\n",
       "      <td>25550.5816</td>\n",
       "      <td>648</td>\n",
       "    </tr>\n",
       "    <tr>\n",
       "      <th>2917</th>\n",
       "      <td>Suriname</td>\n",
       "      <td>2017</td>\n",
       "      <td>587559.0</td>\n",
       "      <td>25939.3327</td>\n",
       "      <td>626</td>\n",
       "    </tr>\n",
       "    <tr>\n",
       "      <th>2918</th>\n",
       "      <td>Suriname</td>\n",
       "      <td>2018</td>\n",
       "      <td>593715.0</td>\n",
       "      <td>26664.4259</td>\n",
       "      <td>620</td>\n",
       "    </tr>\n",
       "    <tr>\n",
       "      <th>2919</th>\n",
       "      <td>Suriname</td>\n",
       "      <td>2019</td>\n",
       "      <td>600301.0</td>\n",
       "      <td>26840.6465</td>\n",
       "      <td>616</td>\n",
       "    </tr>\n",
       "  </tbody>\n",
       "</table>\n",
       "<p>2920 rows × 5 columns</p>\n",
       "</div>"
      ],
      "text/plain": [
       "             area  year  population  total_emissions  total_deaths\n",
       "0     Afghanistan  2000  19542982.0       27123.3505         97916\n",
       "1     Afghanistan  2001  19688632.0       28759.7525         97702\n",
       "2     Afghanistan  2002  21000256.0       34547.2220         95830\n",
       "3     Afghanistan  2003  22645130.0       35964.2146         97756\n",
       "4     Afghanistan  2004  23553551.0       35467.5511         97047\n",
       "...           ...   ...         ...              ...           ...\n",
       "2915     Suriname  2015    575475.0       24131.1282           657\n",
       "2916     Suriname  2016    581453.0       25550.5816           648\n",
       "2917     Suriname  2017    587559.0       25939.3327           626\n",
       "2918     Suriname  2018    593715.0       26664.4259           620\n",
       "2919     Suriname  2019    600301.0       26840.6465           616\n",
       "\n",
       "[2920 rows x 5 columns]"
      ]
     },
     "execution_count": 399,
     "metadata": {},
     "output_type": "execute_result"
    }
   ],
   "source": [
    "cluster_df = emissions.drop(columns=[\"Emissions_CH4\", \"Emissions_CO2\", \"Emissions_CO2eq_AR5\", \"Emissions_CO2eq_from_CH4_AR5\", \"Emissions_CO2eq_from_F-gases_AR5\", \"Emissions_CO2eq_from_N2O_AR5\",\\\n",
    "    \"Emissions_N2O\", \"deaths_caused_by_outdoor_air_pollution\", \"deaths_caused_by_household_pollution_from_solid_fuels\", \"deaths_caused_by_air_pollution\"])\n",
    "cluster_df.reset_index(drop=True)\n",
    "cluster_df"
   ]
  },
  {
   "cell_type": "code",
   "execution_count": 400,
   "metadata": {},
   "outputs": [],
   "source": [
    "#model.fit(cluster_df)"
   ]
  },
  {
   "cell_type": "code",
   "execution_count": 401,
   "metadata": {},
   "outputs": [],
   "source": [
    "import plotly.express as px\n",
    "import hvplot.pandas\n",
    "import plotly.graph_objects as go"
   ]
  },
  {
   "cell_type": "code",
   "execution_count": 402,
   "metadata": {},
   "outputs": [
    {
     "data": {
      "text/html": [
       "<div>\n",
       "<style scoped>\n",
       "    .dataframe tbody tr th:only-of-type {\n",
       "        vertical-align: middle;\n",
       "    }\n",
       "\n",
       "    .dataframe tbody tr th {\n",
       "        vertical-align: top;\n",
       "    }\n",
       "\n",
       "    .dataframe thead th {\n",
       "        text-align: right;\n",
       "    }\n",
       "</style>\n",
       "<table border=\"1\" class=\"dataframe\">\n",
       "  <thead>\n",
       "    <tr style=\"text-align: right;\">\n",
       "      <th></th>\n",
       "      <th>area</th>\n",
       "      <th>year</th>\n",
       "      <th>total_emissions</th>\n",
       "      <th>total_deaths</th>\n",
       "      <th>emissions_per_person</th>\n",
       "    </tr>\n",
       "  </thead>\n",
       "  <tbody>\n",
       "    <tr>\n",
       "      <th>0</th>\n",
       "      <td>Afghanistan</td>\n",
       "      <td>2000</td>\n",
       "      <td>27123.3505</td>\n",
       "      <td>97916</td>\n",
       "      <td>720.522415</td>\n",
       "    </tr>\n",
       "    <tr>\n",
       "      <th>1</th>\n",
       "      <td>Afghanistan</td>\n",
       "      <td>2001</td>\n",
       "      <td>28759.7525</td>\n",
       "      <td>97702</td>\n",
       "      <td>684.589758</td>\n",
       "    </tr>\n",
       "    <tr>\n",
       "      <th>2</th>\n",
       "      <td>Afghanistan</td>\n",
       "      <td>2002</td>\n",
       "      <td>34547.2220</td>\n",
       "      <td>95830</td>\n",
       "      <td>607.871047</td>\n",
       "    </tr>\n",
       "    <tr>\n",
       "      <th>3</th>\n",
       "      <td>Afghanistan</td>\n",
       "      <td>2003</td>\n",
       "      <td>35964.2146</td>\n",
       "      <td>97756</td>\n",
       "      <td>629.657293</td>\n",
       "    </tr>\n",
       "    <tr>\n",
       "      <th>4</th>\n",
       "      <td>Afghanistan</td>\n",
       "      <td>2004</td>\n",
       "      <td>35467.5511</td>\n",
       "      <td>97047</td>\n",
       "      <td>664.087321</td>\n",
       "    </tr>\n",
       "    <tr>\n",
       "      <th>...</th>\n",
       "      <td>...</td>\n",
       "      <td>...</td>\n",
       "      <td>...</td>\n",
       "      <td>...</td>\n",
       "      <td>...</td>\n",
       "    </tr>\n",
       "    <tr>\n",
       "      <th>2915</th>\n",
       "      <td>Suriname</td>\n",
       "      <td>2015</td>\n",
       "      <td>24131.1282</td>\n",
       "      <td>657</td>\n",
       "      <td>23.847828</td>\n",
       "    </tr>\n",
       "    <tr>\n",
       "      <th>2916</th>\n",
       "      <td>Suriname</td>\n",
       "      <td>2016</td>\n",
       "      <td>25550.5816</td>\n",
       "      <td>648</td>\n",
       "      <td>22.756938</td>\n",
       "    </tr>\n",
       "    <tr>\n",
       "      <th>2917</th>\n",
       "      <td>Suriname</td>\n",
       "      <td>2017</td>\n",
       "      <td>25939.3327</td>\n",
       "      <td>626</td>\n",
       "      <td>22.651277</td>\n",
       "    </tr>\n",
       "    <tr>\n",
       "      <th>2918</th>\n",
       "      <td>Suriname</td>\n",
       "      <td>2018</td>\n",
       "      <td>26664.4259</td>\n",
       "      <td>620</td>\n",
       "      <td>22.266183</td>\n",
       "    </tr>\n",
       "    <tr>\n",
       "      <th>2919</th>\n",
       "      <td>Suriname</td>\n",
       "      <td>2019</td>\n",
       "      <td>26840.6465</td>\n",
       "      <td>616</td>\n",
       "      <td>22.365370</td>\n",
       "    </tr>\n",
       "  </tbody>\n",
       "</table>\n",
       "<p>2829 rows × 5 columns</p>\n",
       "</div>"
      ],
      "text/plain": [
       "             area  year  total_emissions  total_deaths  emissions_per_person\n",
       "0     Afghanistan  2000       27123.3505         97916            720.522415\n",
       "1     Afghanistan  2001       28759.7525         97702            684.589758\n",
       "2     Afghanistan  2002       34547.2220         95830            607.871047\n",
       "3     Afghanistan  2003       35964.2146         97756            629.657293\n",
       "4     Afghanistan  2004       35467.5511         97047            664.087321\n",
       "...           ...   ...              ...           ...                   ...\n",
       "2915     Suriname  2015       24131.1282           657             23.847828\n",
       "2916     Suriname  2016       25550.5816           648             22.756938\n",
       "2917     Suriname  2017       25939.3327           626             22.651277\n",
       "2918     Suriname  2018       26664.4259           620             22.266183\n",
       "2919     Suriname  2019       26840.6465           616             22.365370\n",
       "\n",
       "[2829 rows x 5 columns]"
      ]
     },
     "execution_count": 402,
     "metadata": {},
     "output_type": "execute_result"
    }
   ],
   "source": [
    "emissions_per_person_df = cluster_df\n",
    "emissions_per_person_df['emissions_per_person'] = (emissions_per_person_df['population']/emissions_per_person_df['total_emissions'])\n",
    "emissions_per_person_df = emissions_per_person_df.drop(columns='population')\n",
    "emissions_per_person_df = emissions_per_person_df[emissions_per_person_df['emissions_per_person'] > 0]\n",
    "emissions_per_person_df"
   ]
  },
  {
   "cell_type": "code",
   "execution_count": 403,
   "metadata": {},
   "outputs": [],
   "source": [
    "#fig = px.scatter_3d(cluster_df, x='population', y=\"total_emissions\", z=\"total_deaths\", color=\"class\", symbol=\"class\", size=\"population\", width=800)\n",
    "#fig.update_layout(legend=dict(x=0,y=1))\n",
    "#fig.show()"
   ]
  },
  {
   "cell_type": "code",
   "execution_count": 404,
   "metadata": {},
   "outputs": [],
   "source": [
    "#import numpy as np\n",
    "#fig2 = px.scatter_3d(emissions_per_person_df, x='emissions_per_person', y=\"total_emissions\", z=\"total_deaths\", color=\"class\", symbol=\"class\", size=\"class\", width=800)\n",
    "#fig2.update_layout(legend=dict(x=0,y=1), scene = dict(xaxis = dict(nticks=4, range=[0,300],),))\n",
    "#fig2.show()"
   ]
  },
  {
   "cell_type": "code",
   "execution_count": 405,
   "metadata": {},
   "outputs": [],
   "source": [
    "standardized_df = cluster_df\n",
    "standardized_df['per_person2'] = standardized_df['total_emissions']/standardized_df['population']\n"
   ]
  },
  {
   "cell_type": "code",
   "execution_count": 406,
   "metadata": {},
   "outputs": [],
   "source": [
    "standardized_df['death_rate'] = standardized_df['total_deaths']/standardized_df['population']"
   ]
  },
  {
   "cell_type": "code",
   "execution_count": 407,
   "metadata": {},
   "outputs": [
    {
     "data": {
      "text/html": [
       "<div>\n",
       "<style scoped>\n",
       "    .dataframe tbody tr th:only-of-type {\n",
       "        vertical-align: middle;\n",
       "    }\n",
       "\n",
       "    .dataframe tbody tr th {\n",
       "        vertical-align: top;\n",
       "    }\n",
       "\n",
       "    .dataframe thead th {\n",
       "        text-align: right;\n",
       "    }\n",
       "</style>\n",
       "<table border=\"1\" class=\"dataframe\">\n",
       "  <thead>\n",
       "    <tr style=\"text-align: right;\">\n",
       "      <th></th>\n",
       "      <th>area</th>\n",
       "      <th>year</th>\n",
       "      <th>population</th>\n",
       "      <th>total_emissions</th>\n",
       "      <th>total_deaths</th>\n",
       "      <th>emissions_per_person</th>\n",
       "      <th>per_person2</th>\n",
       "      <th>death_rate</th>\n",
       "    </tr>\n",
       "  </thead>\n",
       "  <tbody>\n",
       "    <tr>\n",
       "      <th>0</th>\n",
       "      <td>Afghanistan</td>\n",
       "      <td>2000</td>\n",
       "      <td>19542982.0</td>\n",
       "      <td>27123.3505</td>\n",
       "      <td>97916</td>\n",
       "      <td>720.522415</td>\n",
       "      <td>0.001388</td>\n",
       "      <td>0.005010</td>\n",
       "    </tr>\n",
       "    <tr>\n",
       "      <th>1</th>\n",
       "      <td>Afghanistan</td>\n",
       "      <td>2001</td>\n",
       "      <td>19688632.0</td>\n",
       "      <td>28759.7525</td>\n",
       "      <td>97702</td>\n",
       "      <td>684.589758</td>\n",
       "      <td>0.001461</td>\n",
       "      <td>0.004962</td>\n",
       "    </tr>\n",
       "    <tr>\n",
       "      <th>2</th>\n",
       "      <td>Afghanistan</td>\n",
       "      <td>2002</td>\n",
       "      <td>21000256.0</td>\n",
       "      <td>34547.2220</td>\n",
       "      <td>95830</td>\n",
       "      <td>607.871047</td>\n",
       "      <td>0.001645</td>\n",
       "      <td>0.004563</td>\n",
       "    </tr>\n",
       "    <tr>\n",
       "      <th>3</th>\n",
       "      <td>Afghanistan</td>\n",
       "      <td>2003</td>\n",
       "      <td>22645130.0</td>\n",
       "      <td>35964.2146</td>\n",
       "      <td>97756</td>\n",
       "      <td>629.657293</td>\n",
       "      <td>0.001588</td>\n",
       "      <td>0.004317</td>\n",
       "    </tr>\n",
       "    <tr>\n",
       "      <th>4</th>\n",
       "      <td>Afghanistan</td>\n",
       "      <td>2004</td>\n",
       "      <td>23553551.0</td>\n",
       "      <td>35467.5511</td>\n",
       "      <td>97047</td>\n",
       "      <td>664.087321</td>\n",
       "      <td>0.001506</td>\n",
       "      <td>0.004120</td>\n",
       "    </tr>\n",
       "    <tr>\n",
       "      <th>...</th>\n",
       "      <td>...</td>\n",
       "      <td>...</td>\n",
       "      <td>...</td>\n",
       "      <td>...</td>\n",
       "      <td>...</td>\n",
       "      <td>...</td>\n",
       "      <td>...</td>\n",
       "      <td>...</td>\n",
       "    </tr>\n",
       "    <tr>\n",
       "      <th>2915</th>\n",
       "      <td>Suriname</td>\n",
       "      <td>2015</td>\n",
       "      <td>575475.0</td>\n",
       "      <td>24131.1282</td>\n",
       "      <td>657</td>\n",
       "      <td>23.847828</td>\n",
       "      <td>0.041933</td>\n",
       "      <td>0.001142</td>\n",
       "    </tr>\n",
       "    <tr>\n",
       "      <th>2916</th>\n",
       "      <td>Suriname</td>\n",
       "      <td>2016</td>\n",
       "      <td>581453.0</td>\n",
       "      <td>25550.5816</td>\n",
       "      <td>648</td>\n",
       "      <td>22.756938</td>\n",
       "      <td>0.043943</td>\n",
       "      <td>0.001114</td>\n",
       "    </tr>\n",
       "    <tr>\n",
       "      <th>2917</th>\n",
       "      <td>Suriname</td>\n",
       "      <td>2017</td>\n",
       "      <td>587559.0</td>\n",
       "      <td>25939.3327</td>\n",
       "      <td>626</td>\n",
       "      <td>22.651277</td>\n",
       "      <td>0.044148</td>\n",
       "      <td>0.001065</td>\n",
       "    </tr>\n",
       "    <tr>\n",
       "      <th>2918</th>\n",
       "      <td>Suriname</td>\n",
       "      <td>2018</td>\n",
       "      <td>593715.0</td>\n",
       "      <td>26664.4259</td>\n",
       "      <td>620</td>\n",
       "      <td>22.266183</td>\n",
       "      <td>0.044911</td>\n",
       "      <td>0.001044</td>\n",
       "    </tr>\n",
       "    <tr>\n",
       "      <th>2919</th>\n",
       "      <td>Suriname</td>\n",
       "      <td>2019</td>\n",
       "      <td>600301.0</td>\n",
       "      <td>26840.6465</td>\n",
       "      <td>616</td>\n",
       "      <td>22.365370</td>\n",
       "      <td>0.044712</td>\n",
       "      <td>0.001026</td>\n",
       "    </tr>\n",
       "  </tbody>\n",
       "</table>\n",
       "<p>2829 rows × 8 columns</p>\n",
       "</div>"
      ],
      "text/plain": [
       "             area  year  population  total_emissions  total_deaths  \\\n",
       "0     Afghanistan  2000  19542982.0       27123.3505         97916   \n",
       "1     Afghanistan  2001  19688632.0       28759.7525         97702   \n",
       "2     Afghanistan  2002  21000256.0       34547.2220         95830   \n",
       "3     Afghanistan  2003  22645130.0       35964.2146         97756   \n",
       "4     Afghanistan  2004  23553551.0       35467.5511         97047   \n",
       "...           ...   ...         ...              ...           ...   \n",
       "2915     Suriname  2015    575475.0       24131.1282           657   \n",
       "2916     Suriname  2016    581453.0       25550.5816           648   \n",
       "2917     Suriname  2017    587559.0       25939.3327           626   \n",
       "2918     Suriname  2018    593715.0       26664.4259           620   \n",
       "2919     Suriname  2019    600301.0       26840.6465           616   \n",
       "\n",
       "      emissions_per_person  per_person2  death_rate  \n",
       "0               720.522415     0.001388    0.005010  \n",
       "1               684.589758     0.001461    0.004962  \n",
       "2               607.871047     0.001645    0.004563  \n",
       "3               629.657293     0.001588    0.004317  \n",
       "4               664.087321     0.001506    0.004120  \n",
       "...                    ...          ...         ...  \n",
       "2915             23.847828     0.041933    0.001142  \n",
       "2916             22.756938     0.043943    0.001114  \n",
       "2917             22.651277     0.044148    0.001065  \n",
       "2918             22.266183     0.044911    0.001044  \n",
       "2919             22.365370     0.044712    0.001026  \n",
       "\n",
       "[2829 rows x 8 columns]"
      ]
     },
     "execution_count": 407,
     "metadata": {},
     "output_type": "execute_result"
    }
   ],
   "source": [
    "standardized_df = standardized_df[standardized_df['death_rate']>0]\n",
    "standardized_df = standardized_df[standardized_df['emissions_per_person']>0]\n",
    "standardized_df"
   ]
  },
  {
   "cell_type": "code",
   "execution_count": 408,
   "metadata": {},
   "outputs": [],
   "source": [
    "import numpy as np"
   ]
  },
  {
   "cell_type": "code",
   "execution_count": 409,
   "metadata": {},
   "outputs": [
    {
     "name": "stderr",
     "output_type": "stream",
     "text": [
      "c:\\Users\\kgmon\\anaconda3\\envs\\mlenv\\lib\\site-packages\\pandas\\core\\arraylike.py:364: RuntimeWarning:\n",
      "\n",
      "divide by zero encountered in log\n",
      "\n"
     ]
    },
    {
     "data": {
      "image/png": "[encoded data removed]",
      "text/plain": [
       "<Figure size 640x480 with 1 Axes>"
      ]
     },
     "metadata": {},
     "output_type": "display_data"
    }
   ],
   "source": [
    "plt.scatter(np.log(standardized_df['per_person2']*100000), standardized_df['death_rate'])\n",
    "plt.title('Death Rate vs. Emissions Per 100k Persons')\n",
    "plt.xlabel('Emissions Per Person')\n",
    "plt.ylabel('Death Rate')\n",
    "plt.show()"
   ]
  },
  {
   "cell_type": "code",
   "execution_count": 410,
   "metadata": {},
   "outputs": [],
   "source": [
    "# look per person\n",
    "# total emissions and total deaths, pop as second model"
   ]
  },
  {
   "cell_type": "code",
   "execution_count": null,
   "metadata": {},
   "outputs": [],
   "source": []
  },
  {
   "cell_type": "code",
   "execution_count": 411,
   "metadata": {},
   "outputs": [],
   "source": [
    "# individual types\n",
    "# g20\n",
    "# smaller, nearby years"
   ]
  },
  {
   "cell_type": "code",
   "execution_count": 427,
   "metadata": {},
   "outputs": [
    {
     "data": {
      "text/plain": [
       "(285, 2)"
      ]
     },
     "execution_count": 427,
     "metadata": {},
     "output_type": "execute_result"
    }
   ],
   "source": [
    "from sklearn.linear_model import LinearRegression\n",
    "X = standardized_df[['total_emissions', 'population']]\n",
    "y = standardized_df.death_rate\n",
    "X.shape"
   ]
  },
  {
   "cell_type": "code",
   "execution_count": 428,
   "metadata": {},
   "outputs": [],
   "source": [
    "model = LinearRegression()"
   ]
  },
  {
   "cell_type": "markdown",
   "metadata": {},
   "source": []
  },
  {
   "cell_type": "code",
   "execution_count": 429,
   "metadata": {},
   "outputs": [
    {
     "data": {
      "text/plain": [
       "LinearRegression()"
      ]
     },
     "execution_count": 429,
     "metadata": {},
     "output_type": "execute_result"
    }
   ],
   "source": [
    "model.fit(X, y)"
   ]
  },
  {
   "cell_type": "code",
   "execution_count": 430,
   "metadata": {},
   "outputs": [],
   "source": [
    "y_pred = model.predict(X)\n",
    "\n",
    "from sklearn.model_selection import train_test_split\n",
    "X_train, X_test, y_train, y_test = train_test_split(X, y, test_size=0.33, random_state=42)\n"
   ]
  },
  {
   "cell_type": "code",
   "execution_count": 431,
   "metadata": {},
   "outputs": [
    {
     "data": {
      "text/plain": [
       "LinearRegression()"
      ]
     },
     "execution_count": 431,
     "metadata": {},
     "output_type": "execute_result"
    }
   ],
   "source": [
    "model.fit(X_train, y_train)"
   ]
  },
  {
   "cell_type": "code",
   "execution_count": 432,
   "metadata": {},
   "outputs": [
    {
     "data": {
      "text/html": [
       "<div>\n",
       "<style scoped>\n",
       "    .dataframe tbody tr th:only-of-type {\n",
       "        vertical-align: middle;\n",
       "    }\n",
       "\n",
       "    .dataframe tbody tr th {\n",
       "        vertical-align: top;\n",
       "    }\n",
       "\n",
       "    .dataframe thead th {\n",
       "        text-align: right;\n",
       "    }\n",
       "</style>\n",
       "<table border=\"1\" class=\"dataframe\">\n",
       "  <thead>\n",
       "    <tr style=\"text-align: right;\">\n",
       "      <th></th>\n",
       "      <th>Prediction</th>\n",
       "      <th>Actual</th>\n",
       "    </tr>\n",
       "  </thead>\n",
       "  <tbody>\n",
       "    <tr>\n",
       "      <th>119</th>\n",
       "      <td>0.001282</td>\n",
       "      <td>0.000891</td>\n",
       "    </tr>\n",
       "    <tr>\n",
       "      <th>2578</th>\n",
       "      <td>0.001237</td>\n",
       "      <td>0.000370</td>\n",
       "    </tr>\n",
       "    <tr>\n",
       "      <th>1638</th>\n",
       "      <td>0.001313</td>\n",
       "      <td>0.001113</td>\n",
       "    </tr>\n",
       "    <tr>\n",
       "      <th>2158</th>\n",
       "      <td>0.001247</td>\n",
       "      <td>0.000252</td>\n",
       "    </tr>\n",
       "    <tr>\n",
       "      <th>779</th>\n",
       "      <td>0.001260</td>\n",
       "      <td>0.001087</td>\n",
       "    </tr>\n",
       "    <tr>\n",
       "      <th>...</th>\n",
       "      <td>...</td>\n",
       "      <td>...</td>\n",
       "    </tr>\n",
       "    <tr>\n",
       "      <th>418</th>\n",
       "      <td>0.001248</td>\n",
       "      <td>0.001749</td>\n",
       "    </tr>\n",
       "    <tr>\n",
       "      <th>2378</th>\n",
       "      <td>0.001523</td>\n",
       "      <td>0.002166</td>\n",
       "    </tr>\n",
       "    <tr>\n",
       "      <th>999</th>\n",
       "      <td>0.001247</td>\n",
       "      <td>0.000312</td>\n",
       "    </tr>\n",
       "    <tr>\n",
       "      <th>599</th>\n",
       "      <td>0.001241</td>\n",
       "      <td>0.000234</td>\n",
       "    </tr>\n",
       "    <tr>\n",
       "      <th>2899</th>\n",
       "      <td>0.001275</td>\n",
       "      <td>0.001298</td>\n",
       "    </tr>\n",
       "  </tbody>\n",
       "</table>\n",
       "<p>95 rows × 2 columns</p>\n",
       "</div>"
      ],
      "text/plain": [
       "      Prediction    Actual\n",
       "119     0.001282  0.000891\n",
       "2578    0.001237  0.000370\n",
       "1638    0.001313  0.001113\n",
       "2158    0.001247  0.000252\n",
       "779     0.001260  0.001087\n",
       "...          ...       ...\n",
       "418     0.001248  0.001749\n",
       "2378    0.001523  0.002166\n",
       "999     0.001247  0.000312\n",
       "599     0.001241  0.000234\n",
       "2899    0.001275  0.001298\n",
       "\n",
       "[95 rows x 2 columns]"
      ]
     },
     "execution_count": 432,
     "metadata": {},
     "output_type": "execute_result"
    }
   ],
   "source": [
    "predictions = model.predict(X_test)\n",
    "pd.DataFrame({\"Prediction\": predictions, \"Actual\": y_test})"
   ]
  },
  {
   "cell_type": "code",
   "execution_count": 433,
   "metadata": {},
   "outputs": [
    {
     "name": "stdout",
     "output_type": "stream",
     "text": [
      "(285,)\n"
     ]
    }
   ],
   "source": [
    "y_pred = model.predict(X)\n",
    "print(y_pred.shape)"
   ]
  },
  {
   "cell_type": "code",
   "execution_count": 439,
   "metadata": {},
   "outputs": [
    {
     "name": "stdout",
     "output_type": "stream",
     "text": [
      "7.46425628551799e-07\n",
      "0.02831918039145065\n"
     ]
    }
   ],
   "source": [
    "from sklearn.metrics import accuracy_score\n",
    "from sklearn.metrics import r2_score\n",
    "from sklearn.metrics import mean_squared_error\n",
    "print(mean_squared_error(y_test, predictions))\n",
    "print(r2_score(y_test, predictions))"
   ]
  },
  {
   "cell_type": "code",
   "execution_count": 420,
   "metadata": {},
   "outputs": [
    {
     "data": {
      "text/html": [
       "<div>\n",
       "<style scoped>\n",
       "    .dataframe tbody tr th:only-of-type {\n",
       "        vertical-align: middle;\n",
       "    }\n",
       "\n",
       "    .dataframe tbody tr th {\n",
       "        vertical-align: top;\n",
       "    }\n",
       "\n",
       "    .dataframe thead th {\n",
       "        text-align: right;\n",
       "    }\n",
       "</style>\n",
       "<table border=\"1\" class=\"dataframe\">\n",
       "  <thead>\n",
       "    <tr style=\"text-align: right;\">\n",
       "      <th></th>\n",
       "      <th>area</th>\n",
       "      <th>year</th>\n",
       "      <th>population</th>\n",
       "      <th>total_emissions</th>\n",
       "      <th>total_deaths</th>\n",
       "      <th>emissions_per_person</th>\n",
       "      <th>per_person2</th>\n",
       "      <th>death_rate</th>\n",
       "    </tr>\n",
       "  </thead>\n",
       "  <tbody>\n",
       "    <tr>\n",
       "      <th>0</th>\n",
       "      <td>Afghanistan</td>\n",
       "      <td>2000</td>\n",
       "      <td>19542982.0</td>\n",
       "      <td>27123.3505</td>\n",
       "      <td>97916</td>\n",
       "      <td>720.522415</td>\n",
       "      <td>0.001388</td>\n",
       "      <td>0.005010</td>\n",
       "    </tr>\n",
       "    <tr>\n",
       "      <th>1</th>\n",
       "      <td>Afghanistan</td>\n",
       "      <td>2001</td>\n",
       "      <td>19688632.0</td>\n",
       "      <td>28759.7525</td>\n",
       "      <td>97702</td>\n",
       "      <td>684.589758</td>\n",
       "      <td>0.001461</td>\n",
       "      <td>0.004962</td>\n",
       "    </tr>\n",
       "    <tr>\n",
       "      <th>2</th>\n",
       "      <td>Afghanistan</td>\n",
       "      <td>2002</td>\n",
       "      <td>21000256.0</td>\n",
       "      <td>34547.2220</td>\n",
       "      <td>95830</td>\n",
       "      <td>607.871047</td>\n",
       "      <td>0.001645</td>\n",
       "      <td>0.004563</td>\n",
       "    </tr>\n",
       "    <tr>\n",
       "      <th>3</th>\n",
       "      <td>Afghanistan</td>\n",
       "      <td>2003</td>\n",
       "      <td>22645130.0</td>\n",
       "      <td>35964.2146</td>\n",
       "      <td>97756</td>\n",
       "      <td>629.657293</td>\n",
       "      <td>0.001588</td>\n",
       "      <td>0.004317</td>\n",
       "    </tr>\n",
       "    <tr>\n",
       "      <th>4</th>\n",
       "      <td>Afghanistan</td>\n",
       "      <td>2004</td>\n",
       "      <td>23553551.0</td>\n",
       "      <td>35467.5511</td>\n",
       "      <td>97047</td>\n",
       "      <td>664.087321</td>\n",
       "      <td>0.001506</td>\n",
       "      <td>0.004120</td>\n",
       "    </tr>\n",
       "    <tr>\n",
       "      <th>...</th>\n",
       "      <td>...</td>\n",
       "      <td>...</td>\n",
       "      <td>...</td>\n",
       "      <td>...</td>\n",
       "      <td>...</td>\n",
       "      <td>...</td>\n",
       "      <td>...</td>\n",
       "      <td>...</td>\n",
       "    </tr>\n",
       "    <tr>\n",
       "      <th>2915</th>\n",
       "      <td>Suriname</td>\n",
       "      <td>2015</td>\n",
       "      <td>575475.0</td>\n",
       "      <td>24131.1282</td>\n",
       "      <td>657</td>\n",
       "      <td>23.847828</td>\n",
       "      <td>0.041933</td>\n",
       "      <td>0.001142</td>\n",
       "    </tr>\n",
       "    <tr>\n",
       "      <th>2916</th>\n",
       "      <td>Suriname</td>\n",
       "      <td>2016</td>\n",
       "      <td>581453.0</td>\n",
       "      <td>25550.5816</td>\n",
       "      <td>648</td>\n",
       "      <td>22.756938</td>\n",
       "      <td>0.043943</td>\n",
       "      <td>0.001114</td>\n",
       "    </tr>\n",
       "    <tr>\n",
       "      <th>2917</th>\n",
       "      <td>Suriname</td>\n",
       "      <td>2017</td>\n",
       "      <td>587559.0</td>\n",
       "      <td>25939.3327</td>\n",
       "      <td>626</td>\n",
       "      <td>22.651277</td>\n",
       "      <td>0.044148</td>\n",
       "      <td>0.001065</td>\n",
       "    </tr>\n",
       "    <tr>\n",
       "      <th>2918</th>\n",
       "      <td>Suriname</td>\n",
       "      <td>2018</td>\n",
       "      <td>593715.0</td>\n",
       "      <td>26664.4259</td>\n",
       "      <td>620</td>\n",
       "      <td>22.266183</td>\n",
       "      <td>0.044911</td>\n",
       "      <td>0.001044</td>\n",
       "    </tr>\n",
       "    <tr>\n",
       "      <th>2919</th>\n",
       "      <td>Suriname</td>\n",
       "      <td>2019</td>\n",
       "      <td>600301.0</td>\n",
       "      <td>26840.6465</td>\n",
       "      <td>616</td>\n",
       "      <td>22.365370</td>\n",
       "      <td>0.044712</td>\n",
       "      <td>0.001026</td>\n",
       "    </tr>\n",
       "  </tbody>\n",
       "</table>\n",
       "<p>2829 rows × 8 columns</p>\n",
       "</div>"
      ],
      "text/plain": [
       "             area  year  population  total_emissions  total_deaths  \\\n",
       "0     Afghanistan  2000  19542982.0       27123.3505         97916   \n",
       "1     Afghanistan  2001  19688632.0       28759.7525         97702   \n",
       "2     Afghanistan  2002  21000256.0       34547.2220         95830   \n",
       "3     Afghanistan  2003  22645130.0       35964.2146         97756   \n",
       "4     Afghanistan  2004  23553551.0       35467.5511         97047   \n",
       "...           ...   ...         ...              ...           ...   \n",
       "2915     Suriname  2015    575475.0       24131.1282           657   \n",
       "2916     Suriname  2016    581453.0       25550.5816           648   \n",
       "2917     Suriname  2017    587559.0       25939.3327           626   \n",
       "2918     Suriname  2018    593715.0       26664.4259           620   \n",
       "2919     Suriname  2019    600301.0       26840.6465           616   \n",
       "\n",
       "      emissions_per_person  per_person2  death_rate  \n",
       "0               720.522415     0.001388    0.005010  \n",
       "1               684.589758     0.001461    0.004962  \n",
       "2               607.871047     0.001645    0.004563  \n",
       "3               629.657293     0.001588    0.004317  \n",
       "4               664.087321     0.001506    0.004120  \n",
       "...                    ...          ...         ...  \n",
       "2915             23.847828     0.041933    0.001142  \n",
       "2916             22.756938     0.043943    0.001114  \n",
       "2917             22.651277     0.044148    0.001065  \n",
       "2918             22.266183     0.044911    0.001044  \n",
       "2919             22.365370     0.044712    0.001026  \n",
       "\n",
       "[2829 rows x 8 columns]"
      ]
     },
     "execution_count": 420,
     "metadata": {},
     "output_type": "execute_result"
    }
   ],
   "source": [
    "standardized_df"
   ]
  },
  {
   "cell_type": "code",
   "execution_count": 421,
   "metadata": {},
   "outputs": [
    {
     "data": {
      "text/html": [
       "<div>\n",
       "<style scoped>\n",
       "    .dataframe tbody tr th:only-of-type {\n",
       "        vertical-align: middle;\n",
       "    }\n",
       "\n",
       "    .dataframe tbody tr th {\n",
       "        vertical-align: top;\n",
       "    }\n",
       "\n",
       "    .dataframe thead th {\n",
       "        text-align: right;\n",
       "    }\n",
       "</style>\n",
       "<table border=\"1\" class=\"dataframe\">\n",
       "  <thead>\n",
       "    <tr style=\"text-align: right;\">\n",
       "      <th></th>\n",
       "      <th>area</th>\n",
       "      <th>year</th>\n",
       "      <th>population</th>\n",
       "      <th>total_emissions</th>\n",
       "      <th>total_deaths</th>\n",
       "      <th>emissions_per_person</th>\n",
       "      <th>per_person2</th>\n",
       "      <th>death_rate</th>\n",
       "    </tr>\n",
       "  </thead>\n",
       "  <tbody>\n",
       "    <tr>\n",
       "      <th>18</th>\n",
       "      <td>Afghanistan</td>\n",
       "      <td>2018</td>\n",
       "      <td>36686784.0</td>\n",
       "      <td>62370.3335</td>\n",
       "      <td>74580</td>\n",
       "      <td>588.208880</td>\n",
       "      <td>0.001700</td>\n",
       "      <td>0.002033</td>\n",
       "    </tr>\n",
       "    <tr>\n",
       "      <th>19</th>\n",
       "      <td>Afghanistan</td>\n",
       "      <td>2019</td>\n",
       "      <td>37769499.0</td>\n",
       "      <td>64118.2639</td>\n",
       "      <td>74355</td>\n",
       "      <td>589.059914</td>\n",
       "      <td>0.001698</td>\n",
       "      <td>0.001969</td>\n",
       "    </tr>\n",
       "    <tr>\n",
       "      <th>38</th>\n",
       "      <td>Albania</td>\n",
       "      <td>2018</td>\n",
       "      <td>2866376.0</td>\n",
       "      <td>18820.4739</td>\n",
       "      <td>4541</td>\n",
       "      <td>152.300947</td>\n",
       "      <td>0.006566</td>\n",
       "      <td>0.001584</td>\n",
       "    </tr>\n",
       "    <tr>\n",
       "      <th>39</th>\n",
       "      <td>Albania</td>\n",
       "      <td>2019</td>\n",
       "      <td>2854191.0</td>\n",
       "      <td>18590.5588</td>\n",
       "      <td>4556</td>\n",
       "      <td>153.529059</td>\n",
       "      <td>0.006513</td>\n",
       "      <td>0.001596</td>\n",
       "    </tr>\n",
       "    <tr>\n",
       "      <th>58</th>\n",
       "      <td>Algeria</td>\n",
       "      <td>2018</td>\n",
       "      <td>41927007.0</td>\n",
       "      <td>566302.4784</td>\n",
       "      <td>43039</td>\n",
       "      <td>74.036418</td>\n",
       "      <td>0.013507</td>\n",
       "      <td>0.001027</td>\n",
       "    </tr>\n",
       "    <tr>\n",
       "      <th>...</th>\n",
       "      <td>...</td>\n",
       "      <td>...</td>\n",
       "      <td>...</td>\n",
       "      <td>...</td>\n",
       "      <td>...</td>\n",
       "      <td>...</td>\n",
       "      <td>...</td>\n",
       "      <td>...</td>\n",
       "    </tr>\n",
       "    <tr>\n",
       "      <th>2879</th>\n",
       "      <td>Spain</td>\n",
       "      <td>2019</td>\n",
       "      <td>47134837.0</td>\n",
       "      <td>646443.5616</td>\n",
       "      <td>23737</td>\n",
       "      <td>72.914079</td>\n",
       "      <td>0.013715</td>\n",
       "      <td>0.000504</td>\n",
       "    </tr>\n",
       "    <tr>\n",
       "      <th>2898</th>\n",
       "      <td>Sri Lanka</td>\n",
       "      <td>2018</td>\n",
       "      <td>21670000.0</td>\n",
       "      <td>77223.9525</td>\n",
       "      <td>28037</td>\n",
       "      <td>280.612418</td>\n",
       "      <td>0.003564</td>\n",
       "      <td>0.001294</td>\n",
       "    </tr>\n",
       "    <tr>\n",
       "      <th>2899</th>\n",
       "      <td>Sri Lanka</td>\n",
       "      <td>2019</td>\n",
       "      <td>21803000.0</td>\n",
       "      <td>82059.2177</td>\n",
       "      <td>28295</td>\n",
       "      <td>265.698365</td>\n",
       "      <td>0.003764</td>\n",
       "      <td>0.001298</td>\n",
       "    </tr>\n",
       "    <tr>\n",
       "      <th>2918</th>\n",
       "      <td>Suriname</td>\n",
       "      <td>2018</td>\n",
       "      <td>593715.0</td>\n",
       "      <td>26664.4259</td>\n",
       "      <td>620</td>\n",
       "      <td>22.266183</td>\n",
       "      <td>0.044911</td>\n",
       "      <td>0.001044</td>\n",
       "    </tr>\n",
       "    <tr>\n",
       "      <th>2919</th>\n",
       "      <td>Suriname</td>\n",
       "      <td>2019</td>\n",
       "      <td>600301.0</td>\n",
       "      <td>26840.6465</td>\n",
       "      <td>616</td>\n",
       "      <td>22.365370</td>\n",
       "      <td>0.044712</td>\n",
       "      <td>0.001026</td>\n",
       "    </tr>\n",
       "  </tbody>\n",
       "</table>\n",
       "<p>285 rows × 8 columns</p>\n",
       "</div>"
      ],
      "text/plain": [
       "             area  year  population  total_emissions  total_deaths  \\\n",
       "18    Afghanistan  2018  36686784.0       62370.3335         74580   \n",
       "19    Afghanistan  2019  37769499.0       64118.2639         74355   \n",
       "38        Albania  2018   2866376.0       18820.4739          4541   \n",
       "39        Albania  2019   2854191.0       18590.5588          4556   \n",
       "58        Algeria  2018  41927007.0      566302.4784         43039   \n",
       "...           ...   ...         ...              ...           ...   \n",
       "2879        Spain  2019  47134837.0      646443.5616         23737   \n",
       "2898    Sri Lanka  2018  21670000.0       77223.9525         28037   \n",
       "2899    Sri Lanka  2019  21803000.0       82059.2177         28295   \n",
       "2918     Suriname  2018    593715.0       26664.4259           620   \n",
       "2919     Suriname  2019    600301.0       26840.6465           616   \n",
       "\n",
       "      emissions_per_person  per_person2  death_rate  \n",
       "18              588.208880     0.001700    0.002033  \n",
       "19              589.059914     0.001698    0.001969  \n",
       "38              152.300947     0.006566    0.001584  \n",
       "39              153.529059     0.006513    0.001596  \n",
       "58               74.036418     0.013507    0.001027  \n",
       "...                    ...          ...         ...  \n",
       "2879             72.914079     0.013715    0.000504  \n",
       "2898            280.612418     0.003564    0.001294  \n",
       "2899            265.698365     0.003764    0.001298  \n",
       "2918             22.266183     0.044911    0.001044  \n",
       "2919             22.365370     0.044712    0.001026  \n",
       "\n",
       "[285 rows x 8 columns]"
      ]
     },
     "execution_count": 421,
     "metadata": {},
     "output_type": "execute_result"
    }
   ],
   "source": [
    "standardized_df = standardized_df.loc[standardized_df['year'] >= 2018]\n",
    "standardized_df"
   ]
  },
  {
   "cell_type": "code",
   "execution_count": 426,
   "metadata": {},
   "outputs": [
    {
     "data": {
      "application/vnd.plotly.v1+json": {
       "config": {
        "plotlyServerURL": "https://plot.ly"
       },
       "data": [
        {
         "hovertemplate": "per_person2=%{x}<br>total_emissions=%{y}<br>death_rate=%{z}<extra></extra>",
         "legendgroup": "",
         "marker": {
          "color": "#636efa",
          "symbol": "circle"
         },
         "mode": "markers",
         "name": "",
         "scene": "scene",
         "showlegend": false,
         "type": "scatter3d",
         "x": [
          0.0017000763408425224,
          0.0016976201855364826,
          0.00656594734954521,
          0.006513424924961224,
          0.013506866311730766,
          0.013367466417804898,
          0.014287842107368052,
          0.013515760449550055,
          0.009586814869941304,
          0.009821886311342036,
          0.013634378888088534,
          0.01396326302419749,
          0.018480057172007455,
          0.017791407771099447,
          0.007712923907399004,
          0.007475233159446103,
          0.05004161964425895,
          0.04867400849803299,
          0.02096537433710072,
          0.02167377372769124,
          0.011347650524343065,
          0.011938038860235691,
          0.07510167426412254,
          0.07796996904004047,
          0.002979987591697898,
          0.003069669953558993,
          0.01062922399244873,
          0.010899075951174246,
          0.023853068927833402,
          0.02447045553611887,
          0.024492211807172697,
          0.02362457868322514,
          0.033823577340040725,
          0.03411790565286112,
          0.0047020345234858015,
          0.004695975393565928,
          0.000013320191495353423,
          0.000007957941512415705,
          0.00428045429972077,
          0.004695709738240088,
          0.01717068634748858,
          0.017315172295386302,
          0.04462283131864164,
          0.042283077182800194,
          0.01555249876393295,
          0.01559177969004652,
          0.008414854128170429,
          0.00815539151929087,
          0.005860626621564957,
          0.005778114361363329,
          0.0016852623993863648,
          0.0015485186913707792,
          0.009636176848044315,
          0.009923122604463324,
          0.005985975202445517,
          0.005896504541616294,
          0.04655690819694352,
          0.045420022177466005,
          0.022276750105009444,
          0.021064995055020574,
          0.013655330446078334,
          0.013546282786748524,
          0.006756838164955125,
          0.006727035069488488,
          0.018405184271935333,
          0.018864994708700795,
          0.011869960611004399,
          0.01208443879725523,
          0.0024781246739395066,
          0.0023625518024339245,
          0.0034941374609332686,
          0.0038302208541513756,
          0.010638536362575569,
          0.010784360358383599,
          0.0074874764173511795,
          0.007606476103407204,
          0.014056001119105108,
          0.013903855030288827,
          0.023123625446945642,
          0.022237489793260224,
          0.017614900176676614,
          0.016451906380376243,
          0.0034974380390428283,
          0.003438382058000324,
          0.006665093260663908,
          0.006708414067312538,
          0.0073114733588152785,
          0.00740197342702301,
          0.011536369007348049,
          0.011325720888343573,
          0.004149349095380717,
          0.004248916972136471,
          0.02909589119434175,
          0.028720666232676623,
          0.004511762206367146,
          0.004457592049657912,
          0.04736007918443361,
          0.041343608551674654,
          0.004089177527601885,
          0.0039455348051022,
          0.0037039130018816434,
          0.003807770609746388,
          0.0018031069776147015,
          0.0024958927122971475,
          0.03295867669895432,
          0.0314211236549656,
          0.01227263397545157,
          0.011856400313759122,
          0.022543726813539344,
          0.021367878641956314,
          0.007830272458513225,
          0.008013695159967539,
          0.02056092205486947,
          0.019143520073336657,
          0.0011483918134385354,
          0.0011622129610507359,
          0.01642633646768873,
          0.015756024885133557,
          0.000004353935082258781,
          0.005982413532723781,
          0.006131750920765294,
          0.005149050960576743,
          0.005331599836087947,
          0.006583740723913855,
          0.006649070105708863,
          0.005165414568132762,
          0.005091130636192517,
          0.045807797187574,
          0.045327881084640684,
          0.0029101433463177622,
          0.003018354575331183,
          0.005857950800839388,
          0.005920365647406939,
          0.014957029108499517,
          0.014941712569698874,
          0.03387454758860403,
          0.031388796132714676,
          0.005577104776546099,
          0.005583700636040297,
          0.01287939317498878,
          0.01486602049964019,
          0.02074533717329339,
          0.019410951033502453,
          0.03103938061551787,
          0.029719701277171814,
          0.020443258893592112,
          0.020302829887342607,
          0.013696136496189453,
          0.013555123063085466,
          0.007040695311069106,
          0.0071969421484959885,
          0.0210518896120999,
          0.02052604327860826,
          0.00534894595675948,
          0.005318567780725907,
          0.04034292188658936,
          0.039444189805015996,
          0.003210178301719542,
          0.0034568625034223756,
          0.0017423127571343272,
          0.0018243534742959247,
          0.06990305268363528,
          0.06969632266780751,
          0.014327608352956194,
          0.014931630527812932,
          0.008178710917905861,
          0.00850893213951729,
          0.004348010820662442,
          0.004180908809894587,
          0.007361340543229207,
          0.007400973544362222,
          0.023447775206771812,
          0.02114717115983223,
          0.023776258511827228,
          0.02386725543522025,
          0.03445280384900075,
          0.03412802576124878,
          0.003488359554402185,
          0.0034736454593218484,
          0.002424242189478232,
          0.0024658223786430487,
          0.02534041029194762,
          0.025391969060499297,
          0.007196513584259982,
          0.00728253585671585,
          0.0044468820472133,
          0.004454495594586858,
          0.011740927099023997,
          0.01123518535418262,
          0.007455354541303355,
          0.008358372831336077,
          0.00664798000895401,
          0.006700211754556327,
          0.008817384768707576,
          0.008969686128982048,
          0.013341353391134236,
          0.012992857298807848,
          0.007104847551918768,
          0.006595161203218664,
          0.0679583063921484,
          0.0699798042030299,
          0.005591738787582586,
          0.005833737536775148,
          0.00847233619239449,
          0.007769578197159408,
          0.009616663340043165,
          0.009656376780696125,
          0.01898187863722523,
          0.018000692213497343,
          0.009348683327742368,
          0.009996117705242334,
          0.0036869787929242766,
          0.0038294028203454877,
          0.025682912132948117,
          0.02528346792256894,
          0.03324240856221687,
          0.03304804699550129,
          0.012000930490443661,
          0.012055850441871786,
          0.003598370921490303,
          0.0036129434378376884,
          0.0048825328674863945,
          0.004757507075642972,
          0.009688367738054354,
          0.010600007319325812,
          0.03858641857506361,
          0.03893158971479001,
          0.02662794995252183,
          0.025756893701747385,
          0.050566028848830845,
          0.05121393472362717,
          0.004892448431569516,
          0.004974686273586021,
          0.03319913793103448,
          0.035567169010939946,
          0.010085358399425724,
          0.010416973669661564,
          0.011342859788919276,
          0.01080009749031856,
          0.027492925783073593,
          0.02782815826460722,
          0.012037168068606751,
          0.012045710265155427,
          0.004716703633996775,
          0.0047608326253901915,
          0.023495880768141988,
          0.022037677134291087,
          0.018299575119055934,
          0.01829196106496597,
          0.14366661617388313,
          0.15529032008364102,
          0.009417543864964361,
          0.00915523144959066,
          0.0014017122110393007,
          0.0013958562614744588,
          0.006501251782299561,
          0.006185539274674972,
          0.01169089764609439,
          0.010730133419158521,
          0.004058949390567038,
          0.004012182256208091,
          0.04398793733235293,
          0.0423479710674763,
          0.004031836962899752,
          0.004146140697757191,
          0.010755356441578306,
          0.010302876312419974,
          0.0030205454174707658,
          0.0026929228883729086,
          0.02102847164830893,
          0.020813912534414857,
          0.018754750387435425,
          0.018016442705727158,
          0.13946911652501562,
          0.13631010528998078,
          0.006372074519823186,
          0.006215038088265661,
          0.02166251348303839,
          0.02188868785308534,
          0.014580821474893858,
          0.013714772400719239,
          0.0035636341716658968,
          0.003763666362427189,
          0.04491115417329864,
          0.04471198032320453
         ],
         "y": [
          62370.3335,
          64118.2639,
          18820.4739,
          18590.558800000003,
          566302.4784,
          570862.5726,
          1071.7738999999997,
          1031.8337,
          299813.57120000006,
          317773.2630999999,
          1249.2636,
          1286.2539000000002,
          822260.9408,
          799522.9499,
          21878.148299999997,
          21084.6576,
          1249371.2528000001,
          1233409.9376,
          185344.8321,
          192461.3768,
          112793.04759999999,
          119670.28000000001,
          111701.72420000001,
          116501.79209999999,
          487776.1637999999,
          508080.1735,
          2972.8664000000003,
          3053.7031,
          225143.98919999998,
          230505.7693,
          279873.8269,
          271422.312,
          12922.8389,
          13275.1065,
          56145.50370000001,
          57715.622599999995,
          0.8514,
          0.5086,
          3262.1171,
          3603.7646999999997,
          58382.548599999995,
          58191.28999999999,
          109388.8103,
          105695.09260000002,
          3268615.6623000004,
          3302071.9759,
          59114.6616,
          56890.062099999996,
          119514.13530000001,
          121060.96620000001,
          19369.516200000002,
          18388.408600000002,
          154422.0274,
          160831.45070000002,
          150108.7857,
          152025.69079999998,
          1725635.7131,
          1707848.7005,
          113495.14090000001,
          109734.3843,
          213080.6439,
          218459.0873,
          126362.67110000002,
          128079.28330000002,
          25818056.289300006,
          26557101.976200003,
          584915.5861,
          606486.6362,
          1923.8004,
          1868.7454000000002,
          17613.017499999998,
          19474.880500000003,
          43488.6664,
          43841.1533,
          84819.9598,
          86080.1853,
          17131.8899,
          17085.5576,
          245802.4736,
          237315.6002,
          102054.3198,
          95658.32639999999,
          3697.4845,
          3692.8017,
          472.0419,
          479.16859999999997,
          78711.8931,
          80547.4014,
          196299.0711,
          196430.35839999997,
          26042.734,
          26684.120599999995,
          43704.67629999999,
          44604.08500000001,
          15544.7082,
          15596.303299999998,
          62608.93539999999,
          54858.7515,
          4745.1961,
          4614.748799999999,
          411613.7703,
          434545.0438,
          1657.0481000000002,
          2292.3900999999996,
          181784.4053,
          173495.06489999997,
          824209.8234,
          798979.1162,
          49416.1197,
          47923.55769999999,
          29179.894,
          29812.2362,
          1704619.3216000001,
          1590691.786,
          35451.591400000005,
          36635.614,
          176301.93099999998,
          168929.5128,
          0.2448,
          728.8853,
          752.5129999999999,
          84171.27859999999,
          88526.02230000001,
          82657.9694,
          85623.6596,
          9943.190600000002,
          10031.854,
          35982.666000000005,
          36205.781,
          32047.7237,
          33686.1591,
          57366.0335,
          58959.909100000004,
          146213.39529999997,
          145997.58030000003,
          11948.264300000003,
          11317.638500000001,
          7635074.877000001,
          7722883.6333,
          3439658.875,
          4007624.5907,
          842067.7576,
          806787.4515,
          151078.47389999998,
          146647.11079999997,
          181593.3801,
          183821.82179999998,
          827544.6723000001,
          809635.0434,
          19797.2735,
          20250.561500000003,
          2669611.1736000003,
          2599274.4384999997,
          55949.25259999999,
          56901.670699999995,
          737325.4753999999,
          730256.8317999999,
          160359.0126,
          176132.157,
          213.0169,
          226.65949999999998,
          301784.4105,
          309528.3385999999,
          27611.7943,
          28576.483,
          48670.1919,
          49197.8543,
          9557.001699999999,
          9305.457100000001,
          35992.4722,
          36895.992,
          151889.8341,
          138917.62829999998,
          66610.21059999999,
          66688.3815,
          20945.582100000007,
          21159.410100000005,
          93650.3878,
          95640.3459,
          44528.1969,
          46523.501800000005,
          821010.8203,
          832958.6609000001,
          3524.5501000000004,
          3674.0976,
          88645.4719,
          91617.49960000001,
          5690.0055,
          5663.2300000000005,
          342.8643,
          373.85330000000005,
          28391.607999999997,
          29372.7166,
          11156.663400000001,
          11353.030399999998,
          1654512.7449999999,
          1625215.5959999997,
          263.08540000000005,
          244.24519999999998,
          215019.4698,
          226204.81849999996,
          200897.2568,
          211790.3877,
          249288.98649999997,
          235306.29859999998,
          506471.32610000006,
          512176.2716,
          45664.3258,
          44041.285599999996,
          111.4737,
          121.27289999999999,
          105103.64259999999,
          110411.24149999999,
          442558.2851,
          438538.5654,
          162907.7474,
          164552.83560000002,
          78872.91140000001,
          80339.2711,
          81240.62900000002,
          84699.6529,
          968634.0897999998,
          967222.5592,
          20115.153799999996,
          22012.971599999997,
          1941.0512,
          1941.0512,
          141445.43339999995,
          137745.18880000003,
          232662.2376,
          235725.85989999998,
          1075024.9298,
          1110814.015,
          593.0694,
          637.2214,
          42008.089499999995,
          44090.174399999996,
          105820.1138,
          103059.7791,
          177145.93850000002,
          181718.59700000004,
          387644.2864,
          395398.7651,
          512087.02329999994,
          525504.5329000001,
          892250.1982,
          836670.8803,
          188189.5732,
          188155.92230000003,
          397487.0243,
          435936.4217,
          183396.96670000002,
          177351.921,
          17565.988299999997,
          17915.8542,
          1363.3190000000002,
          1310.7467,
          399.3143,
          366.73449999999997,
          857.8346,
          861.0103,
          1540375.4399,
          1517216.0894,
          62795.493800000004,
          66341.4893,
          1040.7098,
          1005.8182999999999,
          23745.3563,
          21669.487299999997,
          118572.7384,
          118713.58630000001,
          38895.3643,
          37625.26870000001,
          91944.87560000001,
          92008.3669,
          98200.63939999999,
          99324.38820000002,
          1242120.6162999999,
          1271449.4152,
          682349.6965,
          646443.5616,
          77223.95249999998,
          82059.21770000001,
          26664.425900000002,
          26840.646500000003
         ],
         "z": [
          0.0020328846485971625,
          0.0019686520067422656,
          0.001584230401036012,
          0.0015962491648246386,
          0.00102652211735505,
          0.001041016670316481,
          0.00034660658819138016,
          0.0003667657807526558,
          0.0009238163145814065,
          0.0008908749162534925,
          0.0006439220308646018,
          0.0006513455713929025,
          0.0006170425280858296,
          0.0006143033204867999,
          0.002345801617947392,
          0.0023427622897523293,
          0.0001452738359738632,
          0.00015063012285964245,
          0.0005833366608144475,
          0.0006004558599627023,
          0.001722373684464159,
          0.001727106068334264,
          0.0008027754245834846,
          0.0008586603559926863,
          0.0021117219074089106,
          0.0021279847723928835,
          0.001172735333657504,
          0.0012491969448211863,
          0.0018104025041358607,
          0.001820535092302796,
          0.0006556370522096071,
          0.0006615034580963672,
          0.000628163720404328,
          0.0006399465426181267,
          0.002063198562427292,
          0.00199732409992674,
          0.0003129009042836134,
          0.00031293517547839963,
          0.0017491234700090278,
          0.0017564456211993083,
          0.002863420770211954,
          0.0028848062210645306,
          0.0012984369397354746,
          0.001279352498817859,
          0.0005724982208399706,
          0.0005769493792600174,
          0.0031628303167655913,
          0.003161088804504627,
          0.002721460983900973,
          0.0026498642898534095,
          0.0018922915547190614,
          0.0018619201373526106,
          0.0021818708714341716,
          0.00217914323188431,
          0.0017843223445210019,
          0.0017447213191385531,
          0.00023712343401137306,
          0.00023355618951826843,
          0.00313045901883889,
          0.003053563187853165,
          0.0027621391919232055,
          0.002697920352286675,
          0.0006380253937528908,
          0.000657003064946347,
          0.002630068579086943,
          0.0026483539277354917,
          0.000624307980356175,
          0.0006270696676373351,
          0.0016758704285513705,
          0.001634668628774719,
          0.0004162092266721474,
          0.0004208843606451882,
          0.001639740078080298,
          0.0016734505822884823,
          0.0011235633695743136,
          0.0010871546706605294,
          0.0007080555056443428,
          0.000749489761042157,
          0.001246292543091543,
          0.0012414881365683803,
          0.0005238506526816666,
          0.000506327198129066,
          0.0012287196911080045,
          0.0012281260416724862,
          0.00101661889499174,
          0.0010360082880663045,
          0.0008882051428768353,
          0.0008764109002468507,
          0.0005450269610274575,
          0.0005496507673662082,
          0.0008221349314616699,
          0.0008217868904848352,
          0.000635780388804673,
          0.0006265167920022201,
          0.0030835549348198483,
          0.0030570324035145585,
          0.0003003077965804246,
          0.00031200589645926063,
          0.0014365389321870897,
          0.0014261127398549776,
          0.001405163229566589,
          0.0013538660690812737,
          0.0013950006311235304,
          0.001379475537990016,
          0.00013271628720747344,
          0.00015104301176143317,
          0.00041963509882643333,
          0.00042661897627739397,
          0.0007983532936863485,
          0.0007990065922502602,
          0.00262307029908905,
          0.002578383032347256,
          0.0006961275632138661,
          0.0007062330982977837,
          0.0015470362277219965,
          0.0015140397477467532,
          0.0011423772291542943,
          0.001164566945437716,
          0.00024899955535793685,
          0.0008700077151627571,
          0.000871875101854568,
          0.0010916409483114587,
          0.0010931083822682524,
          0.0026679699596905233,
          0.0025287440403014894,
          0.002099789345724965,
          0.002033030916178328,
          0.001208126144155292,
          0.00116681877877141,
          0.0025416754408499275,
          0.002516209489269149,
          0.001153800987455133,
          0.001152444730198701,
          0.001826083896540394,
          0.0017690871516438049,
          0.00010206367071991745,
          0.00010539073615429204,
          0.0024630473755773387,
          0.0024740511804520826,
          0.0013854471631283708,
          0.001384587191772617,
          0.0012139480225766002,
          0.0012349050321050767,
          0.00021387557331391675,
          0.000223940790460325,
          0.0005443103525915252,
          0.0005455047492820853,
          0.0009076034858964717,
          0.0009405133824175196,
          0.0008165486239413053,
          0.0008255818788509236,
          0.0006606682385597464,
          0.0006744055656898281,
          0.0005694146148157744,
          0.0005868011978670646,
          0.0013294702932494776,
          0.0013053595577711672,
          0.0011134999198451417,
          0.0010909601198788258,
          0.0025028422800402418,
          0.0024549061903880363,
          0.0006823891030845331,
          0.0006968994168111504,
          0.0012619514377010068,
          0.0012900886289320531,
          0.0011332855753617263,
          0.0011727964493375629,
          0.002319818272561131,
          0.0022536709766177144,
          0.0013746088214258176,
          0.001356390772932121,
          0.0010109924784567831,
          0.0010523530815845364,
          0.0009523323397142218,
          0.0009595091436103527,
          0.00032075006168270415,
          0.00033064462799253547,
          0.0017591465507604872,
          0.0017270827214947635,
          0.0014909720407082297,
          0.0014562203452453306,
          0.0006368044515569502,
          0.0006693996650410529,
          0.00032669195806908717,
          0.0003230870471826017,
          0.002597934474542319,
          0.0025222409962472694,
          0.0006314095289189692,
          0.0006447619538866251,
          0.0015873361021113744,
          0.0016097299230906814,
          0.0012377327246604313,
          0.0012007712856898127,
          0.0009555023579332382,
          0.0009804765858872997,
          0.0007619632131282486,
          0.0007757905322712113,
          0.0008911933889654055,
          0.0008910730679915753,
          0.001974405110507584,
          0.0020241737640103574,
          0.00159821814542065,
          0.0016156715735455595,
          0.0018109441590262168,
          0.001779525876906166,
          0.0028406364681405356,
          0.002826440437304436,
          0.0013480595922982276,
          0.0013050529623435203,
          0.0002515934250251593,
          0.0002472799208704253,
          0.0030222706848829148,
          0.003041429364977628,
          0.0005760339246028116,
          0.0005750402107273884,
          0.0001303921968738522,
          0.00013455976863753215,
          0.0008298549366706871,
          0.0008296913350152252,
          0.0026153097538217777,
          0.0025226723793778487,
          0.002017736761733367,
          0.0019478516982300617,
          0.003204867313965737,
          0.003181499055710663,
          0.0006361323155216285,
          0.0006618797384572185,
          0.00016886562212203656,
          0.00016997338766498076,
          0.0006937385531508705,
          0.0006861088805692574,
          0.002165561357733363,
          0.002134681348225079,
          0.0004478280340349306,
          0.0005581603036392052,
          0.00039685445428911314,
          0.0003896013072080731,
          0.002599036340309867,
          0.0025887384063230483,
          0.0007115887938655304,
          0.0007009160453572467,
          0.0006991379689394566,
          0.0006961187131911998,
          0.0013807829716439071,
          0.0013552718822377847,
          0.0016351654717937578,
          0.0016423605920905771,
          0.00047044766041263645,
          0.00047014158591900676,
          0.0003704731791875758,
          0.00038935108745794347,
          0.0017609660485252878,
          0.0017703708016994734,
          0.0014593265393149975,
          0.0014533665216780204,
          0.0017596482610955598,
          0.0017083126872891154,
          0.00038060662841082096,
          0.0004096202235356077,
          0.0013390491331667803,
          0.0013140788167698824,
          0.0010030232051491722,
          0.0010097868774150884,
          0.0016103464874176793,
          0.0015639861579256663,
          0.0007234244848184205,
          0.0007272727272727272,
          0.002395792746754632,
          0.0023332175112976195,
          0.00046500277724770853,
          0.0004828555593874642,
          0.0008848089632353438,
          0.0009040478647375843,
          0.003951465986296528,
          0.003911151671202516,
          0.003616550518736697,
          0.003550274383185348,
          0.0010680221455891723,
          0.0010295064881495541,
          0.0004974384027062495,
          0.0005035977954055512,
          0.0012938163359483155,
          0.0012977571893776085,
          0.001044272083407022,
          0.001026151880473296
         ]
        }
       ],
       "layout": {
        "legend": {
         "tracegroupgap": 0,
         "x": 0,
         "y": 1
        },
        "margin": {
         "t": 60
        },
        "scene": {
         "domain": {
          "x": [
           0,
           1
          ],
          "y": [
           0,
           1
          ]
         },
         "xaxis": {
          "title": {
           "text": "per_person2"
          }
         },
         "yaxis": {
          "title": {
           "text": "total_emissions"
          }
         },
         "zaxis": {
          "title": {
           "text": "death_rate"
          }
         }
        },
        "template": {
         "data": {
          "bar": [
           {
            "error_x": {
             "color": "#2a3f5f"
            },
            "error_y": {
             "color": "#2a3f5f"
            },
            "marker": {
             "line": {
              "color": "#E5ECF6",
              "width": 0.5
             },
             "pattern": {
              "fillmode": "overlay",
              "size": 10,
              "solidity": 0.2
             }
            },
            "type": "bar"
           }
          ],
          "barpolar": [
           {
            "marker": {
             "line": {
              "color": "#E5ECF6",
              "width": 0.5
             },
             "pattern": {
              "fillmode": "overlay",
              "size": 10,
              "solidity": 0.2
             }
            },
            "type": "barpolar"
           }
          ],
          "carpet": [
           {
            "aaxis": {
             "endlinecolor": "#2a3f5f",
             "gridcolor": "white",
             "linecolor": "white",
             "minorgridcolor": "white",
             "startlinecolor": "#2a3f5f"
            },
            "baxis": {
             "endlinecolor": "#2a3f5f",
             "gridcolor": "white",
             "linecolor": "white",
             "minorgridcolor": "white",
             "startlinecolor": "#2a3f5f"
            },
            "type": "carpet"
           }
          ],
          "choropleth": [
           {
            "colorbar": {
             "outlinewidth": 0,
             "ticks": ""
            },
            "type": "choropleth"
           }
          ],
          "contour": [
           {
            "colorbar": {
             "outlinewidth": 0,
             "ticks": ""
            },
            "colorscale": [
             [
              0,
              "#0d0887"
             ],
             [
              0.1111111111111111,
              "#46039f"
             ],
             [
              0.2222222222222222,
              "#7201a8"
             ],
             [
              0.3333333333333333,
              "#9c179e"
             ],
             [
              0.4444444444444444,
              "#bd3786"
             ],
             [
              0.5555555555555556,
              "#d8576b"
             ],
             [
              0.6666666666666666,
              "#ed7953"
             ],
             [
              0.7777777777777778,
              "#fb9f3a"
             ],
             [
              0.8888888888888888,
              "#fdca26"
             ],
             [
              1,
              "#f0f921"
             ]
            ],
            "type": "contour"
           }
          ],
          "contourcarpet": [
           {
            "colorbar": {
             "outlinewidth": 0,
             "ticks": ""
            },
            "type": "contourcarpet"
           }
          ],
          "heatmap": [
           {
            "colorbar": {
             "outlinewidth": 0,
             "ticks": ""
            },
            "colorscale": [
             [
              0,
              "#0d0887"
             ],
             [
              0.1111111111111111,
              "#46039f"
             ],
             [
              0.2222222222222222,
              "#7201a8"
             ],
             [
              0.3333333333333333,
              "#9c179e"
             ],
             [
              0.4444444444444444,
              "#bd3786"
             ],
             [
              0.5555555555555556,
              "#d8576b"
             ],
             [
              0.6666666666666666,
              "#ed7953"
             ],
             [
              0.7777777777777778,
              "#fb9f3a"
             ],
             [
              0.8888888888888888,
              "#fdca26"
             ],
             [
              1,
              "#f0f921"
             ]
            ],
            "type": "heatmap"
           }
          ],
          "heatmapgl": [
           {
            "colorbar": {
             "outlinewidth": 0,
             "ticks": ""
            },
            "colorscale": [
             [
              0,
              "#0d0887"
             ],
             [
              0.1111111111111111,
              "#46039f"
             ],
             [
              0.2222222222222222,
              "#7201a8"
             ],
             [
              0.3333333333333333,
              "#9c179e"
             ],
             [
              0.4444444444444444,
              "#bd3786"
             ],
             [
              0.5555555555555556,
              "#d8576b"
             ],
             [
              0.6666666666666666,
              "#ed7953"
             ],
             [
              0.7777777777777778,
              "#fb9f3a"
             ],
             [
              0.8888888888888888,
              "#fdca26"
             ],
             [
              1,
              "#f0f921"
             ]
            ],
            "type": "heatmapgl"
           }
          ],
          "histogram": [
           {
            "marker": {
             "pattern": {
              "fillmode": "overlay",
              "size": 10,
              "solidity": 0.2
             }
            },
            "type": "histogram"
           }
          ],
          "histogram2d": [
           {
            "colorbar": {
             "outlinewidth": 0,
             "ticks": ""
            },
            "colorscale": [
             [
              0,
              "#0d0887"
             ],
             [
              0.1111111111111111,
              "#46039f"
             ],
             [
              0.2222222222222222,
              "#7201a8"
             ],
             [
              0.3333333333333333,
              "#9c179e"
             ],
             [
              0.4444444444444444,
              "#bd3786"
             ],
             [
              0.5555555555555556,
              "#d8576b"
             ],
             [
              0.6666666666666666,
              "#ed7953"
             ],
             [
              0.7777777777777778,
              "#fb9f3a"
             ],
             [
              0.8888888888888888,
              "#fdca26"
             ],
             [
              1,
              "#f0f921"
             ]
            ],
            "type": "histogram2d"
           }
          ],
          "histogram2dcontour": [
           {
            "colorbar": {
             "outlinewidth": 0,
             "ticks": ""
            },
            "colorscale": [
             [
              0,
              "#0d0887"
             ],
             [
              0.1111111111111111,
              "#46039f"
             ],
             [
              0.2222222222222222,
              "#7201a8"
             ],
             [
              0.3333333333333333,
              "#9c179e"
             ],
             [
              0.4444444444444444,
              "#bd3786"
             ],
             [
              0.5555555555555556,
              "#d8576b"
             ],
             [
              0.6666666666666666,
              "#ed7953"
             ],
             [
              0.7777777777777778,
              "#fb9f3a"
             ],
             [
              0.8888888888888888,
              "#fdca26"
             ],
             [
              1,
              "#f0f921"
             ]
            ],
            "type": "histogram2dcontour"
           }
          ],
          "mesh3d": [
           {
            "colorbar": {
             "outlinewidth": 0,
             "ticks": ""
            },
            "type": "mesh3d"
           }
          ],
          "parcoords": [
           {
            "line": {
             "colorbar": {
              "outlinewidth": 0,
              "ticks": ""
             }
            },
            "type": "parcoords"
           }
          ],
          "pie": [
           {
            "automargin": true,
            "type": "pie"
           }
          ],
          "scatter": [
           {
            "fillpattern": {
             "fillmode": "overlay",
             "size": 10,
             "solidity": 0.2
            },
            "type": "scatter"
           }
          ],
          "scatter3d": [
           {
            "line": {
             "colorbar": {
              "outlinewidth": 0,
              "ticks": ""
             }
            },
            "marker": {
             "colorbar": {
              "outlinewidth": 0,
              "ticks": ""
             }
            },
            "type": "scatter3d"
           }
          ],
          "scattercarpet": [
           {
            "marker": {
             "colorbar": {
              "outlinewidth": 0,
              "ticks": ""
             }
            },
            "type": "scattercarpet"
           }
          ],
          "scattergeo": [
           {
            "marker": {
             "colorbar": {
              "outlinewidth": 0,
              "ticks": ""
             }
            },
            "type": "scattergeo"
           }
          ],
          "scattergl": [
           {
            "marker": {
             "colorbar": {
              "outlinewidth": 0,
              "ticks": ""
             }
            },
            "type": "scattergl"
           }
          ],
          "scattermapbox": [
           {
            "marker": {
             "colorbar": {
              "outlinewidth": 0,
              "ticks": ""
             }
            },
            "type": "scattermapbox"
           }
          ],
          "scatterpolar": [
           {
            "marker": {
             "colorbar": {
              "outlinewidth": 0,
              "ticks": ""
             }
            },
            "type": "scatterpolar"
           }
          ],
          "scatterpolargl": [
           {
            "marker": {
             "colorbar": {
              "outlinewidth": 0,
              "ticks": ""
             }
            },
            "type": "scatterpolargl"
           }
          ],
          "scatterternary": [
           {
            "marker": {
             "colorbar": {
              "outlinewidth": 0,
              "ticks": ""
             }
            },
            "type": "scatterternary"
           }
          ],
          "surface": [
           {
            "colorbar": {
             "outlinewidth": 0,
             "ticks": ""
            },
            "colorscale": [
             [
              0,
              "#0d0887"
             ],
             [
              0.1111111111111111,
              "#46039f"
             ],
             [
              0.2222222222222222,
              "#7201a8"
             ],
             [
              0.3333333333333333,
              "#9c179e"
             ],
             [
              0.4444444444444444,
              "#bd3786"
             ],
             [
              0.5555555555555556,
              "#d8576b"
             ],
             [
              0.6666666666666666,
              "#ed7953"
             ],
             [
              0.7777777777777778,
              "#fb9f3a"
             ],
             [
              0.8888888888888888,
              "#fdca26"
             ],
             [
              1,
              "#f0f921"
             ]
            ],
            "type": "surface"
           }
          ],
          "table": [
           {
            "cells": {
             "fill": {
              "color": "#EBF0F8"
             },
             "line": {
              "color": "white"
             }
            },
            "header": {
             "fill": {
              "color": "#C8D4E3"
             },
             "line": {
              "color": "white"
             }
            },
            "type": "table"
           }
          ]
         },
         "layout": {
          "annotationdefaults": {
           "arrowcolor": "#2a3f5f",
           "arrowhead": 0,
           "arrowwidth": 1
          },
          "autotypenumbers": "strict",
          "coloraxis": {
           "colorbar": {
            "outlinewidth": 0,
            "ticks": ""
           }
          },
          "colorscale": {
           "diverging": [
            [
             0,
             "#8e0152"
            ],
            [
             0.1,
             "#c51b7d"
            ],
            [
             0.2,
             "#de77ae"
            ],
            [
             0.3,
             "#f1b6da"
            ],
            [
             0.4,
             "#fde0ef"
            ],
            [
             0.5,
             "#f7f7f7"
            ],
            [
             0.6,
             "#e6f5d0"
            ],
            [
             0.7,
             "#b8e186"
            ],
            [
             0.8,
             "#7fbc41"
            ],
            [
             0.9,
             "#4d9221"
            ],
            [
             1,
             "#276419"
            ]
           ],
           "sequential": [
            [
             0,
             "#0d0887"
            ],
            [
             0.1111111111111111,
             "#46039f"
            ],
            [
             0.2222222222222222,
             "#7201a8"
            ],
            [
             0.3333333333333333,
             "#9c179e"
            ],
            [
             0.4444444444444444,
             "#bd3786"
            ],
            [
             0.5555555555555556,
             "#d8576b"
            ],
            [
             0.6666666666666666,
             "#ed7953"
            ],
            [
             0.7777777777777778,
             "#fb9f3a"
            ],
            [
             0.8888888888888888,
             "#fdca26"
            ],
            [
             1,
             "#f0f921"
            ]
           ],
           "sequentialminus": [
            [
             0,
             "#0d0887"
            ],
            [
             0.1111111111111111,
             "#46039f"
            ],
            [
             0.2222222222222222,
             "#7201a8"
            ],
            [
             0.3333333333333333,
             "#9c179e"
            ],
            [
             0.4444444444444444,
             "#bd3786"
            ],
            [
             0.5555555555555556,
             "#d8576b"
            ],
            [
             0.6666666666666666,
             "#ed7953"
            ],
            [
             0.7777777777777778,
             "#fb9f3a"
            ],
            [
             0.8888888888888888,
             "#fdca26"
            ],
            [
             1,
             "#f0f921"
            ]
           ]
          },
          "colorway": [
           "#636efa",
           "#EF553B",
           "#00cc96",
           "#ab63fa",
           "#FFA15A",
           "#19d3f3",
           "#FF6692",
           "#B6E880",
           "#FF97FF",
           "#FECB52"
          ],
          "font": {
           "color": "#2a3f5f"
          },
          "geo": {
           "bgcolor": "white",
           "lakecolor": "white",
           "landcolor": "#E5ECF6",
           "showlakes": true,
           "showland": true,
           "subunitcolor": "white"
          },
          "hoverlabel": {
           "align": "left"
          },
          "hovermode": "closest",
          "mapbox": {
           "style": "light"
          },
          "paper_bgcolor": "white",
          "plot_bgcolor": "#E5ECF6",
          "polar": {
           "angularaxis": {
            "gridcolor": "white",
            "linecolor": "white",
            "ticks": ""
           },
           "bgcolor": "#E5ECF6",
           "radialaxis": {
            "gridcolor": "white",
            "linecolor": "white",
            "ticks": ""
           }
          },
          "scene": {
           "xaxis": {
            "backgroundcolor": "#E5ECF6",
            "gridcolor": "white",
            "gridwidth": 2,
            "linecolor": "white",
            "showbackground": true,
            "ticks": "",
            "zerolinecolor": "white"
           },
           "yaxis": {
            "backgroundcolor": "#E5ECF6",
            "gridcolor": "white",
            "gridwidth": 2,
            "linecolor": "white",
            "showbackground": true,
            "ticks": "",
            "zerolinecolor": "white"
           },
           "zaxis": {
            "backgroundcolor": "#E5ECF6",
            "gridcolor": "white",
            "gridwidth": 2,
            "linecolor": "white",
            "showbackground": true,
            "ticks": "",
            "zerolinecolor": "white"
           }
          },
          "shapedefaults": {
           "line": {
            "color": "#2a3f5f"
           }
          },
          "ternary": {
           "aaxis": {
            "gridcolor": "white",
            "linecolor": "white",
            "ticks": ""
           },
           "baxis": {
            "gridcolor": "white",
            "linecolor": "white",
            "ticks": ""
           },
           "bgcolor": "#E5ECF6",
           "caxis": {
            "gridcolor": "white",
            "linecolor": "white",
            "ticks": ""
           }
          },
          "title": {
           "x": 0.05
          },
          "xaxis": {
           "automargin": true,
           "gridcolor": "white",
           "linecolor": "white",
           "ticks": "",
           "title": {
            "standoff": 15
           },
           "zerolinecolor": "white",
           "zerolinewidth": 2
          },
          "yaxis": {
           "automargin": true,
           "gridcolor": "white",
           "linecolor": "white",
           "ticks": "",
           "title": {
            "standoff": 15
           },
           "zerolinecolor": "white",
           "zerolinewidth": 2
          }
         }
        },
        "width": 800
       }
      }
     },
     "metadata": {},
     "output_type": "display_data"
    }
   ],
   "source": [
    "fig = px.scatter_3d(standardized_df, x='per_person2', y='total_emissions', z='death_rate', width=800)\n",
    "fig.update_layout(legend=dict(x=0,y=1))\n",
    "fig.show()"
   ]
  },
  {
   "cell_type": "code",
   "execution_count": null,
   "metadata": {},
   "outputs": [],
   "source": [
    "plt.scatter(X,y)\n",
    "plt.plot(X, y_pred, color='red')\n",
    "plt.show()\n",
    "# 1 maybe 3 years for training"
   ]
  },
  {
   "cell_type": "code",
   "execution_count": null,
   "metadata": {},
   "outputs": [],
   "source": [
    "emissions['death_rate'] = emissions['total_deaths']/emissions['population']\n",
    "emissions['emissions_per_person'] = emissions['total_emissions'] / emissions['population']"
   ]
  },
  {
   "cell_type": "code",
   "execution_count": null,
   "metadata": {},
   "outputs": [],
   "source": [
    "emissions.sort_values(by='death_rate').head()"
   ]
  },
  {
   "cell_type": "code",
   "execution_count": null,
   "metadata": {},
   "outputs": [],
   "source": [
    "#-----------------------------------------------"
   ]
  },
  {
   "cell_type": "code",
   "execution_count": null,
   "metadata": {},
   "outputs": [],
   "source": [
    "cluster_df"
   ]
  },
  {
   "cell_type": "code",
   "execution_count": null,
   "metadata": {},
   "outputs": [],
   "source": []
  }
 ],
 "metadata": {
  "kernelspec": {
   "display_name": "mlenv",
   "language": "python",
   "name": "python3"
  },
  "language_info": {
   "codemirror_mode": {
    "name": "ipython",
    "version": 3
   },
   "file_extension": ".py",
   "mimetype": "text/x-python",
   "name": "python",
   "nbconvert_exporter": "python",
   "pygments_lexer": "ipython3",
   "version": "3.7.13"
  },
  "orig_nbformat": 4
 },
 "nbformat": 4,
 "nbformat_minor": 2
}
