{
  "nbformat": 4,
  "nbformat_minor": 0,
  "metadata": {
    "colab": {
      "provenance": []
    },
    "kernelspec": {
      "name": "python3",
      "display_name": "Python 3"
    },
    "language_info": {
      "name": "python"
    }
  },
  "cells": [
    {
      "cell_type": "code",
      "execution_count": null,
      "metadata": {
        "colab": {
          "base_uri": "https://localhost:8080/"
        },
        "id": "jy-eI3SJ6eU_",
        "outputId": "f87386bc-a4c2-461f-ebd5-b3032fa286b5"
      },
      "outputs": [
        {
          "output_type": "stream",
          "name": "stdout",
          "text": [
            "\r0% [Working]\r            \rGet:1 http://security.ubuntu.com/ubuntu focal-security InRelease [114 kB]\n",
            "\r0% [Connecting to archive.ubuntu.com (185.125.190.39)] [1 InRelease 14.2 kB/114\r                                                                               \rGet:2 https://cloud.r-project.org/bin/linux/ubuntu focal-cran40/ InRelease [3,622 B]\n",
            "Get:3 https://developer.download.nvidia.com/compute/cuda/repos/ubuntu2004/x86_64  InRelease [1,581 B]\n",
            "Hit:4 http://archive.ubuntu.com/ubuntu focal InRelease\n",
            "Get:5 http://archive.ubuntu.com/ubuntu focal-updates InRelease [114 kB]\n",
            "Get:6 http://ppa.launchpad.net/c2d4u.team/c2d4u4.0+/ubuntu focal InRelease [18.1 kB]\n",
            "Get:7 https://developer.download.nvidia.com/compute/cuda/repos/ubuntu2004/x86_64  Packages [920 kB]\n",
            "Get:8 http://security.ubuntu.com/ubuntu focal-security/main amd64 Packages [2,544 kB]\n",
            "Hit:9 http://ppa.launchpad.net/cran/libgit2/ubuntu focal InRelease\n",
            "Get:10 http://archive.ubuntu.com/ubuntu focal-backports InRelease [108 kB]\n",
            "Get:11 http://security.ubuntu.com/ubuntu focal-security/universe amd64 Packages [1,017 kB]\n",
            "Hit:12 http://ppa.launchpad.net/deadsnakes/ppa/ubuntu focal InRelease\n",
            "Hit:13 http://ppa.launchpad.net/graphics-drivers/ppa/ubuntu focal InRelease\n",
            "Get:14 http://archive.ubuntu.com/ubuntu focal-updates/universe amd64 Packages [1,313 kB]\n",
            "Hit:15 http://ppa.launchpad.net/ubuntugis/ppa/ubuntu focal InRelease\n",
            "Get:16 http://ppa.launchpad.net/c2d4u.team/c2d4u4.0+/ubuntu focal/main Sources [2,397 kB]\n",
            "Get:17 http://archive.ubuntu.com/ubuntu focal-updates/restricted amd64 Packages [2,136 kB]\n",
            "Get:18 http://archive.ubuntu.com/ubuntu focal-updates/main amd64 Packages [3,021 kB]\n",
            "Fetched 13.7 MB in 3s (5,218 kB/s)\n",
            "Reading package lists... Done\n"
          ]
        }
      ],
      "source": [
        "import os\n",
        "\n",
        "spark_version = 'spark-3.2.3'\n",
        "os.environ['SPARK_VERSION']=spark_version\n",
        "\n",
        "# Install Spark and Java\n",
        "!apt-get update\n",
        "!apt-get install openjdk-11-jdk-headless -qq > /dev/null\n",
        "!wget -q http://www.apache.org/dist/spark/$SPARK_VERSION/$SPARK_VERSION-bin-hadoop2.7.tgz\n",
        "!tar xf $SPARK_VERSION-bin-hadoop2.7.tgz\n",
        "!pip install -q findspark\n",
        "\n",
        "# Set Environment Variables\n",
        "import os\n",
        "os.environ[\"JAVA_HOME\"] = \"/usr/lib/jvm/java-11-openjdk-amd64\"\n",
        "os.environ[\"SPARK_HOME\"] = f\"/content/{spark_version}-bin-hadoop2.7\"\n",
        "\n",
        "# Start a SparkSession\n",
        "import findspark\n",
        "findspark.init()"
      ]
    },
    {
      "cell_type": "code",
      "source": [
        "!wget https://jdbc.postgresql.org/download/postgresql-42.2.17.jar"
      ],
      "metadata": {
        "colab": {
          "base_uri": "https://localhost:8080/"
        },
        "id": "Ltd6UvtC6jCC",
        "outputId": "94d8987d-e9f5-4d12-f00d-a5aaa340b933"
      },
      "execution_count": null,
      "outputs": [
        {
          "output_type": "stream",
          "name": "stdout",
          "text": [
            "--2023-03-17 03:13:01--  https://jdbc.postgresql.org/download/postgresql-42.2.17.jar\n",
            "Resolving jdbc.postgresql.org (jdbc.postgresql.org)... 72.32.157.228, 2001:4800:3e1:1::228\n",
            "Connecting to jdbc.postgresql.org (jdbc.postgresql.org)|72.32.157.228|:443... connected.\n",
            "HTTP request sent, awaiting response... 200 OK\n",
            "Length: 1004734 (981K) [application/java-archive]\n",
            "Saving to: ‘postgresql-42.2.17.jar’\n",
            "\n",
            "\rpostgresql-42.2.17.   0%[                    ]       0  --.-KB/s               \rpostgresql-42.2.17. 100%[===================>] 981.19K  --.-KB/s    in 0.09s   \n",
            "\n",
            "2023-03-17 03:13:02 (10.6 MB/s) - ‘postgresql-42.2.17.jar’ saved [1004734/1004734]\n",
            "\n"
          ]
        }
      ]
    },
    {
      "cell_type": "code",
      "source": [
        "from pyspark.sql import SparkSession\n",
        "spark = SparkSession.builder.appName(\"CloudETL\").config(\"spark.driver.extraClassPath\",\"/content/postgresql-42.2.17.jar\").getOrCreate()"
      ],
      "metadata": {
        "id": "JrQRcDAD6leN"
      },
      "execution_count": null,
      "outputs": []
    },
    {
      "cell_type": "code",
      "source": [
        "# Read in data from S3 Buckets\n",
        "from pyspark import SparkFiles\n",
        "url =\"https://casey-elizabeth-haley-kaleb-bucket.s3.us-east-2.amazonaws.com/Total+Emissions+Per+Country+.csv\"\n",
        "spark.sparkContext.addFile(url)\n",
        "total_emissions_uncleaned_df = spark.read.csv(SparkFiles.get(\"Total+Emissions+Per+Country+.csv\"), sep=\",\", header=True, inferSchema=True)"
      ],
      "metadata": {
        "id": "XvlS-G8F6nzv"
      },
      "execution_count": null,
      "outputs": []
    },
    {
      "cell_type": "code",
      "source": [
        "total_emissions_uncleaned_df.show()"
      ],
      "metadata": {
        "colab": {
          "base_uri": "https://localhost:8080/"
        },
        "id": "0OOc4_x073jn",
        "outputId": "b2d2467f-ec18-4dab-d4a9-e7e3fc3651ad"
      },
      "execution_count": null,
      "outputs": [
        {
          "output_type": "stream",
          "name": "stdout",
          "text": [
            "+-----------+--------------------+--------------------+----------+---------+---------+---------+---------+---------+---------+---------+---------+---------+---------+---------+---------+---------+---------+---------+---------+---------+---------+---------+---------+---------+\n",
            "|       Area|                Item|       Emission_Type|      Unit|Year_2000|Year_2001|Year_2002|Year_2003|Year_2004|Year_2005|Year_2006|Year_2007|Year_2008|Year_2009|Year_2010|Year_2011|Year_2012|Year_2013|Year_2014|Year_2015|Year_2016|Year_2017|Year_2018|Year_2019|Year_2020|\n",
            "+-----------+--------------------+--------------------+----------+---------+---------+---------+---------+---------+---------+---------+---------+---------+---------+---------+---------+---------+---------+---------+---------+---------+---------+---------+---------+---------+\n",
            "|Afghanistan|       Crop Residues|Direct emissions ...|kilotonnes|     0.52|   0.5267|     0.82|   0.9988|   0.8225|   1.1821|   1.0277|   1.2426|   0.8869|    1.392|   1.2742|   1.0321|   1.3726|   1.4018|   1.4584|   1.2424|    1.194|   1.0617|   0.8988|   1.2176|    1.317|\n",
            "|Afghanistan|       Crop Residues|Indirect emission...|kilotonnes|    0.117|   0.1185|   0.1845|   0.2247|   0.1851|    0.266|   0.2312|   0.2796|   0.1996|   0.3132|   0.2867|   0.2322|   0.3088|   0.3154|   0.3281|   0.2795|   0.2687|   0.2389|   0.2022|    0.274|   0.2963|\n",
            "|Afghanistan|       Crop Residues|     Emissions (N2O)|kilotonnes|    0.637|   0.6452|   1.0045|   1.2235|   1.0075|   1.4481|   1.2589|   1.5222|   1.0865|   1.7051|   1.5609|   1.2643|   1.6815|   1.7173|   1.7865|    1.522|   1.4627|   1.3005|   1.1011|   1.4916|   1.6133|\n",
            "|Afghanistan|       Crop Residues|Emissions (CO2eq)...|kilotonnes|  168.807| 170.9884| 266.1975| 324.2195| 266.9995| 383.7498| 333.6093| 403.3749| 287.9099| 451.8647| 413.6467| 335.0379| 445.5958| 455.0727| 473.4174| 403.3181|  387.613| 344.6447| 291.7838| 395.2689| 427.5284|\n",
            "|Afghanistan|       Crop Residues|Emissions (CO2eq)...|kilotonnes|  168.807| 170.9884| 266.1975| 324.2195| 266.9995| 383.7498| 333.6093| 403.3749| 287.9099| 451.8647| 413.6467| 335.0379| 445.5958| 455.0727| 473.4174| 403.3181|  387.613| 344.6447| 291.7838| 395.2689| 427.5284|\n",
            "|Afghanistan|    Rice Cultivation|     Emissions (CH4)|kilotonnes|     18.2|    16.94|     18.9|     20.3|     27.3|     22.4|     22.4|     23.8|     26.6|     28.0|    29.12|     29.4|     28.7|     28.7|     30.8|    22.96|    16.66|  15.3233|  16.4555|  17.8542|  20.6577|\n",
            "|Afghanistan|    Rice Cultivation|Emissions (CO2eq)...|kilotonnes|    509.6|   474.32|    529.2|    568.4|    764.4|    627.2|    627.2|    666.4|    744.8|    784.0|   815.36|    823.2|    803.6|    803.6|    862.4|   642.88|   466.48| 429.0518| 460.7529| 499.9176| 578.4156|\n",
            "|Afghanistan|    Rice Cultivation|Emissions (CO2eq)...|kilotonnes|    509.6|   474.32|    529.2|    568.4|    764.4|    627.2|    627.2|    666.4|    744.8|    784.0|   815.36|    823.2|    803.6|    803.6|    862.4|   642.88|   466.48| 429.0518| 460.7529| 499.9176| 578.4156|\n",
            "|Afghanistan|Burning - Crop re...|     Emissions (CH4)|kilotonnes|   2.6471|   2.3205|   2.3553|   3.4017|   3.0089|   3.4752|   3.2535|   3.2921|   2.9674|   3.4614|   3.3507|   3.2219|   3.4035|   3.4506|   3.5413|   2.9452|   3.0734|   2.7997|    2.139|   2.9693|   3.4826|\n",
            "|Afghanistan|Burning - Crop re...|     Emissions (CH4)|kilotonnes|     null|     null|     null|     null|     null|    10.07|     null|     null|     null|     null|     null|     null|     null|      5.0|     null|     null|     null|     null|     null|     null|     null|\n",
            "|Afghanistan|Burning - Crop re...|     Emissions (N2O)|kilotonnes|   0.0686|   0.0602|   0.0611|   0.0882|    0.078|   0.0901|   0.0844|   0.0854|   0.0769|   0.0897|   0.0869|   0.0835|   0.0882|   0.0895|   0.0918|   0.0764|   0.0797|   0.0726|   0.0555|    0.077|   0.0903|\n",
            "|Afghanistan|Burning - Crop re...|     Emissions (N2O)|kilotonnes|     null|     null|     null|     null|     null|    0.021|     null|     null|     null|     null|     null|     null|     null|     null|     null|     null|     null|     null|     null|     null|     null|\n",
            "|Afghanistan|Burning - Crop re...|Emissions (CO2eq)...|kilotonnes|  74.1182|  64.9744|  65.9497|  95.2481|  84.2486|  97.3048|  91.0984|  92.1795|  83.0882|  96.9194|  93.8207|  90.2137|  95.2987|  96.6172|  99.1558|  82.4646|  86.0555|   78.391|  59.8924|  83.1393|   97.513|\n",
            "|Afghanistan|Burning - Crop re...|Emissions (CO2eq)...|kilotonnes|     null|     null|     null|     null|     null|   281.96|     null|     null|     null|     null|     null|     null|     null|    140.0|     null|     null|     null|     null|     null|     null|     null|\n",
            "|Afghanistan|Burning - Crop re...|Emissions (CO2eq)...|kilotonnes|  18.1864|  15.9428|  16.1821|  23.3711|  20.6721|  23.8757|  22.3528|  22.6181|  20.3874|  23.7811|  23.0208|  22.1358|  23.3835|   23.707|  24.3299|  20.2344|  21.1155|  19.2348|  14.6958|  20.3999|  23.9268|\n",
            "|Afghanistan|Burning - Crop re...|Emissions (CO2eq)...|kilotonnes|     null|     null|     null|     null|     null|    5.565|     null|     null|     null|     null|     null|     null|     null|     null|     null|     null|     null|     null|     null|     null|     null|\n",
            "|Afghanistan|Burning - Crop re...|Emissions (CO2eq)...|kilotonnes|  92.3047|  80.9172|  82.1318| 118.6191| 104.9208| 121.1805| 113.4512| 114.7976| 103.4756| 120.7005| 116.8416| 112.3495| 118.6822| 120.3242| 123.4857| 102.6989|  107.171|  97.6259|  74.5882| 103.5392| 121.4398|\n",
            "|Afghanistan|Burning - Crop re...|Emissions (CO2eq)...|kilotonnes|     null|     null|     null|     null|     null|  287.525|     null|     null|     null|     null|     null|     null|     null|    140.0|     null|     null|     null|     null|     null|     null|     null|\n",
            "|Afghanistan|Enteric Fermentation|     Emissions (CH4)|kilotonnes|   272.14|  225.403|  287.893|  293.626|  285.598|  295.401|  300.807|  304.225|  339.559|  345.658|  401.068|  402.513|  396.921|  393.093|  398.287|  382.694| 380.2907| 370.8133| 378.9994| 363.9018| 378.5858|\n",
            "|Afghanistan|Enteric Fermentation|     Emissions (CH4)|kilotonnes|     null|     null|     null|     null|     null|   309.03|     null|     null|     null|     null|     null|     null|     null|    414.0|     null|     null|     null|     null|     null|     null|     null|\n",
            "+-----------+--------------------+--------------------+----------+---------+---------+---------+---------+---------+---------+---------+---------+---------+---------+---------+---------+---------+---------+---------+---------+---------+---------+---------+---------+---------+\n",
            "only showing top 20 rows\n",
            "\n"
          ]
        }
      ]
    },
    {
      "cell_type": "code",
      "source": [
        "total_emissions_dropna_df = total_emissions_uncleaned_df.dropna()\n",
        "total_emissions_dropna_df.show()"
      ],
      "metadata": {
        "colab": {
          "base_uri": "https://localhost:8080/"
        },
        "id": "XXJ87x5G78Lf",
        "outputId": "95734a9e-25d6-40c3-de10-bfb97b9c6843"
      },
      "execution_count": null,
      "outputs": [
        {
          "output_type": "stream",
          "name": "stdout",
          "text": [
            "+-----------+--------------------+--------------------+----------+---------+---------+---------+---------+---------+---------+---------+---------+---------+---------+---------+---------+---------+---------+---------+----------+----------+----------+----------+----------+----------+\n",
            "|       Area|                Item|       Emission_Type|      Unit|Year_2000|Year_2001|Year_2002|Year_2003|Year_2004|Year_2005|Year_2006|Year_2007|Year_2008|Year_2009|Year_2010|Year_2011|Year_2012|Year_2013|Year_2014| Year_2015| Year_2016| Year_2017| Year_2018| Year_2019| Year_2020|\n",
            "+-----------+--------------------+--------------------+----------+---------+---------+---------+---------+---------+---------+---------+---------+---------+---------+---------+---------+---------+---------+---------+----------+----------+----------+----------+----------+----------+\n",
            "|Afghanistan|       Crop Residues|Direct emissions ...|kilotonnes|     0.52|   0.5267|     0.82|   0.9988|   0.8225|   1.1821|   1.0277|   1.2426|   0.8869|    1.392|   1.2742|   1.0321|   1.3726|   1.4018|   1.4584|    1.2424|     1.194|    1.0617|    0.8988|    1.2176|     1.317|\n",
            "|Afghanistan|       Crop Residues|Indirect emission...|kilotonnes|    0.117|   0.1185|   0.1845|   0.2247|   0.1851|    0.266|   0.2312|   0.2796|   0.1996|   0.3132|   0.2867|   0.2322|   0.3088|   0.3154|   0.3281|    0.2795|    0.2687|    0.2389|    0.2022|     0.274|    0.2963|\n",
            "|Afghanistan|       Crop Residues|     Emissions (N2O)|kilotonnes|    0.637|   0.6452|   1.0045|   1.2235|   1.0075|   1.4481|   1.2589|   1.5222|   1.0865|   1.7051|   1.5609|   1.2643|   1.6815|   1.7173|   1.7865|     1.522|    1.4627|    1.3005|    1.1011|    1.4916|    1.6133|\n",
            "|Afghanistan|       Crop Residues|Emissions (CO2eq)...|kilotonnes|  168.807| 170.9884| 266.1975| 324.2195| 266.9995| 383.7498| 333.6093| 403.3749| 287.9099| 451.8647| 413.6467| 335.0379| 445.5958| 455.0727| 473.4174|  403.3181|   387.613|  344.6447|  291.7838|  395.2689|  427.5284|\n",
            "|Afghanistan|       Crop Residues|Emissions (CO2eq)...|kilotonnes|  168.807| 170.9884| 266.1975| 324.2195| 266.9995| 383.7498| 333.6093| 403.3749| 287.9099| 451.8647| 413.6467| 335.0379| 445.5958| 455.0727| 473.4174|  403.3181|   387.613|  344.6447|  291.7838|  395.2689|  427.5284|\n",
            "|Afghanistan|    Rice Cultivation|     Emissions (CH4)|kilotonnes|     18.2|    16.94|     18.9|     20.3|     27.3|     22.4|     22.4|     23.8|     26.6|     28.0|    29.12|     29.4|     28.7|     28.7|     30.8|     22.96|     16.66|   15.3233|   16.4555|   17.8542|   20.6577|\n",
            "|Afghanistan|    Rice Cultivation|Emissions (CO2eq)...|kilotonnes|    509.6|   474.32|    529.2|    568.4|    764.4|    627.2|    627.2|    666.4|    744.8|    784.0|   815.36|    823.2|    803.6|    803.6|    862.4|    642.88|    466.48|  429.0518|  460.7529|  499.9176|  578.4156|\n",
            "|Afghanistan|    Rice Cultivation|Emissions (CO2eq)...|kilotonnes|    509.6|   474.32|    529.2|    568.4|    764.4|    627.2|    627.2|    666.4|    744.8|    784.0|   815.36|    823.2|    803.6|    803.6|    862.4|    642.88|    466.48|  429.0518|  460.7529|  499.9176|  578.4156|\n",
            "|Afghanistan|Burning - Crop re...|     Emissions (CH4)|kilotonnes|   2.6471|   2.3205|   2.3553|   3.4017|   3.0089|   3.4752|   3.2535|   3.2921|   2.9674|   3.4614|   3.3507|   3.2219|   3.4035|   3.4506|   3.5413|    2.9452|    3.0734|    2.7997|     2.139|    2.9693|    3.4826|\n",
            "|Afghanistan|Burning - Crop re...|     Emissions (N2O)|kilotonnes|   0.0686|   0.0602|   0.0611|   0.0882|    0.078|   0.0901|   0.0844|   0.0854|   0.0769|   0.0897|   0.0869|   0.0835|   0.0882|   0.0895|   0.0918|    0.0764|    0.0797|    0.0726|    0.0555|     0.077|    0.0903|\n",
            "|Afghanistan|Burning - Crop re...|Emissions (CO2eq)...|kilotonnes|  74.1182|  64.9744|  65.9497|  95.2481|  84.2486|  97.3048|  91.0984|  92.1795|  83.0882|  96.9194|  93.8207|  90.2137|  95.2987|  96.6172|  99.1558|   82.4646|   86.0555|    78.391|   59.8924|   83.1393|    97.513|\n",
            "|Afghanistan|Burning - Crop re...|Emissions (CO2eq)...|kilotonnes|  18.1864|  15.9428|  16.1821|  23.3711|  20.6721|  23.8757|  22.3528|  22.6181|  20.3874|  23.7811|  23.0208|  22.1358|  23.3835|   23.707|  24.3299|   20.2344|   21.1155|   19.2348|   14.6958|   20.3999|   23.9268|\n",
            "|Afghanistan|Burning - Crop re...|Emissions (CO2eq)...|kilotonnes|  92.3047|  80.9172|  82.1318| 118.6191| 104.9208| 121.1805| 113.4512| 114.7976| 103.4756| 120.7005| 116.8416| 112.3495| 118.6822| 120.3242| 123.4857|  102.6989|   107.171|   97.6259|   74.5882|  103.5392|  121.4398|\n",
            "|Afghanistan|Enteric Fermentation|     Emissions (CH4)|kilotonnes|   272.14|  225.403|  287.893|  293.626|  285.598|  295.401|  300.807|  304.225|  339.559|  345.658|  401.068|  402.513|  396.921|  393.093|  398.287|   382.694|  380.2907|  370.8133|  378.9994|  363.9018|  378.5858|\n",
            "|Afghanistan|Enteric Fermentation|Emissions (CO2eq)...|kilotonnes|  7619.92| 6311.284| 8061.004| 8221.528| 7996.744| 8271.228| 8422.596|   8518.3| 9507.652| 9678.424|11229.904|11270.364|11113.788|11006.604|11152.036|10715.4312|10648.1387|10382.7732|10611.9842|10189.2498|10600.4026|\n",
            "|Afghanistan|Enteric Fermentation|Emissions (CO2eq)...|kilotonnes|  7619.92| 6311.284| 8061.004| 8221.528| 7996.744| 8271.228| 8422.596|   8518.3| 9507.652| 9678.424|11229.904|11270.364|11113.788|11006.604|11152.036|10715.4312|10648.1387|10382.7732|10611.9842|10189.2498|10600.4026|\n",
            "|Afghanistan|   Manure Management|     Emissions (CH4)|kilotonnes|  15.0621|  12.1998|  18.3753|  18.6686|  17.5698|    18.49|  19.5214|  20.5011|   22.421|  22.5567|  26.5669|  26.1599|  26.0913|  26.0859|  26.3682|    24.762|   24.6335|   23.6543|   24.3787|   24.0501|   24.2306|\n",
            "|Afghanistan|   Manure Management|     Emissions (N2O)|kilotonnes|   0.3613|   0.3193|   0.2945|   0.3033|   0.3173|   0.3285|   0.3005|   0.2771|   0.3326|   0.3542|    0.398|   0.4177|   0.4013|   0.3868|   0.3932|    0.3946|    0.3932|    0.4014|    0.4028|    0.3513|    0.4033|\n",
            "|Afghanistan|   Manure Management|Emissions (CO2eq)...|kilotonnes| 421.7377| 341.5936| 514.5073| 522.7211| 491.9558| 517.7189| 546.5998| 574.0322| 627.7872| 631.5865| 743.8726| 732.4766| 730.5556| 730.4049| 738.3107|  693.3371|   689.739|  662.3203|  682.6043|  673.4015|  678.4564|\n",
            "|Afghanistan|   Manure Management|Emissions (CO2eq)...|kilotonnes|  95.7551|  84.6123|   78.054|  80.3814|  84.0816|  87.0479|   79.643|  73.4362|  88.1474|  93.8549| 105.4627| 110.6942| 106.3533| 102.4912|  104.193|  104.5636|  104.1987|  106.3599|  106.7321|   93.0997|  106.8751|\n",
            "+-----------+--------------------+--------------------+----------+---------+---------+---------+---------+---------+---------+---------+---------+---------+---------+---------+---------+---------+---------+---------+----------+----------+----------+----------+----------+----------+\n",
            "only showing top 20 rows\n",
            "\n"
          ]
        }
      ]
    },
    {
      "cell_type": "code",
      "source": [
        "total_emissions_cleaned_df = total_emissions_dropna_df.replace(\"kilotonnes\", \"kilotons\")\n",
        "total_emissions_cleaned_df.show()"
      ],
      "metadata": {
        "colab": {
          "base_uri": "https://localhost:8080/"
        },
        "id": "jizVfdPKADHK",
        "outputId": "aa872e86-2846-4e80-a01e-098da7b04f1d"
      },
      "execution_count": null,
      "outputs": [
        {
          "output_type": "stream",
          "name": "stdout",
          "text": [
            "+-----------+--------------------+--------------------+--------+---------+---------+---------+---------+---------+---------+---------+---------+---------+---------+---------+---------+---------+---------+---------+----------+----------+----------+----------+----------+----------+\n",
            "|       Area|                Item|       Emission_Type|    Unit|Year_2000|Year_2001|Year_2002|Year_2003|Year_2004|Year_2005|Year_2006|Year_2007|Year_2008|Year_2009|Year_2010|Year_2011|Year_2012|Year_2013|Year_2014| Year_2015| Year_2016| Year_2017| Year_2018| Year_2019| Year_2020|\n",
            "+-----------+--------------------+--------------------+--------+---------+---------+---------+---------+---------+---------+---------+---------+---------+---------+---------+---------+---------+---------+---------+----------+----------+----------+----------+----------+----------+\n",
            "|Afghanistan|       Crop Residues|Direct emissions ...|kilotons|     0.52|   0.5267|     0.82|   0.9988|   0.8225|   1.1821|   1.0277|   1.2426|   0.8869|    1.392|   1.2742|   1.0321|   1.3726|   1.4018|   1.4584|    1.2424|     1.194|    1.0617|    0.8988|    1.2176|     1.317|\n",
            "|Afghanistan|       Crop Residues|Indirect emission...|kilotons|    0.117|   0.1185|   0.1845|   0.2247|   0.1851|    0.266|   0.2312|   0.2796|   0.1996|   0.3132|   0.2867|   0.2322|   0.3088|   0.3154|   0.3281|    0.2795|    0.2687|    0.2389|    0.2022|     0.274|    0.2963|\n",
            "|Afghanistan|       Crop Residues|     Emissions (N2O)|kilotons|    0.637|   0.6452|   1.0045|   1.2235|   1.0075|   1.4481|   1.2589|   1.5222|   1.0865|   1.7051|   1.5609|   1.2643|   1.6815|   1.7173|   1.7865|     1.522|    1.4627|    1.3005|    1.1011|    1.4916|    1.6133|\n",
            "|Afghanistan|       Crop Residues|Emissions (CO2eq)...|kilotons|  168.807| 170.9884| 266.1975| 324.2195| 266.9995| 383.7498| 333.6093| 403.3749| 287.9099| 451.8647| 413.6467| 335.0379| 445.5958| 455.0727| 473.4174|  403.3181|   387.613|  344.6447|  291.7838|  395.2689|  427.5284|\n",
            "|Afghanistan|       Crop Residues|Emissions (CO2eq)...|kilotons|  168.807| 170.9884| 266.1975| 324.2195| 266.9995| 383.7498| 333.6093| 403.3749| 287.9099| 451.8647| 413.6467| 335.0379| 445.5958| 455.0727| 473.4174|  403.3181|   387.613|  344.6447|  291.7838|  395.2689|  427.5284|\n",
            "|Afghanistan|    Rice Cultivation|     Emissions (CH4)|kilotons|     18.2|    16.94|     18.9|     20.3|     27.3|     22.4|     22.4|     23.8|     26.6|     28.0|    29.12|     29.4|     28.7|     28.7|     30.8|     22.96|     16.66|   15.3233|   16.4555|   17.8542|   20.6577|\n",
            "|Afghanistan|    Rice Cultivation|Emissions (CO2eq)...|kilotons|    509.6|   474.32|    529.2|    568.4|    764.4|    627.2|    627.2|    666.4|    744.8|    784.0|   815.36|    823.2|    803.6|    803.6|    862.4|    642.88|    466.48|  429.0518|  460.7529|  499.9176|  578.4156|\n",
            "|Afghanistan|    Rice Cultivation|Emissions (CO2eq)...|kilotons|    509.6|   474.32|    529.2|    568.4|    764.4|    627.2|    627.2|    666.4|    744.8|    784.0|   815.36|    823.2|    803.6|    803.6|    862.4|    642.88|    466.48|  429.0518|  460.7529|  499.9176|  578.4156|\n",
            "|Afghanistan|Burning - Crop re...|     Emissions (CH4)|kilotons|   2.6471|   2.3205|   2.3553|   3.4017|   3.0089|   3.4752|   3.2535|   3.2921|   2.9674|   3.4614|   3.3507|   3.2219|   3.4035|   3.4506|   3.5413|    2.9452|    3.0734|    2.7997|     2.139|    2.9693|    3.4826|\n",
            "|Afghanistan|Burning - Crop re...|     Emissions (N2O)|kilotons|   0.0686|   0.0602|   0.0611|   0.0882|    0.078|   0.0901|   0.0844|   0.0854|   0.0769|   0.0897|   0.0869|   0.0835|   0.0882|   0.0895|   0.0918|    0.0764|    0.0797|    0.0726|    0.0555|     0.077|    0.0903|\n",
            "|Afghanistan|Burning - Crop re...|Emissions (CO2eq)...|kilotons|  74.1182|  64.9744|  65.9497|  95.2481|  84.2486|  97.3048|  91.0984|  92.1795|  83.0882|  96.9194|  93.8207|  90.2137|  95.2987|  96.6172|  99.1558|   82.4646|   86.0555|    78.391|   59.8924|   83.1393|    97.513|\n",
            "|Afghanistan|Burning - Crop re...|Emissions (CO2eq)...|kilotons|  18.1864|  15.9428|  16.1821|  23.3711|  20.6721|  23.8757|  22.3528|  22.6181|  20.3874|  23.7811|  23.0208|  22.1358|  23.3835|   23.707|  24.3299|   20.2344|   21.1155|   19.2348|   14.6958|   20.3999|   23.9268|\n",
            "|Afghanistan|Burning - Crop re...|Emissions (CO2eq)...|kilotons|  92.3047|  80.9172|  82.1318| 118.6191| 104.9208| 121.1805| 113.4512| 114.7976| 103.4756| 120.7005| 116.8416| 112.3495| 118.6822| 120.3242| 123.4857|  102.6989|   107.171|   97.6259|   74.5882|  103.5392|  121.4398|\n",
            "|Afghanistan|Enteric Fermentation|     Emissions (CH4)|kilotons|   272.14|  225.403|  287.893|  293.626|  285.598|  295.401|  300.807|  304.225|  339.559|  345.658|  401.068|  402.513|  396.921|  393.093|  398.287|   382.694|  380.2907|  370.8133|  378.9994|  363.9018|  378.5858|\n",
            "|Afghanistan|Enteric Fermentation|Emissions (CO2eq)...|kilotons|  7619.92| 6311.284| 8061.004| 8221.528| 7996.744| 8271.228| 8422.596|   8518.3| 9507.652| 9678.424|11229.904|11270.364|11113.788|11006.604|11152.036|10715.4312|10648.1387|10382.7732|10611.9842|10189.2498|10600.4026|\n",
            "|Afghanistan|Enteric Fermentation|Emissions (CO2eq)...|kilotons|  7619.92| 6311.284| 8061.004| 8221.528| 7996.744| 8271.228| 8422.596|   8518.3| 9507.652| 9678.424|11229.904|11270.364|11113.788|11006.604|11152.036|10715.4312|10648.1387|10382.7732|10611.9842|10189.2498|10600.4026|\n",
            "|Afghanistan|   Manure Management|     Emissions (CH4)|kilotons|  15.0621|  12.1998|  18.3753|  18.6686|  17.5698|    18.49|  19.5214|  20.5011|   22.421|  22.5567|  26.5669|  26.1599|  26.0913|  26.0859|  26.3682|    24.762|   24.6335|   23.6543|   24.3787|   24.0501|   24.2306|\n",
            "|Afghanistan|   Manure Management|     Emissions (N2O)|kilotons|   0.3613|   0.3193|   0.2945|   0.3033|   0.3173|   0.3285|   0.3005|   0.2771|   0.3326|   0.3542|    0.398|   0.4177|   0.4013|   0.3868|   0.3932|    0.3946|    0.3932|    0.4014|    0.4028|    0.3513|    0.4033|\n",
            "|Afghanistan|   Manure Management|Emissions (CO2eq)...|kilotons| 421.7377| 341.5936| 514.5073| 522.7211| 491.9558| 517.7189| 546.5998| 574.0322| 627.7872| 631.5865| 743.8726| 732.4766| 730.5556| 730.4049| 738.3107|  693.3371|   689.739|  662.3203|  682.6043|  673.4015|  678.4564|\n",
            "|Afghanistan|   Manure Management|Emissions (CO2eq)...|kilotons|  95.7551|  84.6123|   78.054|  80.3814|  84.0816|  87.0479|   79.643|  73.4362|  88.1474|  93.8549| 105.4627| 110.6942| 106.3533| 102.4912|  104.193|  104.5636|  104.1987|  106.3599|  106.7321|   93.0997|  106.8751|\n",
            "+-----------+--------------------+--------------------+--------+---------+---------+---------+---------+---------+---------+---------+---------+---------+---------+---------+---------+---------+---------+---------+----------+----------+----------+----------+----------+----------+\n",
            "only showing top 20 rows\n",
            "\n"
          ]
        }
      ]
    },
    {
      "cell_type": "code",
      "source": [
        "import pandas as pd"
      ],
      "metadata": {
        "id": "uix80S4dCUuD"
      },
      "execution_count": null,
      "outputs": []
    },
    {
      "cell_type": "code",
      "source": [
        "emissions_pandas_df = total_emissions_cleaned_df.toPandas()"
      ],
      "metadata": {
        "id": "rEwXmZUmCYc8"
      },
      "execution_count": null,
      "outputs": []
    },
    {
      "cell_type": "code",
      "source": [
        "emissions_pandas_df"
      ],
      "metadata": {
        "colab": {
          "base_uri": "https://localhost:8080/",
          "height": 745
        },
        "id": "G_VqE6y0Caa9",
        "outputId": "b5ba2bd8-ab8c-4de6-a346-a3f6d09bef7f"
      },
      "execution_count": null,
      "outputs": [
        {
          "output_type": "execute_result",
          "data": {
            "text/plain": [
              "              Area                         Item  \\\n",
              "0      Afghanistan                Crop Residues   \n",
              "1      Afghanistan                Crop Residues   \n",
              "2      Afghanistan                Crop Residues   \n",
              "3      Afghanistan                Crop Residues   \n",
              "4      Afghanistan                Crop Residues   \n",
              "...            ...                          ...   \n",
              "38426       Sweden  Drained organic soils (N2O)   \n",
              "38427       Sweden  Drained organic soils (N2O)   \n",
              "38428       Sweden  Drained organic soils (N2O)   \n",
              "38429       Sweden  Drained organic soils (N2O)   \n",
              "38430       Sweden  Drained organic soils (N2O)   \n",
              "\n",
              "                          Emission_Type      Unit  Year_2000  Year_2001  \\\n",
              "0                Direct emissions (N2O)  kilotons     0.5200     0.5267   \n",
              "1              Indirect emissions (N2O)  kilotons     0.1170     0.1185   \n",
              "2                       Emissions (N2O)  kilotons     0.6370     0.6452   \n",
              "3      Emissions (CO2eq) from N2O (AR5)  kilotons   168.8070   170.9884   \n",
              "4               Emissions (CO2eq) (AR5)  kilotons   168.8070   170.9884   \n",
              "...                                 ...       ...        ...        ...   \n",
              "38426                   Emissions (N2O)  kilotons     5.1092     5.1209   \n",
              "38427                   Emissions (N2O)  kilotons     3.0553     3.0473   \n",
              "38428  Emissions (CO2eq) from N2O (AR5)  kilotons  1353.9379  1357.0467   \n",
              "38429  Emissions (CO2eq) from N2O (AR5)  kilotons   809.6447   807.5436   \n",
              "38430           Emissions (CO2eq) (AR5)  kilotons  1353.9379  1357.0467   \n",
              "\n",
              "       Year_2002  Year_2003  Year_2004  Year_2005  ...  Year_2011  Year_2012  \\\n",
              "0         0.8200     0.9988     0.8225     1.1821  ...     1.0321     1.3726   \n",
              "1         0.1845     0.2247     0.1851     0.2660  ...     0.2322     0.3088   \n",
              "2         1.0045     1.2235     1.0075     1.4481  ...     1.2643     1.6815   \n",
              "3       266.1975   324.2195   266.9995   383.7498  ...   335.0379   445.5958   \n",
              "4       266.1975   324.2195   266.9995   383.7498  ...   335.0379   445.5958   \n",
              "...          ...        ...        ...        ...  ...        ...        ...   \n",
              "38426     5.1355     5.1857     5.2963     5.4384  ...     6.0675     6.1048   \n",
              "38427     3.0351     3.0228     3.0142     3.0049  ...     2.9036     2.8808   \n",
              "38428  1360.8961  1374.2134  1403.5229  1441.1851  ...  1607.8907  1617.7663   \n",
              "38429   804.2915   801.0535   798.7694   796.3083  ...   769.4588   763.4116   \n",
              "38430  1360.8961  1374.2134  1403.5229  1441.1851  ...  1607.8907  1617.7663   \n",
              "\n",
              "       Year_2013  Year_2014  Year_2015  Year_2016  Year_2017  Year_2018  \\\n",
              "0         1.4018     1.4584     1.2424     1.1940     1.0617     0.8988   \n",
              "1         0.3154     0.3281     0.2795     0.2687     0.2389     0.2022   \n",
              "2         1.7173     1.7865     1.5220     1.4627     1.3005     1.1011   \n",
              "3       455.0727   473.4174   403.3181   387.6130   344.6447   291.7838   \n",
              "4       455.0727   473.4174   403.3181   387.6130   344.6447   291.7838   \n",
              "...          ...        ...        ...        ...        ...        ...   \n",
              "38426     6.1144     6.1765     6.1881     6.2629     6.3629     6.7063   \n",
              "38427     2.8557     2.8395     2.8303     2.8156     2.7989     2.7878   \n",
              "38428  1620.3241  1636.7712  1639.8453  1659.6792  1686.1590  1777.1796   \n",
              "38429   756.7598   752.4800   750.0283   746.1282   741.7152   738.7774   \n",
              "38430  1620.3241  1636.7712  1639.8453  1659.6792  1686.1590  1777.1796   \n",
              "\n",
              "       Year_2019  Year_2020  \n",
              "0         1.2176     1.3170  \n",
              "1         0.2740     0.2963  \n",
              "2         1.4916     1.6133  \n",
              "3       395.2689   427.5284  \n",
              "4       395.2689   427.5284  \n",
              "...          ...        ...  \n",
              "38426     6.9126     6.9338  \n",
              "38427     2.7743     2.7589  \n",
              "38428  1831.8376  1837.4575  \n",
              "38429   735.1846   731.1023  \n",
              "38430  1831.8376  1837.4575  \n",
              "\n",
              "[38431 rows x 25 columns]"
            ],
            "text/html": [
              "\n",
              "  <div id=\"df-ca29bf2e-b7a3-4cff-a8bd-109b6d2e859f\">\n",
              "    <div class=\"colab-df-container\">\n",
              "      <div>\n",
              "<style scoped>\n",
              "    .dataframe tbody tr th:only-of-type {\n",
              "        vertical-align: middle;\n",
              "    }\n",
              "\n",
              "    .dataframe tbody tr th {\n",
              "        vertical-align: top;\n",
              "    }\n",
              "\n",
              "    .dataframe thead th {\n",
              "        text-align: right;\n",
              "    }\n",
              "</style>\n",
              "<table border=\"1\" class=\"dataframe\">\n",
              "  <thead>\n",
              "    <tr style=\"text-align: right;\">\n",
              "      <th></th>\n",
              "      <th>Area</th>\n",
              "      <th>Item</th>\n",
              "      <th>Emission_Type</th>\n",
              "      <th>Unit</th>\n",
              "      <th>Year_2000</th>\n",
              "      <th>Year_2001</th>\n",
              "      <th>Year_2002</th>\n",
              "      <th>Year_2003</th>\n",
              "      <th>Year_2004</th>\n",
              "      <th>Year_2005</th>\n",
              "      <th>...</th>\n",
              "      <th>Year_2011</th>\n",
              "      <th>Year_2012</th>\n",
              "      <th>Year_2013</th>\n",
              "      <th>Year_2014</th>\n",
              "      <th>Year_2015</th>\n",
              "      <th>Year_2016</th>\n",
              "      <th>Year_2017</th>\n",
              "      <th>Year_2018</th>\n",
              "      <th>Year_2019</th>\n",
              "      <th>Year_2020</th>\n",
              "    </tr>\n",
              "  </thead>\n",
              "  <tbody>\n",
              "    <tr>\n",
              "      <th>0</th>\n",
              "      <td>Afghanistan</td>\n",
              "      <td>Crop Residues</td>\n",
              "      <td>Direct emissions (N2O)</td>\n",
              "      <td>kilotons</td>\n",
              "      <td>0.5200</td>\n",
              "      <td>0.5267</td>\n",
              "      <td>0.8200</td>\n",
              "      <td>0.9988</td>\n",
              "      <td>0.8225</td>\n",
              "      <td>1.1821</td>\n",
              "      <td>...</td>\n",
              "      <td>1.0321</td>\n",
              "      <td>1.3726</td>\n",
              "      <td>1.4018</td>\n",
              "      <td>1.4584</td>\n",
              "      <td>1.2424</td>\n",
              "      <td>1.1940</td>\n",
              "      <td>1.0617</td>\n",
              "      <td>0.8988</td>\n",
              "      <td>1.2176</td>\n",
              "      <td>1.3170</td>\n",
              "    </tr>\n",
              "    <tr>\n",
              "      <th>1</th>\n",
              "      <td>Afghanistan</td>\n",
              "      <td>Crop Residues</td>\n",
              "      <td>Indirect emissions (N2O)</td>\n",
              "      <td>kilotons</td>\n",
              "      <td>0.1170</td>\n",
              "      <td>0.1185</td>\n",
              "      <td>0.1845</td>\n",
              "      <td>0.2247</td>\n",
              "      <td>0.1851</td>\n",
              "      <td>0.2660</td>\n",
              "      <td>...</td>\n",
              "      <td>0.2322</td>\n",
              "      <td>0.3088</td>\n",
              "      <td>0.3154</td>\n",
              "      <td>0.3281</td>\n",
              "      <td>0.2795</td>\n",
              "      <td>0.2687</td>\n",
              "      <td>0.2389</td>\n",
              "      <td>0.2022</td>\n",
              "      <td>0.2740</td>\n",
              "      <td>0.2963</td>\n",
              "    </tr>\n",
              "    <tr>\n",
              "      <th>2</th>\n",
              "      <td>Afghanistan</td>\n",
              "      <td>Crop Residues</td>\n",
              "      <td>Emissions (N2O)</td>\n",
              "      <td>kilotons</td>\n",
              "      <td>0.6370</td>\n",
              "      <td>0.6452</td>\n",
              "      <td>1.0045</td>\n",
              "      <td>1.2235</td>\n",
              "      <td>1.0075</td>\n",
              "      <td>1.4481</td>\n",
              "      <td>...</td>\n",
              "      <td>1.2643</td>\n",
              "      <td>1.6815</td>\n",
              "      <td>1.7173</td>\n",
              "      <td>1.7865</td>\n",
              "      <td>1.5220</td>\n",
              "      <td>1.4627</td>\n",
              "      <td>1.3005</td>\n",
              "      <td>1.1011</td>\n",
              "      <td>1.4916</td>\n",
              "      <td>1.6133</td>\n",
              "    </tr>\n",
              "    <tr>\n",
              "      <th>3</th>\n",
              "      <td>Afghanistan</td>\n",
              "      <td>Crop Residues</td>\n",
              "      <td>Emissions (CO2eq) from N2O (AR5)</td>\n",
              "      <td>kilotons</td>\n",
              "      <td>168.8070</td>\n",
              "      <td>170.9884</td>\n",
              "      <td>266.1975</td>\n",
              "      <td>324.2195</td>\n",
              "      <td>266.9995</td>\n",
              "      <td>383.7498</td>\n",
              "      <td>...</td>\n",
              "      <td>335.0379</td>\n",
              "      <td>445.5958</td>\n",
              "      <td>455.0727</td>\n",
              "      <td>473.4174</td>\n",
              "      <td>403.3181</td>\n",
              "      <td>387.6130</td>\n",
              "      <td>344.6447</td>\n",
              "      <td>291.7838</td>\n",
              "      <td>395.2689</td>\n",
              "      <td>427.5284</td>\n",
              "    </tr>\n",
              "    <tr>\n",
              "      <th>4</th>\n",
              "      <td>Afghanistan</td>\n",
              "      <td>Crop Residues</td>\n",
              "      <td>Emissions (CO2eq) (AR5)</td>\n",
              "      <td>kilotons</td>\n",
              "      <td>168.8070</td>\n",
              "      <td>170.9884</td>\n",
              "      <td>266.1975</td>\n",
              "      <td>324.2195</td>\n",
              "      <td>266.9995</td>\n",
              "      <td>383.7498</td>\n",
              "      <td>...</td>\n",
              "      <td>335.0379</td>\n",
              "      <td>445.5958</td>\n",
              "      <td>455.0727</td>\n",
              "      <td>473.4174</td>\n",
              "      <td>403.3181</td>\n",
              "      <td>387.6130</td>\n",
              "      <td>344.6447</td>\n",
              "      <td>291.7838</td>\n",
              "      <td>395.2689</td>\n",
              "      <td>427.5284</td>\n",
              "    </tr>\n",
              "    <tr>\n",
              "      <th>...</th>\n",
              "      <td>...</td>\n",
              "      <td>...</td>\n",
              "      <td>...</td>\n",
              "      <td>...</td>\n",
              "      <td>...</td>\n",
              "      <td>...</td>\n",
              "      <td>...</td>\n",
              "      <td>...</td>\n",
              "      <td>...</td>\n",
              "      <td>...</td>\n",
              "      <td>...</td>\n",
              "      <td>...</td>\n",
              "      <td>...</td>\n",
              "      <td>...</td>\n",
              "      <td>...</td>\n",
              "      <td>...</td>\n",
              "      <td>...</td>\n",
              "      <td>...</td>\n",
              "      <td>...</td>\n",
              "      <td>...</td>\n",
              "      <td>...</td>\n",
              "    </tr>\n",
              "    <tr>\n",
              "      <th>38426</th>\n",
              "      <td>Sweden</td>\n",
              "      <td>Drained organic soils (N2O)</td>\n",
              "      <td>Emissions (N2O)</td>\n",
              "      <td>kilotons</td>\n",
              "      <td>5.1092</td>\n",
              "      <td>5.1209</td>\n",
              "      <td>5.1355</td>\n",
              "      <td>5.1857</td>\n",
              "      <td>5.2963</td>\n",
              "      <td>5.4384</td>\n",
              "      <td>...</td>\n",
              "      <td>6.0675</td>\n",
              "      <td>6.1048</td>\n",
              "      <td>6.1144</td>\n",
              "      <td>6.1765</td>\n",
              "      <td>6.1881</td>\n",
              "      <td>6.2629</td>\n",
              "      <td>6.3629</td>\n",
              "      <td>6.7063</td>\n",
              "      <td>6.9126</td>\n",
              "      <td>6.9338</td>\n",
              "    </tr>\n",
              "    <tr>\n",
              "      <th>38427</th>\n",
              "      <td>Sweden</td>\n",
              "      <td>Drained organic soils (N2O)</td>\n",
              "      <td>Emissions (N2O)</td>\n",
              "      <td>kilotons</td>\n",
              "      <td>3.0553</td>\n",
              "      <td>3.0473</td>\n",
              "      <td>3.0351</td>\n",
              "      <td>3.0228</td>\n",
              "      <td>3.0142</td>\n",
              "      <td>3.0049</td>\n",
              "      <td>...</td>\n",
              "      <td>2.9036</td>\n",
              "      <td>2.8808</td>\n",
              "      <td>2.8557</td>\n",
              "      <td>2.8395</td>\n",
              "      <td>2.8303</td>\n",
              "      <td>2.8156</td>\n",
              "      <td>2.7989</td>\n",
              "      <td>2.7878</td>\n",
              "      <td>2.7743</td>\n",
              "      <td>2.7589</td>\n",
              "    </tr>\n",
              "    <tr>\n",
              "      <th>38428</th>\n",
              "      <td>Sweden</td>\n",
              "      <td>Drained organic soils (N2O)</td>\n",
              "      <td>Emissions (CO2eq) from N2O (AR5)</td>\n",
              "      <td>kilotons</td>\n",
              "      <td>1353.9379</td>\n",
              "      <td>1357.0467</td>\n",
              "      <td>1360.8961</td>\n",
              "      <td>1374.2134</td>\n",
              "      <td>1403.5229</td>\n",
              "      <td>1441.1851</td>\n",
              "      <td>...</td>\n",
              "      <td>1607.8907</td>\n",
              "      <td>1617.7663</td>\n",
              "      <td>1620.3241</td>\n",
              "      <td>1636.7712</td>\n",
              "      <td>1639.8453</td>\n",
              "      <td>1659.6792</td>\n",
              "      <td>1686.1590</td>\n",
              "      <td>1777.1796</td>\n",
              "      <td>1831.8376</td>\n",
              "      <td>1837.4575</td>\n",
              "    </tr>\n",
              "    <tr>\n",
              "      <th>38429</th>\n",
              "      <td>Sweden</td>\n",
              "      <td>Drained organic soils (N2O)</td>\n",
              "      <td>Emissions (CO2eq) from N2O (AR5)</td>\n",
              "      <td>kilotons</td>\n",
              "      <td>809.6447</td>\n",
              "      <td>807.5436</td>\n",
              "      <td>804.2915</td>\n",
              "      <td>801.0535</td>\n",
              "      <td>798.7694</td>\n",
              "      <td>796.3083</td>\n",
              "      <td>...</td>\n",
              "      <td>769.4588</td>\n",
              "      <td>763.4116</td>\n",
              "      <td>756.7598</td>\n",
              "      <td>752.4800</td>\n",
              "      <td>750.0283</td>\n",
              "      <td>746.1282</td>\n",
              "      <td>741.7152</td>\n",
              "      <td>738.7774</td>\n",
              "      <td>735.1846</td>\n",
              "      <td>731.1023</td>\n",
              "    </tr>\n",
              "    <tr>\n",
              "      <th>38430</th>\n",
              "      <td>Sweden</td>\n",
              "      <td>Drained organic soils (N2O)</td>\n",
              "      <td>Emissions (CO2eq) (AR5)</td>\n",
              "      <td>kilotons</td>\n",
              "      <td>1353.9379</td>\n",
              "      <td>1357.0467</td>\n",
              "      <td>1360.8961</td>\n",
              "      <td>1374.2134</td>\n",
              "      <td>1403.5229</td>\n",
              "      <td>1441.1851</td>\n",
              "      <td>...</td>\n",
              "      <td>1607.8907</td>\n",
              "      <td>1617.7663</td>\n",
              "      <td>1620.3241</td>\n",
              "      <td>1636.7712</td>\n",
              "      <td>1639.8453</td>\n",
              "      <td>1659.6792</td>\n",
              "      <td>1686.1590</td>\n",
              "      <td>1777.1796</td>\n",
              "      <td>1831.8376</td>\n",
              "      <td>1837.4575</td>\n",
              "    </tr>\n",
              "  </tbody>\n",
              "</table>\n",
              "<p>38431 rows × 25 columns</p>\n",
              "</div>\n",
              "      <button class=\"colab-df-convert\" onclick=\"convertToInteractive('df-ca29bf2e-b7a3-4cff-a8bd-109b6d2e859f')\"\n",
              "              title=\"Convert this dataframe to an interactive table.\"\n",
              "              style=\"display:none;\">\n",
              "        \n",
              "  <svg xmlns=\"http://www.w3.org/2000/svg\" height=\"24px\"viewBox=\"0 0 24 24\"\n",
              "       width=\"24px\">\n",
              "    <path d=\"M0 0h24v24H0V0z\" fill=\"none\"/>\n",
              "    <path d=\"M18.56 5.44l.94 2.06.94-2.06 2.06-.94-2.06-.94-.94-2.06-.94 2.06-2.06.94zm-11 1L8.5 8.5l.94-2.06 2.06-.94-2.06-.94L8.5 2.5l-.94 2.06-2.06.94zm10 10l.94 2.06.94-2.06 2.06-.94-2.06-.94-.94-2.06-.94 2.06-2.06.94z\"/><path d=\"M17.41 7.96l-1.37-1.37c-.4-.4-.92-.59-1.43-.59-.52 0-1.04.2-1.43.59L10.3 9.45l-7.72 7.72c-.78.78-.78 2.05 0 2.83L4 21.41c.39.39.9.59 1.41.59.51 0 1.02-.2 1.41-.59l7.78-7.78 2.81-2.81c.8-.78.8-2.07 0-2.86zM5.41 20L4 18.59l7.72-7.72 1.47 1.35L5.41 20z\"/>\n",
              "  </svg>\n",
              "      </button>\n",
              "      \n",
              "  <style>\n",
              "    .colab-df-container {\n",
              "      display:flex;\n",
              "      flex-wrap:wrap;\n",
              "      gap: 12px;\n",
              "    }\n",
              "\n",
              "    .colab-df-convert {\n",
              "      background-color: #E8F0FE;\n",
              "      border: none;\n",
              "      border-radius: 50%;\n",
              "      cursor: pointer;\n",
              "      display: none;\n",
              "      fill: #1967D2;\n",
              "      height: 32px;\n",
              "      padding: 0 0 0 0;\n",
              "      width: 32px;\n",
              "    }\n",
              "\n",
              "    .colab-df-convert:hover {\n",
              "      background-color: #E2EBFA;\n",
              "      box-shadow: 0px 1px 2px rgba(60, 64, 67, 0.3), 0px 1px 3px 1px rgba(60, 64, 67, 0.15);\n",
              "      fill: #174EA6;\n",
              "    }\n",
              "\n",
              "    [theme=dark] .colab-df-convert {\n",
              "      background-color: #3B4455;\n",
              "      fill: #D2E3FC;\n",
              "    }\n",
              "\n",
              "    [theme=dark] .colab-df-convert:hover {\n",
              "      background-color: #434B5C;\n",
              "      box-shadow: 0px 1px 3px 1px rgba(0, 0, 0, 0.15);\n",
              "      filter: drop-shadow(0px 1px 2px rgba(0, 0, 0, 0.3));\n",
              "      fill: #FFFFFF;\n",
              "    }\n",
              "  </style>\n",
              "\n",
              "      <script>\n",
              "        const buttonEl =\n",
              "          document.querySelector('#df-ca29bf2e-b7a3-4cff-a8bd-109b6d2e859f button.colab-df-convert');\n",
              "        buttonEl.style.display =\n",
              "          google.colab.kernel.accessAllowed ? 'block' : 'none';\n",
              "\n",
              "        async function convertToInteractive(key) {\n",
              "          const element = document.querySelector('#df-ca29bf2e-b7a3-4cff-a8bd-109b6d2e859f');\n",
              "          const dataTable =\n",
              "            await google.colab.kernel.invokeFunction('convertToInteractive',\n",
              "                                                     [key], {});\n",
              "          if (!dataTable) return;\n",
              "\n",
              "          const docLinkHtml = 'Like what you see? Visit the ' +\n",
              "            '<a target=\"_blank\" href=https://colab.research.google.com/notebooks/data_table.ipynb>data table notebook</a>'\n",
              "            + ' to learn more about interactive tables.';\n",
              "          element.innerHTML = '';\n",
              "          dataTable['output_type'] = 'display_data';\n",
              "          await google.colab.output.renderOutput(dataTable, element);\n",
              "          const docLink = document.createElement('div');\n",
              "          docLink.innerHTML = docLinkHtml;\n",
              "          element.appendChild(docLink);\n",
              "        }\n",
              "      </script>\n",
              "    </div>\n",
              "  </div>\n",
              "  "
            ]
          },
          "metadata": {},
          "execution_count": 10
        }
      ]
    },
    {
      "cell_type": "code",
      "source": [
        "emissions_pandas_df['Emission_Type'].unique()"
      ],
      "metadata": {
        "colab": {
          "base_uri": "https://localhost:8080/"
        },
        "id": "gWuaFY7k8LNA",
        "outputId": "3b04829a-6fb5-4690-8fce-f5f250f17d41"
      },
      "execution_count": null,
      "outputs": [
        {
          "output_type": "execute_result",
          "data": {
            "text/plain": [
              "array(['Direct emissions (N2O)', 'Indirect emissions (N2O)',\n",
              "       'Emissions (N2O)', 'Emissions (CO2eq) from N2O (AR5)',\n",
              "       'Emissions (CO2eq) (AR5)', 'Emissions (CH4)',\n",
              "       'Emissions (CO2eq) from CH4 (AR5)', 'Emissions (CO2)',\n",
              "       'Emissions (CO2eq) from F-gases (AR5)'], dtype=object)"
            ]
          },
          "metadata": {},
          "execution_count": 11
        }
      ]
    },
    {
      "cell_type": "code",
      "source": [
        "emissions_summary_df_pandas = emissions_pandas_df.describe()\n",
        "emissions_summary_df_pandas.insert(0, 'Index', emissions_summary_df_pandas.index)\n",
        "emissions_summary_df_pandas"
      ],
      "metadata": {
        "id": "BwdpRWDBC7na",
        "colab": {
          "base_uri": "https://localhost:8080/",
          "height": 394
        },
        "outputId": "8c91e417-ddd4-475a-cceb-acce05da7ec4"
      },
      "execution_count": null,
      "outputs": [
        {
          "output_type": "execute_result",
          "data": {
            "text/plain": [
              "       Index     Year_2000     Year_2001     Year_2002     Year_2003  \\\n",
              "count  count  3.843100e+04  3.843100e+04  3.843100e+04  3.843100e+04   \n",
              "mean    mean  8.062607e+03  8.008313e+03  8.359142e+03  8.604091e+03   \n",
              "std      std  9.433529e+04  9.591183e+04  1.022490e+05  1.127878e+05   \n",
              "min      min -7.410051e+05 -7.971831e+05 -7.971831e+05 -7.971831e+05   \n",
              "25%      25%  2.650000e-02  1.900000e-02  2.015000e-02  2.350000e-02   \n",
              "50%      50%  6.916000e+00  6.178700e+00  6.434500e+00  6.905300e+00   \n",
              "75%      75%  3.779087e+02  3.616760e+02  3.752926e+02  3.950836e+02   \n",
              "max      max  5.383231e+06  5.484582e+06  5.925897e+06  6.731423e+06   \n",
              "\n",
              "          Year_2004     Year_2005     Year_2006     Year_2007     Year_2008  \\\n",
              "count  3.843100e+04  3.843100e+04  3.843100e+04  3.843100e+04  3.843100e+04   \n",
              "mean   9.173096e+03  9.405770e+03  9.905405e+03  9.963879e+03  1.020617e+04   \n",
              "std    1.252867e+05  1.361241e+05  1.478449e+05  1.555475e+05  1.642628e+05   \n",
              "min   -7.971831e+05 -7.971831e+05 -7.971831e+05 -7.971831e+05 -8.156754e+05   \n",
              "25%    2.200000e-02  2.440000e-02  2.510000e-02  2.885000e-02  2.660000e-02   \n",
              "50%    6.861000e+00  7.178900e+00  7.342500e+00  7.746800e+00  7.675100e+00   \n",
              "75%    3.989841e+02  4.205209e+02  4.215623e+02  4.387105e+02  4.451113e+02   \n",
              "max    7.577858e+06  8.375211e+06  9.128191e+06  9.683548e+06  1.021723e+07   \n",
              "\n",
              "       ...     Year_2011     Year_2012     Year_2013     Year_2014  \\\n",
              "count  ...  3.843100e+04  3.843100e+04  3.843100e+04  3.843100e+04   \n",
              "mean   ...  1.081792e+04  1.102873e+04  1.111563e+04  1.139590e+04   \n",
              "std    ...  1.969400e+05  2.020808e+05  2.058135e+05  2.084398e+05   \n",
              "min    ... -8.648649e+05 -8.781114e+05 -8.509092e+05 -8.451650e+05   \n",
              "25%    ...  2.810000e-02  3.100000e-02  2.945000e-02  3.100000e-02   \n",
              "50%    ...  8.245500e+00  8.406400e+00  8.387400e+00  8.467200e+00   \n",
              "75%    ...  4.629759e+02  4.645124e+02  4.759622e+02  4.775167e+02   \n",
              "max    ...  1.250354e+07  1.279649e+07  1.309592e+07  1.325110e+07   \n",
              "\n",
              "          Year_2015     Year_2016     Year_2017     Year_2018     Year_2019  \\\n",
              "count  3.843100e+04  3.843100e+04  3.843100e+04  3.843100e+04  3.843100e+04   \n",
              "mean   1.143808e+04  1.139673e+04  1.158284e+04  1.180528e+04  1.201421e+04   \n",
              "std    2.073283e+05  2.043913e+05  2.084539e+05  2.134644e+05  2.188329e+05   \n",
              "min   -8.390716e+05 -8.239425e+05 -8.099242e+05 -7.982900e+05 -7.849816e+05   \n",
              "25%    3.400000e-02  3.365000e-02  3.605000e-02  3.380000e-02  3.715000e-02   \n",
              "50%    8.816000e+00  9.029100e+00  9.155800e+00  8.946500e+00  9.391600e+00   \n",
              "75%    4.913850e+02  5.044345e+02  5.106735e+02  5.111268e+02  5.199407e+02   \n",
              "max    1.313829e+07  1.298856e+07  1.323641e+07  1.352664e+07  1.389463e+07   \n",
              "\n",
              "          Year_2020  \n",
              "count  3.843100e+04  \n",
              "mean   1.173653e+04  \n",
              "std    2.203599e+05  \n",
              "min   -7.729378e+05  \n",
              "25%    3.060000e-02  \n",
              "50%    9.087500e+00  \n",
              "75%    5.058742e+02  \n",
              "max    1.409145e+07  \n",
              "\n",
              "[8 rows x 22 columns]"
            ],
            "text/html": [
              "\n",
              "  <div id=\"df-21be6397-bbdb-4d56-a94d-9ee79541a95b\">\n",
              "    <div class=\"colab-df-container\">\n",
              "      <div>\n",
              "<style scoped>\n",
              "    .dataframe tbody tr th:only-of-type {\n",
              "        vertical-align: middle;\n",
              "    }\n",
              "\n",
              "    .dataframe tbody tr th {\n",
              "        vertical-align: top;\n",
              "    }\n",
              "\n",
              "    .dataframe thead th {\n",
              "        text-align: right;\n",
              "    }\n",
              "</style>\n",
              "<table border=\"1\" class=\"dataframe\">\n",
              "  <thead>\n",
              "    <tr style=\"text-align: right;\">\n",
              "      <th></th>\n",
              "      <th>Index</th>\n",
              "      <th>Year_2000</th>\n",
              "      <th>Year_2001</th>\n",
              "      <th>Year_2002</th>\n",
              "      <th>Year_2003</th>\n",
              "      <th>Year_2004</th>\n",
              "      <th>Year_2005</th>\n",
              "      <th>Year_2006</th>\n",
              "      <th>Year_2007</th>\n",
              "      <th>Year_2008</th>\n",
              "      <th>...</th>\n",
              "      <th>Year_2011</th>\n",
              "      <th>Year_2012</th>\n",
              "      <th>Year_2013</th>\n",
              "      <th>Year_2014</th>\n",
              "      <th>Year_2015</th>\n",
              "      <th>Year_2016</th>\n",
              "      <th>Year_2017</th>\n",
              "      <th>Year_2018</th>\n",
              "      <th>Year_2019</th>\n",
              "      <th>Year_2020</th>\n",
              "    </tr>\n",
              "  </thead>\n",
              "  <tbody>\n",
              "    <tr>\n",
              "      <th>count</th>\n",
              "      <td>count</td>\n",
              "      <td>3.843100e+04</td>\n",
              "      <td>3.843100e+04</td>\n",
              "      <td>3.843100e+04</td>\n",
              "      <td>3.843100e+04</td>\n",
              "      <td>3.843100e+04</td>\n",
              "      <td>3.843100e+04</td>\n",
              "      <td>3.843100e+04</td>\n",
              "      <td>3.843100e+04</td>\n",
              "      <td>3.843100e+04</td>\n",
              "      <td>...</td>\n",
              "      <td>3.843100e+04</td>\n",
              "      <td>3.843100e+04</td>\n",
              "      <td>3.843100e+04</td>\n",
              "      <td>3.843100e+04</td>\n",
              "      <td>3.843100e+04</td>\n",
              "      <td>3.843100e+04</td>\n",
              "      <td>3.843100e+04</td>\n",
              "      <td>3.843100e+04</td>\n",
              "      <td>3.843100e+04</td>\n",
              "      <td>3.843100e+04</td>\n",
              "    </tr>\n",
              "    <tr>\n",
              "      <th>mean</th>\n",
              "      <td>mean</td>\n",
              "      <td>8.062607e+03</td>\n",
              "      <td>8.008313e+03</td>\n",
              "      <td>8.359142e+03</td>\n",
              "      <td>8.604091e+03</td>\n",
              "      <td>9.173096e+03</td>\n",
              "      <td>9.405770e+03</td>\n",
              "      <td>9.905405e+03</td>\n",
              "      <td>9.963879e+03</td>\n",
              "      <td>1.020617e+04</td>\n",
              "      <td>...</td>\n",
              "      <td>1.081792e+04</td>\n",
              "      <td>1.102873e+04</td>\n",
              "      <td>1.111563e+04</td>\n",
              "      <td>1.139590e+04</td>\n",
              "      <td>1.143808e+04</td>\n",
              "      <td>1.139673e+04</td>\n",
              "      <td>1.158284e+04</td>\n",
              "      <td>1.180528e+04</td>\n",
              "      <td>1.201421e+04</td>\n",
              "      <td>1.173653e+04</td>\n",
              "    </tr>\n",
              "    <tr>\n",
              "      <th>std</th>\n",
              "      <td>std</td>\n",
              "      <td>9.433529e+04</td>\n",
              "      <td>9.591183e+04</td>\n",
              "      <td>1.022490e+05</td>\n",
              "      <td>1.127878e+05</td>\n",
              "      <td>1.252867e+05</td>\n",
              "      <td>1.361241e+05</td>\n",
              "      <td>1.478449e+05</td>\n",
              "      <td>1.555475e+05</td>\n",
              "      <td>1.642628e+05</td>\n",
              "      <td>...</td>\n",
              "      <td>1.969400e+05</td>\n",
              "      <td>2.020808e+05</td>\n",
              "      <td>2.058135e+05</td>\n",
              "      <td>2.084398e+05</td>\n",
              "      <td>2.073283e+05</td>\n",
              "      <td>2.043913e+05</td>\n",
              "      <td>2.084539e+05</td>\n",
              "      <td>2.134644e+05</td>\n",
              "      <td>2.188329e+05</td>\n",
              "      <td>2.203599e+05</td>\n",
              "    </tr>\n",
              "    <tr>\n",
              "      <th>min</th>\n",
              "      <td>min</td>\n",
              "      <td>-7.410051e+05</td>\n",
              "      <td>-7.971831e+05</td>\n",
              "      <td>-7.971831e+05</td>\n",
              "      <td>-7.971831e+05</td>\n",
              "      <td>-7.971831e+05</td>\n",
              "      <td>-7.971831e+05</td>\n",
              "      <td>-7.971831e+05</td>\n",
              "      <td>-7.971831e+05</td>\n",
              "      <td>-8.156754e+05</td>\n",
              "      <td>...</td>\n",
              "      <td>-8.648649e+05</td>\n",
              "      <td>-8.781114e+05</td>\n",
              "      <td>-8.509092e+05</td>\n",
              "      <td>-8.451650e+05</td>\n",
              "      <td>-8.390716e+05</td>\n",
              "      <td>-8.239425e+05</td>\n",
              "      <td>-8.099242e+05</td>\n",
              "      <td>-7.982900e+05</td>\n",
              "      <td>-7.849816e+05</td>\n",
              "      <td>-7.729378e+05</td>\n",
              "    </tr>\n",
              "    <tr>\n",
              "      <th>25%</th>\n",
              "      <td>25%</td>\n",
              "      <td>2.650000e-02</td>\n",
              "      <td>1.900000e-02</td>\n",
              "      <td>2.015000e-02</td>\n",
              "      <td>2.350000e-02</td>\n",
              "      <td>2.200000e-02</td>\n",
              "      <td>2.440000e-02</td>\n",
              "      <td>2.510000e-02</td>\n",
              "      <td>2.885000e-02</td>\n",
              "      <td>2.660000e-02</td>\n",
              "      <td>...</td>\n",
              "      <td>2.810000e-02</td>\n",
              "      <td>3.100000e-02</td>\n",
              "      <td>2.945000e-02</td>\n",
              "      <td>3.100000e-02</td>\n",
              "      <td>3.400000e-02</td>\n",
              "      <td>3.365000e-02</td>\n",
              "      <td>3.605000e-02</td>\n",
              "      <td>3.380000e-02</td>\n",
              "      <td>3.715000e-02</td>\n",
              "      <td>3.060000e-02</td>\n",
              "    </tr>\n",
              "    <tr>\n",
              "      <th>50%</th>\n",
              "      <td>50%</td>\n",
              "      <td>6.916000e+00</td>\n",
              "      <td>6.178700e+00</td>\n",
              "      <td>6.434500e+00</td>\n",
              "      <td>6.905300e+00</td>\n",
              "      <td>6.861000e+00</td>\n",
              "      <td>7.178900e+00</td>\n",
              "      <td>7.342500e+00</td>\n",
              "      <td>7.746800e+00</td>\n",
              "      <td>7.675100e+00</td>\n",
              "      <td>...</td>\n",
              "      <td>8.245500e+00</td>\n",
              "      <td>8.406400e+00</td>\n",
              "      <td>8.387400e+00</td>\n",
              "      <td>8.467200e+00</td>\n",
              "      <td>8.816000e+00</td>\n",
              "      <td>9.029100e+00</td>\n",
              "      <td>9.155800e+00</td>\n",
              "      <td>8.946500e+00</td>\n",
              "      <td>9.391600e+00</td>\n",
              "      <td>9.087500e+00</td>\n",
              "    </tr>\n",
              "    <tr>\n",
              "      <th>75%</th>\n",
              "      <td>75%</td>\n",
              "      <td>3.779087e+02</td>\n",
              "      <td>3.616760e+02</td>\n",
              "      <td>3.752926e+02</td>\n",
              "      <td>3.950836e+02</td>\n",
              "      <td>3.989841e+02</td>\n",
              "      <td>4.205209e+02</td>\n",
              "      <td>4.215623e+02</td>\n",
              "      <td>4.387105e+02</td>\n",
              "      <td>4.451113e+02</td>\n",
              "      <td>...</td>\n",
              "      <td>4.629759e+02</td>\n",
              "      <td>4.645124e+02</td>\n",
              "      <td>4.759622e+02</td>\n",
              "      <td>4.775167e+02</td>\n",
              "      <td>4.913850e+02</td>\n",
              "      <td>5.044345e+02</td>\n",
              "      <td>5.106735e+02</td>\n",
              "      <td>5.111268e+02</td>\n",
              "      <td>5.199407e+02</td>\n",
              "      <td>5.058742e+02</td>\n",
              "    </tr>\n",
              "    <tr>\n",
              "      <th>max</th>\n",
              "      <td>max</td>\n",
              "      <td>5.383231e+06</td>\n",
              "      <td>5.484582e+06</td>\n",
              "      <td>5.925897e+06</td>\n",
              "      <td>6.731423e+06</td>\n",
              "      <td>7.577858e+06</td>\n",
              "      <td>8.375211e+06</td>\n",
              "      <td>9.128191e+06</td>\n",
              "      <td>9.683548e+06</td>\n",
              "      <td>1.021723e+07</td>\n",
              "      <td>...</td>\n",
              "      <td>1.250354e+07</td>\n",
              "      <td>1.279649e+07</td>\n",
              "      <td>1.309592e+07</td>\n",
              "      <td>1.325110e+07</td>\n",
              "      <td>1.313829e+07</td>\n",
              "      <td>1.298856e+07</td>\n",
              "      <td>1.323641e+07</td>\n",
              "      <td>1.352664e+07</td>\n",
              "      <td>1.389463e+07</td>\n",
              "      <td>1.409145e+07</td>\n",
              "    </tr>\n",
              "  </tbody>\n",
              "</table>\n",
              "<p>8 rows × 22 columns</p>\n",
              "</div>\n",
              "      <button class=\"colab-df-convert\" onclick=\"convertToInteractive('df-21be6397-bbdb-4d56-a94d-9ee79541a95b')\"\n",
              "              title=\"Convert this dataframe to an interactive table.\"\n",
              "              style=\"display:none;\">\n",
              "        \n",
              "  <svg xmlns=\"http://www.w3.org/2000/svg\" height=\"24px\"viewBox=\"0 0 24 24\"\n",
              "       width=\"24px\">\n",
              "    <path d=\"M0 0h24v24H0V0z\" fill=\"none\"/>\n",
              "    <path d=\"M18.56 5.44l.94 2.06.94-2.06 2.06-.94-2.06-.94-.94-2.06-.94 2.06-2.06.94zm-11 1L8.5 8.5l.94-2.06 2.06-.94-2.06-.94L8.5 2.5l-.94 2.06-2.06.94zm10 10l.94 2.06.94-2.06 2.06-.94-2.06-.94-.94-2.06-.94 2.06-2.06.94z\"/><path d=\"M17.41 7.96l-1.37-1.37c-.4-.4-.92-.59-1.43-.59-.52 0-1.04.2-1.43.59L10.3 9.45l-7.72 7.72c-.78.78-.78 2.05 0 2.83L4 21.41c.39.39.9.59 1.41.59.51 0 1.02-.2 1.41-.59l7.78-7.78 2.81-2.81c.8-.78.8-2.07 0-2.86zM5.41 20L4 18.59l7.72-7.72 1.47 1.35L5.41 20z\"/>\n",
              "  </svg>\n",
              "      </button>\n",
              "      \n",
              "  <style>\n",
              "    .colab-df-container {\n",
              "      display:flex;\n",
              "      flex-wrap:wrap;\n",
              "      gap: 12px;\n",
              "    }\n",
              "\n",
              "    .colab-df-convert {\n",
              "      background-color: #E8F0FE;\n",
              "      border: none;\n",
              "      border-radius: 50%;\n",
              "      cursor: pointer;\n",
              "      display: none;\n",
              "      fill: #1967D2;\n",
              "      height: 32px;\n",
              "      padding: 0 0 0 0;\n",
              "      width: 32px;\n",
              "    }\n",
              "\n",
              "    .colab-df-convert:hover {\n",
              "      background-color: #E2EBFA;\n",
              "      box-shadow: 0px 1px 2px rgba(60, 64, 67, 0.3), 0px 1px 3px 1px rgba(60, 64, 67, 0.15);\n",
              "      fill: #174EA6;\n",
              "    }\n",
              "\n",
              "    [theme=dark] .colab-df-convert {\n",
              "      background-color: #3B4455;\n",
              "      fill: #D2E3FC;\n",
              "    }\n",
              "\n",
              "    [theme=dark] .colab-df-convert:hover {\n",
              "      background-color: #434B5C;\n",
              "      box-shadow: 0px 1px 3px 1px rgba(0, 0, 0, 0.15);\n",
              "      filter: drop-shadow(0px 1px 2px rgba(0, 0, 0, 0.3));\n",
              "      fill: #FFFFFF;\n",
              "    }\n",
              "  </style>\n",
              "\n",
              "      <script>\n",
              "        const buttonEl =\n",
              "          document.querySelector('#df-21be6397-bbdb-4d56-a94d-9ee79541a95b button.colab-df-convert');\n",
              "        buttonEl.style.display =\n",
              "          google.colab.kernel.accessAllowed ? 'block' : 'none';\n",
              "\n",
              "        async function convertToInteractive(key) {\n",
              "          const element = document.querySelector('#df-21be6397-bbdb-4d56-a94d-9ee79541a95b');\n",
              "          const dataTable =\n",
              "            await google.colab.kernel.invokeFunction('convertToInteractive',\n",
              "                                                     [key], {});\n",
              "          if (!dataTable) return;\n",
              "\n",
              "          const docLinkHtml = 'Like what you see? Visit the ' +\n",
              "            '<a target=\"_blank\" href=https://colab.research.google.com/notebooks/data_table.ipynb>data table notebook</a>'\n",
              "            + ' to learn more about interactive tables.';\n",
              "          element.innerHTML = '';\n",
              "          dataTable['output_type'] = 'display_data';\n",
              "          await google.colab.output.renderOutput(dataTable, element);\n",
              "          const docLink = document.createElement('div');\n",
              "          docLink.innerHTML = docLinkHtml;\n",
              "          element.appendChild(docLink);\n",
              "        }\n",
              "      </script>\n",
              "    </div>\n",
              "  </div>\n",
              "  "
            ]
          },
          "metadata": {},
          "execution_count": 12
        }
      ]
    },
    {
      "cell_type": "code",
      "source": [
        "emissions_summary_df = spark.createDataFrame(emissions_summary_df_pandas)"
      ],
      "metadata": {
        "id": "8-OFa8HPDAbP"
      },
      "execution_count": null,
      "outputs": []
    },
    {
      "cell_type": "code",
      "source": [
        "emissions_summary_df.show()"
      ],
      "metadata": {
        "id": "ACyFFla0DbJd",
        "colab": {
          "base_uri": "https://localhost:8080/"
        },
        "outputId": "d19e89a0-435f-4420-f3d5-c0a02d223d89"
      },
      "execution_count": null,
      "outputs": [
        {
          "output_type": "stream",
          "name": "stdout",
          "text": [
            "+-----+------------------+-----------------+------------------+------------------+------------------+------------------+------------------+------------------+-----------------+--------------------+--------------------+------------------+------------------+--------------------+------------------+------------------+------------------+-----------------+------------------+------------------+------------------+\n",
            "|Index|         Year_2000|        Year_2001|         Year_2002|         Year_2003|         Year_2004|         Year_2005|         Year_2006|         Year_2007|        Year_2008|           Year_2009|           Year_2010|         Year_2011|         Year_2012|           Year_2013|         Year_2014|         Year_2015|         Year_2016|        Year_2017|         Year_2018|         Year_2019|         Year_2020|\n",
            "+-----+------------------+-----------------+------------------+------------------+------------------+------------------+------------------+------------------+-----------------+--------------------+--------------------+------------------+------------------+--------------------+------------------+------------------+------------------+-----------------+------------------+------------------+------------------+\n",
            "|count|           38431.0|          38431.0|           38431.0|           38431.0|           38431.0|           38431.0|           38431.0|           38431.0|          38431.0|             38431.0|             38431.0|           38431.0|           38431.0|             38431.0|           38431.0|           38431.0|           38431.0|          38431.0|           38431.0|           38431.0|           38431.0|\n",
            "| mean| 8062.606879594597|8008.313188431213| 8359.141922674406| 8604.091013796155| 9173.096242681688| 9405.769595261636| 9905.404584371994| 9963.878641638259|10206.17242764695|  10429.059016616793|   10714.79275791158|10817.916287627177|11028.732701228175|  11115.625778694282|11395.903954445628|11438.078556326924|11396.734783851578|11582.83989380708|11805.281567937342|12014.211863204184|11736.525516098982|\n",
            "|  std| 94335.29002323069|95911.82761339398|102249.02990325239|112787.78931119117|125286.72173693137|136124.09655268528|147844.86024998248|155547.46373597777|164262.7884512586|  170911.52388139276|  183692.31122855833|196939.95495279942|202080.76998803826|  205813.45775666027|208439.80143024778| 207328.2620620787|204391.26958188214|208453.8798093857| 213464.3923265148| 218832.8520661924|220359.91413672184|\n",
            "|  min|      -741005.1407|      -797183.079|       -797183.079|       -797183.079|       -797183.079|       -797183.079|       -797183.079|       -797183.079|     -815675.4055|        -904457.3378|        -899714.9962|      -864864.8577|      -878111.3866|        -850909.1503|      -845165.0442|      -839071.6446|       -823942.518|      -809924.196|      -798290.0139|      -784981.6256|      -772937.8498|\n",
            "|  25%|            0.0265|            0.019|           0.02015|            0.0235|             0.022|            0.0244|            0.0251|           0.02885|           0.0266|0.027450000000000002|0.029650000000000003|            0.0281|             0.031|0.029449999999999997|             0.031|             0.034|           0.03365|          0.03605|            0.0338|           0.03715|            0.0306|\n",
            "|  50%|             6.916|           6.1787|            6.4345|            6.9053|             6.861|            7.1789|            7.3425|            7.7468|           7.6751|              8.0077|               8.056|            8.2455|            8.4064|              8.3874|            8.4672|             8.816|            9.0291|           9.1558|            8.9465|            9.3916|            9.0875|\n",
            "|  75%|377.90869999999995|          361.676|         375.29255|         395.08355|         398.98405|420.52094999999997|          421.5623|438.71045000000004|         445.1113|            445.1113|             458.147|          462.9759|          464.5124|           475.96225|          477.5167|         491.38505|          504.4345|         510.6735|         511.12685|         519.94065|505.87424999999996|\n",
            "|  max|       5383231.142|      5484581.556|       5925896.739|       6731422.524|       7577858.028|       8375211.122|       9128191.329|         9683548.1|    1.021723057E7|       1.062105687E7|       1.145257094E7|     1.250354213E7|     1.279649375E7|       1.309591803E7|     1.325109657E7|     1.313829423E7|     1.298856187E7|    1.323641268E7|      1.35266445E7|     1.389462613E7|     1.409144631E7|\n",
            "+-----+------------------+-----------------+------------------+------------------+------------------+------------------+------------------+------------------+-----------------+--------------------+--------------------+------------------+------------------+--------------------+------------------+------------------+------------------+-----------------+------------------+------------------+------------------+\n",
            "\n"
          ]
        }
      ]
    },
    {
      "cell_type": "code",
      "source": [
        "from getpass import getpass\n",
        "password = getpass('Enter database password')\n",
        "\n",
        "mode = \"append\"\n",
        "jdbc_url=\"jdbc:postgresql://group-4-database.c0mbmuajokyj.us-east-2.rds.amazonaws.com:5432/postgres\"\n",
        "config = {\"user\":\"postgres\",\n",
        "          \"password\": password,\n",
        "          \"driver\":\"org.postgresql.Driver\"}"
      ],
      "metadata": {
        "id": "uL0T_DZ3MaDl",
        "colab": {
          "base_uri": "https://localhost:8080/"
        },
        "outputId": "41196039-38ac-4ad4-861f-6dcbabeb2011"
      },
      "execution_count": null,
      "outputs": [
        {
          "name": "stdout",
          "output_type": "stream",
          "text": [
            "Enter database password··········\n"
          ]
        }
      ]
    },
    {
      "cell_type": "code",
      "source": [
        "total_emissions_cleaned_df.write.jdbc(url=jdbc_url, table='total_emissions', mode=mode, properties=config)"
      ],
      "metadata": {
        "id": "8dQJU0nYMEPN"
      },
      "execution_count": null,
      "outputs": []
    },
    {
      "cell_type": "code",
      "source": [
        "emissions_summary_df.write.jdbc(url=jdbc_url, table='emissions_summary', mode=mode, properties=config)"
      ],
      "metadata": {
        "id": "81OnbePZpABT"
      },
      "execution_count": null,
      "outputs": []
    },
    {
      "cell_type": "code",
      "source": [
        "emissions_pandas_df['Area'].nunique()"
      ],
      "metadata": {
        "colab": {
          "base_uri": "https://localhost:8080/"
        },
        "id": "ggoWo2zqzu_G",
        "outputId": "0a0d3371-0885-4cc4-fdd9-4aafb13b3d9f"
      },
      "execution_count": null,
      "outputs": [
        {
          "output_type": "execute_result",
          "data": {
            "text/plain": [
              "200"
            ]
          },
          "metadata": {},
          "execution_count": 18
        }
      ]
    },
    {
      "cell_type": "markdown",
      "source": [
        "## Death Dataframe cleanup"
      ],
      "metadata": {
        "id": "r7EbUyvF6tdr"
      }
    },
    {
      "cell_type": "code",
      "source": [
        "url2 =\"https://casey-elizabeth-haley-kaleb-bucket.s3.us-east-2.amazonaws.com/number-of-deaths-by-risk-factor.csv\"\n",
        "spark.sparkContext.addFile(url2) \n",
        "uncleaned_death_df = spark.read.csv(SparkFiles.get(\"number-of-deaths-by-risk-factor.csv\"), sep=\",\", header=True, inferSchema=True)"
      ],
      "metadata": {
        "id": "AchGtmZi0I8n"
      },
      "execution_count": null,
      "outputs": []
    },
    {
      "cell_type": "code",
      "source": [
        "uncleaned_death_df.show()"
      ],
      "metadata": {
        "colab": {
          "base_uri": "https://localhost:8080/"
        },
        "id": "66Ni4Tqq6tJD",
        "outputId": "37876d6d-15a2-42ff-93d7-61d2124622b3"
      },
      "execution_count": null,
      "outputs": [
        {
          "output_type": "stream",
          "name": "stdout",
          "text": [
            "+-----------+----+----+----------------------------------------------------------------------------------------------------+----------------------------------------------------------------------------------------------------+-------------------------------------------------------------------------------------------+------------------------------------------------------------------------------------------------+-----------------------------------------------------------------------------------+------------------------------------------------------------------------------------------+-------------------------------------------------------------------------------------------+----------------------------------------------------------------------------------------+----------------------------------------------------------------------------------------+-------------------------------------------------------------------------------------+----------------------------------------------------------------------------------+--------------------------------------------------------------------------------------------------+----------------------------------------------------------------------------------------------------------------+----------------------------------------------------------------------------------------------+---------------------------------------------------------------------------------------------+-------------------------------------------------------------------------------+---------------------------------------------------------------------------------------------------+-------------------------------------------------------------------------------------+--------------------------------------------------------------------------------------------+-----------------------------------------------------------------------------------------+---------------------------------------------------------------------------------------------------------+--------------------------------------------------------------------------------+------------------------------------------------------------------------------------------------+--------------------------------------------------------------------------------------------+--------------------------------------------------------------------------------------+--------------------------------------------------------------------------------------------------+---------------------------------------------------------------------------------------------------+---------------------------------------------------------------------------------------+\n",
            "|     Entity|Code|Year|Deaths - Cause: All causes - Risk: Outdoor air pollution - OWID - Sex: Both - Age: All Ages (Number)|Deaths - Cause: All causes - Risk: High systolic blood pressure - Sex: Both - Age: All Ages (Number)|Deaths - Cause: All causes - Risk: Diet high in sodium - Sex: Both - Age: All Ages (Number)|Deaths - Cause: All causes - Risk: Diet low in whole grains - Sex: Both - Age: All Ages (Number)|Deaths - Cause: All causes - Risk: Alcohol use - Sex: Both - Age: All Ages (Number)|Deaths - Cause: All causes - Risk: Diet low in fruits - Sex: Both - Age: All Ages (Number)|Deaths - Cause: All causes - Risk: Unsafe water source - Sex: Both - Age: All Ages (Number)|Deaths - Cause: All causes - Risk: Secondhand smoke - Sex: Both - Age: All Ages (Number)|Deaths - Cause: All causes - Risk: Low birth weight - Sex: Both - Age: All Ages (Number)|Deaths - Cause: All causes - Risk: Child wasting - Sex: Both - Age: All Ages (Number)|Deaths - Cause: All causes - Risk: Unsafe sex - Sex: Both - Age: All Ages (Number)|Deaths - Cause: All causes - Risk: Diet low in nuts and seeds - Sex: Both - Age: All Ages (Number)|Deaths - Cause: All causes - Risk: Household air pollution from solid fuels - Sex: Both - Age: All Ages (Number)|Deaths - Cause: All causes - Risk: Diet low in vegetables - Sex: Both - Age: All Ages (Number)|Deaths - Cause: All causes - Risk: Low physical activity - Sex: Both - Age: All Ages (Number)|Deaths - Cause: All causes - Risk: Smoking - Sex: Both - Age: All Ages (Number)|Deaths - Cause: All causes - Risk: High fasting plasma glucose - Sex: Both - Age: All Ages (Number)|Deaths - Cause: All causes - Risk: Air pollution - Sex: Both - Age: All Ages (Number)|Deaths - Cause: All causes - Risk: High body-mass index - Sex: Both - Age: All Ages (Number)|Deaths - Cause: All causes - Risk: Unsafe sanitation - Sex: Both - Age: All Ages (Number)|Deaths - Cause: All causes - Risk: No access to handwashing facility - Sex: Both - Age: All Ages (Number)|Deaths - Cause: All causes - Risk: Drug use - Sex: Both - Age: All Ages (Number)|Deaths - Cause: All causes - Risk: Low bone mineral density - Sex: Both - Age: All Ages (Number)|Deaths - Cause: All causes - Risk: Vitamin A deficiency - Sex: Both - Age: All Ages (Number)|Deaths - Cause: All causes - Risk: Child stunting - Sex: Both - Age: All Ages (Number)|Deaths - Cause: All causes - Risk: Discontinued breastfeeding - Sex: Both - Age: All Ages (Number)|Deaths - Cause: All causes - Risk: Non-exclusive breastfeeding - Sex: Both - Age: All Ages (Number)|Deaths - Cause: All causes - Risk: Iron deficiency - Sex: Both - Age: All Ages (Number)|\n",
            "+-----------+----+----+----------------------------------------------------------------------------------------------------+----------------------------------------------------------------------------------------------------+-------------------------------------------------------------------------------------------+------------------------------------------------------------------------------------------------+-----------------------------------------------------------------------------------+------------------------------------------------------------------------------------------+-------------------------------------------------------------------------------------------+----------------------------------------------------------------------------------------+----------------------------------------------------------------------------------------+-------------------------------------------------------------------------------------+----------------------------------------------------------------------------------+--------------------------------------------------------------------------------------------------+----------------------------------------------------------------------------------------------------------------+----------------------------------------------------------------------------------------------+---------------------------------------------------------------------------------------------+-------------------------------------------------------------------------------+---------------------------------------------------------------------------------------------------+-------------------------------------------------------------------------------------+--------------------------------------------------------------------------------------------+-----------------------------------------------------------------------------------------+---------------------------------------------------------------------------------------------------------+--------------------------------------------------------------------------------+------------------------------------------------------------------------------------------------+--------------------------------------------------------------------------------------------+--------------------------------------------------------------------------------------+--------------------------------------------------------------------------------------------------+---------------------------------------------------------------------------------------------------+---------------------------------------------------------------------------------------+\n",
            "|Afghanistan| AFG|1990|                                                                                                3169|                                                                                               25633|                                                                                       1045|                                                                                            7077|                                                                                356|                                                                                      3185|                                                                                       3702|                                                                                    4794|                                                                                   16135|                                                                                19546|                                                                               351|                                                                                              2319|                                                                                                           34372|                                                                                          3679|                                                                                         2637|                                                                           5174|                                                                                              11449|                                                                                37231|                                                                                        9518|                                                                                     2798|                                                                                                     4825|                                                                             174|                                                                                             389|                                                                                        2016|                                                                                  7686|                                                                                               107|                                                                                               2216|                                                                                    564|\n",
            "|Afghanistan| AFG|1991|                                                                                                3222|                                                                                               25872|                                                                                       1055|                                                                                            7149|                                                                                364|                                                                                      3248|                                                                                       4309|                                                                                    4921|                                                                                   17924|                                                                                20334|                                                                               361|                                                                                              2449|                                                                                                           35392|                                                                                          3732|                                                                                         2652|                                                                           5247|                                                                                              11811|                                                                                38315|                                                                                        9489|                                                                                     3254|                                                                                                     5127|                                                                             188|                                                                                             389|                                                                                        2056|                                                                                  7886|                                                                                               121|                                                                                               2501|                                                                                    611|\n",
            "|Afghanistan| AFG|1992|                                                                                                3395|                                                                                               26309|                                                                                       1075|                                                                                            7297|                                                                                376|                                                                                      3351|                                                                                       5356|                                                                                    5279|                                                                                   21200|                                                                                22895|                                                                               378|                                                                                              2603|                                                                                                           38065|                                                                                          3827|                                                                                         2688|                                                                           5363|                                                                                              12265|                                                                                41172|                                                                                        9528|                                                                                     4042|                                                                                                     5889|                                                                             211|                                                                                             393|                                                                                        2100|                                                                                  8568|                                                                                               150|                                                                                               3053|                                                                                    700|\n",
            "|Afghanistan| AFG|1993|                                                                                                3623|                                                                                               26961|                                                                                       1103|                                                                                            7499|                                                                                389|                                                                                      3480|                                                                                       7152|                                                                                    5734|                                                                                   23795|                                                                                27002|                                                                               395|                                                                                              2771|                                                                                                           41154|                                                                                          3951|                                                                                         2744|                                                                           5522|                                                                                              12821|                                                                                44488|                                                                                        9611|                                                                                     5392|                                                                                                     7007|                                                                             232|                                                                                             411|                                                                                        2316|                                                                                  9875|                                                                                               204|                                                                                               3726|                                                                                    773|\n",
            "|Afghanistan| AFG|1994|                                                                                                3788|                                                                                               27658|                                                                                       1134|                                                                                            7698|                                                                                399|                                                                                      3610|                                                                                       7192|                                                                                    6050|                                                                                   24866|                                                                                29205|                                                                               410|                                                                                              2932|                                                                                                           43153|                                                                                          4075|                                                                                         2805|                                                                           5689|                                                                                              13400|                                                                                46634|                                                                                        9675|                                                                                     5418|                                                                                                     7421|                                                                             247|                                                                                             413|                                                                                        2665|                                                                                 11031|                                                                                               204|                                                                                               3833|                                                                                    812|\n",
            "|Afghanistan| AFG|1995|                                                                                                3869|                                                                                               28090|                                                                                       1154|                                                                                            7807|                                                                                406|                                                                                      3703|                                                                                       8378|                                                                                    6167|                                                                                   25534|                                                                                30943|                                                                               422|                                                                                              3049|                                                                                                           44024|                                                                                          4153|                                                                                         2839|                                                                           5801|                                                                                              13871|                                                                                47566|                                                                                        9608|                                                                                     6313|                                                                                                     7896|                                                                             260|                                                                                             417|                                                                                        3070|                                                                                 11973|                                                                                               233|                                                                                               4124|                                                                                    848|\n",
            "|Afghanistan| AFG|1996|                                                                                                3943|                                                                                               28587|                                                                                       1178|                                                                                            7943|                                                                                413|                                                                                      3819|                                                                                       8487|                                                                                    6298|                                                                                   25997|                                                                                31628|                                                                               435|                                                                                              3173|                                                                                                           45005|                                                                                          4247|                                                                                         2878|                                                                           5934|                                                                                              14413|                                                                                48617|                                                                                        9503|                                                                                     6393|                                                                                                     8098|                                                                             274|                                                                                             423|                                                                                        3214|                                                                                 12426|                                                                                               233|                                                                                               4183|                                                                                    883|\n",
            "|Afghanistan| AFG|1997|                                                                                                4024|                                                                                               29021|                                                                                       1202|                                                                                            8075|                                                                                420|                                                                                      3938|                                                                                       9348|                                                                                    6425|                                                                                   26246|                                                                                32736|                                                                               448|                                                                                              3298|                                                                                                           46017|                                                                                          4339|                                                                                         2914|                                                                           6066|                                                                                              14970|                                                                                49703|                                                                                        9286|                                                                                     7038|                                                                                                     8507|                                                                             287|                                                                                             425|                                                                                        3228|                                                                                 12805|                                                                                               255|                                                                                               4393|                                                                                    914|\n",
            "|Afghanistan| AFG|1998|                                                                                                4040|                                                                                               29349|                                                                                       1222|                                                                                            8173|                                                                                425|                                                                                      4038|                                                                                       9788|                                                                                    6402|                                                                                   25805|                                                                                32760|                                                                               458|                                                                                              3401|                                                                                                           46055|                                                                                          4409|                                                                                         2944|                                                                           6178|                                                                                              15502|                                                                                49746|                                                                                        9024|                                                                                     7366|                                                                                                     8560|                                                                             295|                                                                                             429|                                                                                        3413|                                                                                 13011|                                                                                               264|                                                                                               4417|                                                                                    924|\n",
            "|Afghanistan| AFG|1999|                                                                                                4042|                                                                                               29712|                                                                                       1242|                                                                                            8265|                                                                                426|                                                                                      4127|                                                                                       9931|                                                                                    6323|                                                                                   25080|                                                                                32271|                                                                               469|                                                                                              3482|                                                                                                           45681|                                                                                          4473|                                                                                         2976|                                                                           6288|                                                                                              16058|                                                                                49349|                                                                                        8857|                                                                                     7468|                                                                                                     8424|                                                                             302|                                                                                             428|                                                                                        3662|                                                                                 13052|                                                                                               263|                                                                                               4326|                                                                                    909|\n",
            "|Afghanistan| AFG|2000|                                                                                                4021|                                                                                               29999|                                                                                       1260|                                                                                            8328|                                                                                427|                                                                                      4174|                                                                                       9942|                                                                                    6227|                                                                                   24549|                                                                                31559|                                                                               482|                                                                                              3516|                                                                                                           45132|                                                                                          4501|                                                                                         3013|                                                                           6378|                                                                                              16545|                                                                                48763|                                                                                        8829|                                                                                     7472|                                                                                                     8233|                                                                             312|                                                                                             431|                                                                                        3855|                                                                                 12965|                                                                                               256|                                                                                               4195|                                                                                    897|\n",
            "|Afghanistan| AFG|2001|                                                                                                4014|                                                                                               30421|                                                                                       1282|                                                                                            8440|                                                                                432|                                                                                      4226|                                                                                      10052|                                                                                    6214|                                                                                   24859|                                                                                30938|                                                                               500|                                                                                              3543|                                                                                                           45028|                                                                                          4539|                                                                                         3068|                                                                           6505|                                                                                              17144|                                                                                48660|                                                                                        9047|                                                                                     7547|                                                                                                     8144|                                                                             328|                                                                                             436|                                                                                        3944|                                                                                 12732|                                                                                               250|                                                                                               4094|                                                                                    919|\n",
            "|Afghanistan| AFG|2002|                                                                                                3961|                                                                                               30189|                                                                                       1275|                                                                                            8383|                                                                                432|                                                                                      4184|                                                                                      10004|                                                                                    6103|                                                                                   25441|                                                                                29619|                                                                               507|                                                                                              3487|                                                                                                           44137|                                                                                          4483|                                                                                         3078|                                                                           6488|                                                                                              17467|                                                                                47732|                                                                                        9151|                                                                                     7497|                                                                                                     7915|                                                                             337|                                                                                             437|                                                                                        3798|                                                                                 12069|                                                                                               242|                                                                                               3947|                                                                                    937|\n",
            "|Afghanistan| AFG|2003|                                                                                                4116|                                                                                               30157|                                                                                       1277|                                                                                            8398|                                                                                437|                                                                                      4179|                                                                                      10841|                                                                                    6341|                                                                                   25617|                                                                                29098|                                                                               518|                                                                                              3457|                                                                                                           44953|                                                                                          4471|                                                                                         3104|                                                                           6528|                                                                                              17921|                                                                                48687|                                                                                        9410|                                                                                     8106|                                                                                                     8482|                                                                             356|                                                                                             433|                                                                                        1902|                                                                                  9862|                                                                                               263|                                                                                               3953|                                                                                    972|\n",
            "|Afghanistan| AFG|2004|                                                                                                4176|                                                                                               30225|                                                                                       1281|                                                                                            8433|                                                                                445|                                                                                      4188|                                                                                      10761|                                                                                    6383|                                                                                   25459|                                                                                28167|                                                                               533|                                                                                              3430|                                                                                                           44534|                                                                                          4475|                                                                                         3137|                                                                           6594|                                                                                              18397|                                                                                48337|                                                                                        9759|                                                                                     8028|                                                                                                     8440|                                                                             376|                                                                                             440|                                                                                        1330|                                                                                  8928|                                                                                               255|                                                                                               3774|                                                                                    985|\n",
            "|Afghanistan| AFG|2005|                                                                                                4176|                                                                                               30089|                                                                                       1276|                                                                                            8415|                                                                                452|                                                                                      4166|                                                                                      10118|                                                                                    6272|                                                                                   25149|                                                                                26669|                                                                               541|                                                                                              3381|                                                                                                           43280|                                                                                          4449|                                                                                         3153|                                                                           6636|                                                                                              18652|                                                                                47107|                                                                                       10051|                                                                                     7532|                                                                                                     8033|                                                                             390|                                                                                             454|                                                                                        1243|                                                                                  8380|                                                                                               233|                                                                                               3519|                                                                                   1007|\n",
            "|Afghanistan| AFG|2006|                                                                                                4232|                                                                                               30075|                                                                                       1270|                                                                                            8418|                                                                                456|                                                                                      4142|                                                                                       9081|                                                                                    6153|                                                                                   24354|                                                                                24987|                                                                               549|                                                                                              3325|                                                                                                           41778|                                                                                          4432|                                                                                         3178|                                                                           6720|                                                                                              18917|                                                                                45691|                                                                                       10519|                                                                                     6740|                                                                                                     7481|                                                                             401|                                                                                             454|                                                                                        1231|                                                                                  7885|                                                                                               204|                                                                                               3216|                                                                                    992|\n",
            "|Afghanistan| AFG|2007|                                                                                                4480|                                                                                               30080|                                                                                       1263|                                                                                            8426|                                                                                465|                                                                                      4108|                                                                                       8168|                                                                                    6010|                                                                                   23778|                                                                                23100|                                                                               557|                                                                                              3251|                                                                                                           40047|                                                                                          4417|                                                                                         3214|                                                                           6849|                                                                                              19183|                                                                                44161|                                                                                       11218|                                                                                     6050|                                                                                                     6900|                                                                             414|                                                                                             465|                                                                                        1226|                                                                                  7303|                                                                                               182|                                                                                               2992|                                                                                   1008|\n",
            "|Afghanistan| AFG|2008|                                                                                                4767|                                                                                               30219|                                                                                       1261|                                                                                            8474|                                                                                478|                                                                                      4088|                                                                                       7245|                                                                                    5868|                                                                                   23533|                                                                                21624|                                                                               568|                                                                                              3183|                                                                                                           38320|                                                                                          4422|                                                                                         3267|                                                                           7026|                                                                                              19498|                                                                                42696|                                                                                       12106|                                                                                     5350|                                                                                                     6291|                                                                             430|                                                                                             478|                                                                                        1555|                                                                                  7148|                                                                                               165|                                                                                               2832|                                                                                   1008|\n",
            "|Afghanistan| AFG|2009|                                                                                                5038|                                                                                               30280|                                                                                       1254|                                                                                            8488|                                                                                485|                                                                                      4050|                                                                                       6437|                                                                                    5752|                                                                                   23232|                                                                                20264|                                                                               576|                                                                                              3102|                                                                                                           36675|                                                                                          4407|                                                                                         3311|                                                                           7181|                                                                                              19730|                                                                                41348|                                                                                       12982|                                                                                     4732|                                                                                                     5793|                                                                             445|                                                                                             493|                                                                                        1704|                                                                                  6867|                                                                                               158|                                                                                               2706|                                                                                   1001|\n",
            "+-----------+----+----+----------------------------------------------------------------------------------------------------+----------------------------------------------------------------------------------------------------+-------------------------------------------------------------------------------------------+------------------------------------------------------------------------------------------------+-----------------------------------------------------------------------------------+------------------------------------------------------------------------------------------+-------------------------------------------------------------------------------------------+----------------------------------------------------------------------------------------+----------------------------------------------------------------------------------------+-------------------------------------------------------------------------------------+----------------------------------------------------------------------------------+--------------------------------------------------------------------------------------------------+----------------------------------------------------------------------------------------------------------------+----------------------------------------------------------------------------------------------+---------------------------------------------------------------------------------------------+-------------------------------------------------------------------------------+---------------------------------------------------------------------------------------------------+-------------------------------------------------------------------------------------+--------------------------------------------------------------------------------------------+-----------------------------------------------------------------------------------------+---------------------------------------------------------------------------------------------------------+--------------------------------------------------------------------------------+------------------------------------------------------------------------------------------------+--------------------------------------------------------------------------------------------+--------------------------------------------------------------------------------------+--------------------------------------------------------------------------------------------------+---------------------------------------------------------------------------------------------------+---------------------------------------------------------------------------------------+\n",
            "only showing top 20 rows\n",
            "\n"
          ]
        }
      ]
    },
    {
      "cell_type": "code",
      "source": [
        "uncleaned_death_df = uncleaned_death_df.withColumnRenamed('Deaths - Cause: All causes - Risk: Outdoor air pollution - OWID - Sex: Both - Age: All Ages (Number)','Deaths Caused by Outdoor Air Pollution')\n",
        "uncleaned_death_df.show()"
      ],
      "metadata": {
        "colab": {
          "base_uri": "https://localhost:8080/"
        },
        "id": "4jfbeTy8md67",
        "outputId": "33c9a554-dbc5-45e3-f675-1784185d7d79"
      },
      "execution_count": null,
      "outputs": [
        {
          "output_type": "stream",
          "name": "stdout",
          "text": [
            "+-----------+----+----+--------------------------------------+----------------------------------------------------------------------------------------------------+-------------------------------------------------------------------------------------------+------------------------------------------------------------------------------------------------+-----------------------------------------------------------------------------------+------------------------------------------------------------------------------------------+-------------------------------------------------------------------------------------------+----------------------------------------------------------------------------------------+----------------------------------------------------------------------------------------+-------------------------------------------------------------------------------------+----------------------------------------------------------------------------------+--------------------------------------------------------------------------------------------------+----------------------------------------------------------------------------------------------------------------+----------------------------------------------------------------------------------------------+---------------------------------------------------------------------------------------------+-------------------------------------------------------------------------------+---------------------------------------------------------------------------------------------------+-------------------------------------------------------------------------------------+--------------------------------------------------------------------------------------------+-----------------------------------------------------------------------------------------+---------------------------------------------------------------------------------------------------------+--------------------------------------------------------------------------------+------------------------------------------------------------------------------------------------+--------------------------------------------------------------------------------------------+--------------------------------------------------------------------------------------+--------------------------------------------------------------------------------------------------+---------------------------------------------------------------------------------------------------+---------------------------------------------------------------------------------------+\n",
            "|     Entity|Code|Year|Deaths Caused by Outdoor Air Pollution|Deaths - Cause: All causes - Risk: High systolic blood pressure - Sex: Both - Age: All Ages (Number)|Deaths - Cause: All causes - Risk: Diet high in sodium - Sex: Both - Age: All Ages (Number)|Deaths - Cause: All causes - Risk: Diet low in whole grains - Sex: Both - Age: All Ages (Number)|Deaths - Cause: All causes - Risk: Alcohol use - Sex: Both - Age: All Ages (Number)|Deaths - Cause: All causes - Risk: Diet low in fruits - Sex: Both - Age: All Ages (Number)|Deaths - Cause: All causes - Risk: Unsafe water source - Sex: Both - Age: All Ages (Number)|Deaths - Cause: All causes - Risk: Secondhand smoke - Sex: Both - Age: All Ages (Number)|Deaths - Cause: All causes - Risk: Low birth weight - Sex: Both - Age: All Ages (Number)|Deaths - Cause: All causes - Risk: Child wasting - Sex: Both - Age: All Ages (Number)|Deaths - Cause: All causes - Risk: Unsafe sex - Sex: Both - Age: All Ages (Number)|Deaths - Cause: All causes - Risk: Diet low in nuts and seeds - Sex: Both - Age: All Ages (Number)|Deaths - Cause: All causes - Risk: Household air pollution from solid fuels - Sex: Both - Age: All Ages (Number)|Deaths - Cause: All causes - Risk: Diet low in vegetables - Sex: Both - Age: All Ages (Number)|Deaths - Cause: All causes - Risk: Low physical activity - Sex: Both - Age: All Ages (Number)|Deaths - Cause: All causes - Risk: Smoking - Sex: Both - Age: All Ages (Number)|Deaths - Cause: All causes - Risk: High fasting plasma glucose - Sex: Both - Age: All Ages (Number)|Deaths - Cause: All causes - Risk: Air pollution - Sex: Both - Age: All Ages (Number)|Deaths - Cause: All causes - Risk: High body-mass index - Sex: Both - Age: All Ages (Number)|Deaths - Cause: All causes - Risk: Unsafe sanitation - Sex: Both - Age: All Ages (Number)|Deaths - Cause: All causes - Risk: No access to handwashing facility - Sex: Both - Age: All Ages (Number)|Deaths - Cause: All causes - Risk: Drug use - Sex: Both - Age: All Ages (Number)|Deaths - Cause: All causes - Risk: Low bone mineral density - Sex: Both - Age: All Ages (Number)|Deaths - Cause: All causes - Risk: Vitamin A deficiency - Sex: Both - Age: All Ages (Number)|Deaths - Cause: All causes - Risk: Child stunting - Sex: Both - Age: All Ages (Number)|Deaths - Cause: All causes - Risk: Discontinued breastfeeding - Sex: Both - Age: All Ages (Number)|Deaths - Cause: All causes - Risk: Non-exclusive breastfeeding - Sex: Both - Age: All Ages (Number)|Deaths - Cause: All causes - Risk: Iron deficiency - Sex: Both - Age: All Ages (Number)|\n",
            "+-----------+----+----+--------------------------------------+----------------------------------------------------------------------------------------------------+-------------------------------------------------------------------------------------------+------------------------------------------------------------------------------------------------+-----------------------------------------------------------------------------------+------------------------------------------------------------------------------------------+-------------------------------------------------------------------------------------------+----------------------------------------------------------------------------------------+----------------------------------------------------------------------------------------+-------------------------------------------------------------------------------------+----------------------------------------------------------------------------------+--------------------------------------------------------------------------------------------------+----------------------------------------------------------------------------------------------------------------+----------------------------------------------------------------------------------------------+---------------------------------------------------------------------------------------------+-------------------------------------------------------------------------------+---------------------------------------------------------------------------------------------------+-------------------------------------------------------------------------------------+--------------------------------------------------------------------------------------------+-----------------------------------------------------------------------------------------+---------------------------------------------------------------------------------------------------------+--------------------------------------------------------------------------------+------------------------------------------------------------------------------------------------+--------------------------------------------------------------------------------------------+--------------------------------------------------------------------------------------+--------------------------------------------------------------------------------------------------+---------------------------------------------------------------------------------------------------+---------------------------------------------------------------------------------------+\n",
            "|Afghanistan| AFG|1990|                                  3169|                                                                                               25633|                                                                                       1045|                                                                                            7077|                                                                                356|                                                                                      3185|                                                                                       3702|                                                                                    4794|                                                                                   16135|                                                                                19546|                                                                               351|                                                                                              2319|                                                                                                           34372|                                                                                          3679|                                                                                         2637|                                                                           5174|                                                                                              11449|                                                                                37231|                                                                                        9518|                                                                                     2798|                                                                                                     4825|                                                                             174|                                                                                             389|                                                                                        2016|                                                                                  7686|                                                                                               107|                                                                                               2216|                                                                                    564|\n",
            "|Afghanistan| AFG|1991|                                  3222|                                                                                               25872|                                                                                       1055|                                                                                            7149|                                                                                364|                                                                                      3248|                                                                                       4309|                                                                                    4921|                                                                                   17924|                                                                                20334|                                                                               361|                                                                                              2449|                                                                                                           35392|                                                                                          3732|                                                                                         2652|                                                                           5247|                                                                                              11811|                                                                                38315|                                                                                        9489|                                                                                     3254|                                                                                                     5127|                                                                             188|                                                                                             389|                                                                                        2056|                                                                                  7886|                                                                                               121|                                                                                               2501|                                                                                    611|\n",
            "|Afghanistan| AFG|1992|                                  3395|                                                                                               26309|                                                                                       1075|                                                                                            7297|                                                                                376|                                                                                      3351|                                                                                       5356|                                                                                    5279|                                                                                   21200|                                                                                22895|                                                                               378|                                                                                              2603|                                                                                                           38065|                                                                                          3827|                                                                                         2688|                                                                           5363|                                                                                              12265|                                                                                41172|                                                                                        9528|                                                                                     4042|                                                                                                     5889|                                                                             211|                                                                                             393|                                                                                        2100|                                                                                  8568|                                                                                               150|                                                                                               3053|                                                                                    700|\n",
            "|Afghanistan| AFG|1993|                                  3623|                                                                                               26961|                                                                                       1103|                                                                                            7499|                                                                                389|                                                                                      3480|                                                                                       7152|                                                                                    5734|                                                                                   23795|                                                                                27002|                                                                               395|                                                                                              2771|                                                                                                           41154|                                                                                          3951|                                                                                         2744|                                                                           5522|                                                                                              12821|                                                                                44488|                                                                                        9611|                                                                                     5392|                                                                                                     7007|                                                                             232|                                                                                             411|                                                                                        2316|                                                                                  9875|                                                                                               204|                                                                                               3726|                                                                                    773|\n",
            "|Afghanistan| AFG|1994|                                  3788|                                                                                               27658|                                                                                       1134|                                                                                            7698|                                                                                399|                                                                                      3610|                                                                                       7192|                                                                                    6050|                                                                                   24866|                                                                                29205|                                                                               410|                                                                                              2932|                                                                                                           43153|                                                                                          4075|                                                                                         2805|                                                                           5689|                                                                                              13400|                                                                                46634|                                                                                        9675|                                                                                     5418|                                                                                                     7421|                                                                             247|                                                                                             413|                                                                                        2665|                                                                                 11031|                                                                                               204|                                                                                               3833|                                                                                    812|\n",
            "|Afghanistan| AFG|1995|                                  3869|                                                                                               28090|                                                                                       1154|                                                                                            7807|                                                                                406|                                                                                      3703|                                                                                       8378|                                                                                    6167|                                                                                   25534|                                                                                30943|                                                                               422|                                                                                              3049|                                                                                                           44024|                                                                                          4153|                                                                                         2839|                                                                           5801|                                                                                              13871|                                                                                47566|                                                                                        9608|                                                                                     6313|                                                                                                     7896|                                                                             260|                                                                                             417|                                                                                        3070|                                                                                 11973|                                                                                               233|                                                                                               4124|                                                                                    848|\n",
            "|Afghanistan| AFG|1996|                                  3943|                                                                                               28587|                                                                                       1178|                                                                                            7943|                                                                                413|                                                                                      3819|                                                                                       8487|                                                                                    6298|                                                                                   25997|                                                                                31628|                                                                               435|                                                                                              3173|                                                                                                           45005|                                                                                          4247|                                                                                         2878|                                                                           5934|                                                                                              14413|                                                                                48617|                                                                                        9503|                                                                                     6393|                                                                                                     8098|                                                                             274|                                                                                             423|                                                                                        3214|                                                                                 12426|                                                                                               233|                                                                                               4183|                                                                                    883|\n",
            "|Afghanistan| AFG|1997|                                  4024|                                                                                               29021|                                                                                       1202|                                                                                            8075|                                                                                420|                                                                                      3938|                                                                                       9348|                                                                                    6425|                                                                                   26246|                                                                                32736|                                                                               448|                                                                                              3298|                                                                                                           46017|                                                                                          4339|                                                                                         2914|                                                                           6066|                                                                                              14970|                                                                                49703|                                                                                        9286|                                                                                     7038|                                                                                                     8507|                                                                             287|                                                                                             425|                                                                                        3228|                                                                                 12805|                                                                                               255|                                                                                               4393|                                                                                    914|\n",
            "|Afghanistan| AFG|1998|                                  4040|                                                                                               29349|                                                                                       1222|                                                                                            8173|                                                                                425|                                                                                      4038|                                                                                       9788|                                                                                    6402|                                                                                   25805|                                                                                32760|                                                                               458|                                                                                              3401|                                                                                                           46055|                                                                                          4409|                                                                                         2944|                                                                           6178|                                                                                              15502|                                                                                49746|                                                                                        9024|                                                                                     7366|                                                                                                     8560|                                                                             295|                                                                                             429|                                                                                        3413|                                                                                 13011|                                                                                               264|                                                                                               4417|                                                                                    924|\n",
            "|Afghanistan| AFG|1999|                                  4042|                                                                                               29712|                                                                                       1242|                                                                                            8265|                                                                                426|                                                                                      4127|                                                                                       9931|                                                                                    6323|                                                                                   25080|                                                                                32271|                                                                               469|                                                                                              3482|                                                                                                           45681|                                                                                          4473|                                                                                         2976|                                                                           6288|                                                                                              16058|                                                                                49349|                                                                                        8857|                                                                                     7468|                                                                                                     8424|                                                                             302|                                                                                             428|                                                                                        3662|                                                                                 13052|                                                                                               263|                                                                                               4326|                                                                                    909|\n",
            "|Afghanistan| AFG|2000|                                  4021|                                                                                               29999|                                                                                       1260|                                                                                            8328|                                                                                427|                                                                                      4174|                                                                                       9942|                                                                                    6227|                                                                                   24549|                                                                                31559|                                                                               482|                                                                                              3516|                                                                                                           45132|                                                                                          4501|                                                                                         3013|                                                                           6378|                                                                                              16545|                                                                                48763|                                                                                        8829|                                                                                     7472|                                                                                                     8233|                                                                             312|                                                                                             431|                                                                                        3855|                                                                                 12965|                                                                                               256|                                                                                               4195|                                                                                    897|\n",
            "|Afghanistan| AFG|2001|                                  4014|                                                                                               30421|                                                                                       1282|                                                                                            8440|                                                                                432|                                                                                      4226|                                                                                      10052|                                                                                    6214|                                                                                   24859|                                                                                30938|                                                                               500|                                                                                              3543|                                                                                                           45028|                                                                                          4539|                                                                                         3068|                                                                           6505|                                                                                              17144|                                                                                48660|                                                                                        9047|                                                                                     7547|                                                                                                     8144|                                                                             328|                                                                                             436|                                                                                        3944|                                                                                 12732|                                                                                               250|                                                                                               4094|                                                                                    919|\n",
            "|Afghanistan| AFG|2002|                                  3961|                                                                                               30189|                                                                                       1275|                                                                                            8383|                                                                                432|                                                                                      4184|                                                                                      10004|                                                                                    6103|                                                                                   25441|                                                                                29619|                                                                               507|                                                                                              3487|                                                                                                           44137|                                                                                          4483|                                                                                         3078|                                                                           6488|                                                                                              17467|                                                                                47732|                                                                                        9151|                                                                                     7497|                                                                                                     7915|                                                                             337|                                                                                             437|                                                                                        3798|                                                                                 12069|                                                                                               242|                                                                                               3947|                                                                                    937|\n",
            "|Afghanistan| AFG|2003|                                  4116|                                                                                               30157|                                                                                       1277|                                                                                            8398|                                                                                437|                                                                                      4179|                                                                                      10841|                                                                                    6341|                                                                                   25617|                                                                                29098|                                                                               518|                                                                                              3457|                                                                                                           44953|                                                                                          4471|                                                                                         3104|                                                                           6528|                                                                                              17921|                                                                                48687|                                                                                        9410|                                                                                     8106|                                                                                                     8482|                                                                             356|                                                                                             433|                                                                                        1902|                                                                                  9862|                                                                                               263|                                                                                               3953|                                                                                    972|\n",
            "|Afghanistan| AFG|2004|                                  4176|                                                                                               30225|                                                                                       1281|                                                                                            8433|                                                                                445|                                                                                      4188|                                                                                      10761|                                                                                    6383|                                                                                   25459|                                                                                28167|                                                                               533|                                                                                              3430|                                                                                                           44534|                                                                                          4475|                                                                                         3137|                                                                           6594|                                                                                              18397|                                                                                48337|                                                                                        9759|                                                                                     8028|                                                                                                     8440|                                                                             376|                                                                                             440|                                                                                        1330|                                                                                  8928|                                                                                               255|                                                                                               3774|                                                                                    985|\n",
            "|Afghanistan| AFG|2005|                                  4176|                                                                                               30089|                                                                                       1276|                                                                                            8415|                                                                                452|                                                                                      4166|                                                                                      10118|                                                                                    6272|                                                                                   25149|                                                                                26669|                                                                               541|                                                                                              3381|                                                                                                           43280|                                                                                          4449|                                                                                         3153|                                                                           6636|                                                                                              18652|                                                                                47107|                                                                                       10051|                                                                                     7532|                                                                                                     8033|                                                                             390|                                                                                             454|                                                                                        1243|                                                                                  8380|                                                                                               233|                                                                                               3519|                                                                                   1007|\n",
            "|Afghanistan| AFG|2006|                                  4232|                                                                                               30075|                                                                                       1270|                                                                                            8418|                                                                                456|                                                                                      4142|                                                                                       9081|                                                                                    6153|                                                                                   24354|                                                                                24987|                                                                               549|                                                                                              3325|                                                                                                           41778|                                                                                          4432|                                                                                         3178|                                                                           6720|                                                                                              18917|                                                                                45691|                                                                                       10519|                                                                                     6740|                                                                                                     7481|                                                                             401|                                                                                             454|                                                                                        1231|                                                                                  7885|                                                                                               204|                                                                                               3216|                                                                                    992|\n",
            "|Afghanistan| AFG|2007|                                  4480|                                                                                               30080|                                                                                       1263|                                                                                            8426|                                                                                465|                                                                                      4108|                                                                                       8168|                                                                                    6010|                                                                                   23778|                                                                                23100|                                                                               557|                                                                                              3251|                                                                                                           40047|                                                                                          4417|                                                                                         3214|                                                                           6849|                                                                                              19183|                                                                                44161|                                                                                       11218|                                                                                     6050|                                                                                                     6900|                                                                             414|                                                                                             465|                                                                                        1226|                                                                                  7303|                                                                                               182|                                                                                               2992|                                                                                   1008|\n",
            "|Afghanistan| AFG|2008|                                  4767|                                                                                               30219|                                                                                       1261|                                                                                            8474|                                                                                478|                                                                                      4088|                                                                                       7245|                                                                                    5868|                                                                                   23533|                                                                                21624|                                                                               568|                                                                                              3183|                                                                                                           38320|                                                                                          4422|                                                                                         3267|                                                                           7026|                                                                                              19498|                                                                                42696|                                                                                       12106|                                                                                     5350|                                                                                                     6291|                                                                             430|                                                                                             478|                                                                                        1555|                                                                                  7148|                                                                                               165|                                                                                               2832|                                                                                   1008|\n",
            "|Afghanistan| AFG|2009|                                  5038|                                                                                               30280|                                                                                       1254|                                                                                            8488|                                                                                485|                                                                                      4050|                                                                                       6437|                                                                                    5752|                                                                                   23232|                                                                                20264|                                                                               576|                                                                                              3102|                                                                                                           36675|                                                                                          4407|                                                                                         3311|                                                                           7181|                                                                                              19730|                                                                                41348|                                                                                       12982|                                                                                     4732|                                                                                                     5793|                                                                             445|                                                                                             493|                                                                                        1704|                                                                                  6867|                                                                                               158|                                                                                               2706|                                                                                   1001|\n",
            "+-----------+----+----+--------------------------------------+----------------------------------------------------------------------------------------------------+-------------------------------------------------------------------------------------------+------------------------------------------------------------------------------------------------+-----------------------------------------------------------------------------------+------------------------------------------------------------------------------------------+-------------------------------------------------------------------------------------------+----------------------------------------------------------------------------------------+----------------------------------------------------------------------------------------+-------------------------------------------------------------------------------------+----------------------------------------------------------------------------------+--------------------------------------------------------------------------------------------------+----------------------------------------------------------------------------------------------------------------+----------------------------------------------------------------------------------------------+---------------------------------------------------------------------------------------------+-------------------------------------------------------------------------------+---------------------------------------------------------------------------------------------------+-------------------------------------------------------------------------------------+--------------------------------------------------------------------------------------------+-----------------------------------------------------------------------------------------+---------------------------------------------------------------------------------------------------------+--------------------------------------------------------------------------------+------------------------------------------------------------------------------------------------+--------------------------------------------------------------------------------------------+--------------------------------------------------------------------------------------+--------------------------------------------------------------------------------------------------+---------------------------------------------------------------------------------------------------+---------------------------------------------------------------------------------------+\n",
            "only showing top 20 rows\n",
            "\n"
          ]
        }
      ]
    },
    {
      "cell_type": "code",
      "source": [
        "uncleaned_death_df = uncleaned_death_df.drop('Deaths - Cause: All causes - Risk: High systolic blood pressure - Sex: Both - Age: All Ages (Number)')\n",
        "uncleaned_death_df = uncleaned_death_df.drop('Deaths - Cause: All causes - Risk: Diet high in sodium - Sex: Both - Age: All Ages (Number)')\n",
        "uncleaned_death_df = uncleaned_death_df.drop('Deaths - Cause: All causes - Risk: Diet low in whole grains - Sex: Both - Age: All Ages (Number)')\n",
        "uncleaned_death_df = uncleaned_death_df.drop('Deaths - Cause: All causes - Risk: Alcohol use - Sex: Both - Age: All Ages (Number)')\n",
        "uncleaned_death_df = uncleaned_death_df.drop('Deaths - Cause: All causes - Risk: Diet low in fruits - Sex: Both - Age: All Ages (Number)')\n",
        "uncleaned_death_df = uncleaned_death_df.drop('Deaths - Cause: All causes - Risk: Unsafe water source - Sex: Both - Age: All Ages (Number)')\n",
        "uncleaned_death_df = uncleaned_death_df.drop('Deaths - Cause: All causes - Risk: Secondhand smoke - Sex: Both - Age: All Ages (Number)')\n",
        "uncleaned_death_df = uncleaned_death_df.drop('Deaths - Cause: All causes - Risk: Low birth weight - Sex: Both - Age: All Ages (Number)')\n",
        "uncleaned_death_df = uncleaned_death_df.drop('Deaths - Cause: All causes - Risk: Child wasting - Sex: Both - Age: All Ages (Number)')\n",
        "uncleaned_death_df = uncleaned_death_df.drop('Deaths - Cause: All causes - Risk: Unsafe sex - Sex: Both - Age: All Ages (Number)')\n",
        "uncleaned_death_df = uncleaned_death_df.drop('Deaths - Cause: All causes - Risk: Diet low in nuts and seeds - Sex: Both - Age: All Ages (Number)')\n",
        "uncleaned_death_df = uncleaned_death_df.drop('Deaths - Cause: All causes - Risk: Diet low in vegetables - Sex: Both - Age: All Ages (Number)')\n",
        "uncleaned_death_df = uncleaned_death_df.drop('Deaths - Cause: All causes - Risk: Low physical activity - Sex: Both - Age: All Ages (Number)')\n",
        "uncleaned_death_df = uncleaned_death_df.drop('Deaths - Cause: All causes - Risk: Smoking - Sex: Both - Age: All Ages (Number)')\n",
        "uncleaned_death_df = uncleaned_death_df.drop('Deaths - Cause: All causes - Risk: High body-mass index - Sex: Both - Age: All Ages (Number)')\n",
        "uncleaned_death_df = uncleaned_death_df.drop('Deaths - Cause: All causes - Risk: Unsafe sanitation - Sex: Both - Age: All Ages (Number)')\n",
        "uncleaned_death_df = uncleaned_death_df.drop('Deaths - Cause: All causes - Risk: No access to handwashing facility - Sex: Both - Age: All Ages (Number)')\n",
        "uncleaned_death_df = uncleaned_death_df.drop('Deaths - Cause: All causes - Risk: Drug use - Sex: Both - Age: All Ages (Number)')\n",
        "uncleaned_death_df = uncleaned_death_df.drop('Deaths - Cause: All causes - Risk: Low bone mineral density - Sex: Both - Age: All Ages (Number)')\n",
        "uncleaned_death_df = uncleaned_death_df.drop('Deaths - Cause: All causes - Risk: Vitamin A deficiency - Sex: Both - Age: All Ages (Number)')\n",
        "uncleaned_death_df = uncleaned_death_df.drop('Deaths - Cause: All causes - Risk: Child stunting - Sex: Both - Age: All Ages (Number)')\n",
        "uncleaned_death_df = uncleaned_death_df.drop('Deaths - Cause: All causes - Risk: Discontinued breastfeeding - Sex: Both - Age: All Ages (Number)')\n",
        "uncleaned_death_df = uncleaned_death_df.drop('Deaths - Cause: All causes - Risk: Non-exclusive breastfeeding - Sex: Both - Age: All Ages (Number)')\n",
        "uncleaned_death_df = uncleaned_death_df.drop('Deaths - Cause: All causes - Risk: Iron deficiency - Sex: Both - Age: All Ages (Number)')\n",
        "uncleaned_death_df = uncleaned_death_df.drop('Deaths - Cause: All causes - Risk: High fasting plasma glucose - Sex: Both - Age: All Ages (Number)')"
      ],
      "metadata": {
        "id": "EmDDmja6ngo_"
      },
      "execution_count": null,
      "outputs": []
    },
    {
      "cell_type": "code",
      "source": [
        "cleaned_death_df = uncleaned_death_df.drop('Code')\n",
        "cleaned_death_df = cleaned_death_df.withColumnRenamed('Entity', 'Area')\n",
        "cleaned_death_df = cleaned_death_df.withColumnRenamed('Deaths - Cause: All causes - Risk: Household air pollution from solid fuels - Sex: Both - Age: All Ages (Number)', 'Deaths Caused by Household Pollution from Solid Fuels')\n",
        "cleaned_death_df = cleaned_death_df.withColumnRenamed('Deaths - Cause: All causes - Risk: Air pollution - Sex: Both - Age: All Ages (Number)', 'Deaths Caused by Air Pollution')\n",
        "cleaned_death_df.show()"
      ],
      "metadata": {
        "colab": {
          "base_uri": "https://localhost:8080/"
        },
        "id": "glnDYpJpo6yi",
        "outputId": "a412e7f2-8c29-464c-f88b-86f692ba5ce3"
      },
      "execution_count": null,
      "outputs": [
        {
          "output_type": "stream",
          "name": "stdout",
          "text": [
            "+-----------+----+--------------------------------------+-----------------------------------------------------+------------------------------+\n",
            "|       Area|Year|Deaths Caused by Outdoor Air Pollution|Deaths Caused by Household Pollution from Solid Fuels|Deaths Caused by Air Pollution|\n",
            "+-----------+----+--------------------------------------+-----------------------------------------------------+------------------------------+\n",
            "|Afghanistan|1990|                                  3169|                                                34372|                         37231|\n",
            "|Afghanistan|1991|                                  3222|                                                35392|                         38315|\n",
            "|Afghanistan|1992|                                  3395|                                                38065|                         41172|\n",
            "|Afghanistan|1993|                                  3623|                                                41154|                         44488|\n",
            "|Afghanistan|1994|                                  3788|                                                43153|                         46634|\n",
            "|Afghanistan|1995|                                  3869|                                                44024|                         47566|\n",
            "|Afghanistan|1996|                                  3943|                                                45005|                         48617|\n",
            "|Afghanistan|1997|                                  4024|                                                46017|                         49703|\n",
            "|Afghanistan|1998|                                  4040|                                                46055|                         49746|\n",
            "|Afghanistan|1999|                                  4042|                                                45681|                         49349|\n",
            "|Afghanistan|2000|                                  4021|                                                45132|                         48763|\n",
            "|Afghanistan|2001|                                  4014|                                                45028|                         48660|\n",
            "|Afghanistan|2002|                                  3961|                                                44137|                         47732|\n",
            "|Afghanistan|2003|                                  4116|                                                44953|                         48687|\n",
            "|Afghanistan|2004|                                  4176|                                                44534|                         48337|\n",
            "|Afghanistan|2005|                                  4176|                                                43280|                         47107|\n",
            "|Afghanistan|2006|                                  4232|                                                41778|                         45691|\n",
            "|Afghanistan|2007|                                  4480|                                                40047|                         44161|\n",
            "|Afghanistan|2008|                                  4767|                                                38320|                         42696|\n",
            "|Afghanistan|2009|                                  5038|                                                36675|                         41348|\n",
            "+-----------+----+--------------------------------------+-----------------------------------------------------+------------------------------+\n",
            "only showing top 20 rows\n",
            "\n"
          ]
        }
      ]
    },
    {
      "cell_type": "code",
      "source": [
        "cleaned_death_df = cleaned_death_df.where(cleaned_death_df.Year >= 2000)\n",
        "cleaned_death_df.show()"
      ],
      "metadata": {
        "colab": {
          "base_uri": "https://localhost:8080/"
        },
        "id": "dx4zt-iQp0wb",
        "outputId": "e4384e13-acf4-42b5-afeb-c32a66636078"
      },
      "execution_count": null,
      "outputs": [
        {
          "output_type": "stream",
          "name": "stdout",
          "text": [
            "+-----------+----+--------------------------------------+----------------------------------------------------------------------------------------------------------------+---------------------------------------------------------------------------------------------------+-------------------------------------------------------------------------------------+\n",
            "|       Area|Year|Deaths Caused by Outdoor Air Pollution|Deaths - Cause: All causes - Risk: Household air pollution from solid fuels - Sex: Both - Age: All Ages (Number)|Deaths - Cause: All causes - Risk: High fasting plasma glucose - Sex: Both - Age: All Ages (Number)|Deaths - Cause: All causes - Risk: Air pollution - Sex: Both - Age: All Ages (Number)|\n",
            "+-----------+----+--------------------------------------+----------------------------------------------------------------------------------------------------------------+---------------------------------------------------------------------------------------------------+-------------------------------------------------------------------------------------+\n",
            "|Afghanistan|2000|                                  4021|                                                                                                           45132|                                                                                              16545|                                                                                48763|\n",
            "|Afghanistan|2001|                                  4014|                                                                                                           45028|                                                                                              17144|                                                                                48660|\n",
            "|Afghanistan|2002|                                  3961|                                                                                                           44137|                                                                                              17467|                                                                                47732|\n",
            "|Afghanistan|2003|                                  4116|                                                                                                           44953|                                                                                              17921|                                                                                48687|\n",
            "|Afghanistan|2004|                                  4176|                                                                                                           44534|                                                                                              18397|                                                                                48337|\n",
            "|Afghanistan|2005|                                  4176|                                                                                                           43280|                                                                                              18652|                                                                                47107|\n",
            "|Afghanistan|2006|                                  4232|                                                                                                           41778|                                                                                              18917|                                                                                45691|\n",
            "|Afghanistan|2007|                                  4480|                                                                                                           40047|                                                                                              19183|                                                                                44161|\n",
            "|Afghanistan|2008|                                  4767|                                                                                                           38320|                                                                                              19498|                                                                                42696|\n",
            "|Afghanistan|2009|                                  5038|                                                                                                           36675|                                                                                              19730|                                                                                41348|\n",
            "|Afghanistan|2010|                                  5344|                                                                                                           35511|                                                                                              19883|                                                                                40545|\n",
            "|Afghanistan|2011|                                  5824|                                                                                                           34380|                                                                                              20216|                                                                                39893|\n",
            "|Afghanistan|2012|                                  6516|                                                                                                           33223|                                                                                              20593|                                                                                39363|\n",
            "|Afghanistan|2013|                                  7273|                                                                                                           32344|                                                                                              20961|                                                                                39187|\n",
            "|Afghanistan|2014|                                  7817|                                                                                                           31296|                                                                                              21441|                                                                                38711|\n",
            "|Afghanistan|2015|                                  8115|                                                                                                           30407|                                                                                              21991|                                                                                38227|\n",
            "|Afghanistan|2016|                                  8231|                                                                                                           29929|                                                                                              22660|                                                                                37865|\n",
            "|Afghanistan|2017|                                  8369|                                                                                                           29497|                                                                                              23427|                                                                                37535|\n",
            "|Afghanistan|2018|                                  8602|                                                                                                           28818|                                                                                              24183|                                                                                37160|\n",
            "|Afghanistan|2019|                                  9154|                                                                                                           28168|                                                                                              24888|                                                                                37033|\n",
            "+-----------+----+--------------------------------------+----------------------------------------------------------------------------------------------------------------+---------------------------------------------------------------------------------------------------+-------------------------------------------------------------------------------------+\n",
            "only showing top 20 rows\n",
            "\n"
          ]
        }
      ]
    },
    {
      "cell_type": "markdown",
      "source": [
        "## Getting Both DataFrames to contain the same Areas"
      ],
      "metadata": {
        "id": "wYfAOsBmq-3b"
      }
    },
    {
      "cell_type": "code",
      "source": [
        "death_df_pandas = cleaned_death_df.toPandas()"
      ],
      "metadata": {
        "id": "2SaRjuaL62n6"
      },
      "execution_count": null,
      "outputs": []
    },
    {
      "cell_type": "code",
      "source": [
        "emissions_list = list(emissions_pandas_df['Area'].unique())"
      ],
      "metadata": {
        "id": "jiaC6mSg730t"
      },
      "execution_count": null,
      "outputs": []
    },
    {
      "cell_type": "code",
      "source": [
        "death_list = list(death_df_pandas['Area'].unique())"
      ],
      "metadata": {
        "id": "ef5dCzHA7HoO"
      },
      "execution_count": null,
      "outputs": []
    },
    {
      "cell_type": "code",
      "source": [
        "compared_list = set(emissions_list).intersection(death_list)"
      ],
      "metadata": {
        "id": "bH-sPBpclLwv"
      },
      "execution_count": null,
      "outputs": []
    },
    {
      "cell_type": "code",
      "source": [
        "len(compared_list)"
      ],
      "metadata": {
        "colab": {
          "base_uri": "https://localhost:8080/"
        },
        "id": "g389fm90lT27",
        "outputId": "41322fb6-a88b-4f02-b0dd-90d016c5238f"
      },
      "execution_count": null,
      "outputs": [
        {
          "output_type": "execute_result",
          "data": {
            "text/plain": [
              "159"
            ]
          },
          "metadata": {},
          "execution_count": 69
        }
      ]
    },
    {
      "cell_type": "code",
      "source": [
        "death_df_pandas"
      ],
      "metadata": {
        "colab": {
          "base_uri": "https://localhost:8080/",
          "height": 424
        },
        "id": "JMFytfBpsYQG",
        "outputId": "9bca0d15-4bdd-4590-9476-b73fd7256ed1"
      },
      "execution_count": null,
      "outputs": [
        {
          "output_type": "execute_result",
          "data": {
            "text/plain": [
              "             Area  Year  Deaths Caused by Outdoor Air Pollution  \\\n",
              "0     Afghanistan  1990                                    3169   \n",
              "1     Afghanistan  1991                                    3222   \n",
              "2     Afghanistan  1992                                    3395   \n",
              "3     Afghanistan  1993                                    3623   \n",
              "4     Afghanistan  1994                                    3788   \n",
              "...           ...   ...                                     ...   \n",
              "6835     Zimbabwe  2015                                    2835   \n",
              "6836     Zimbabwe  2016                                    2781   \n",
              "6837     Zimbabwe  2017                                    2700   \n",
              "6838     Zimbabwe  2018                                    2669   \n",
              "6839     Zimbabwe  2019                                    2680   \n",
              "\n",
              "      Deaths Caused by Household Pollution from Solid Fuels  \\\n",
              "0                                                 34372       \n",
              "1                                                 35392       \n",
              "2                                                 38065       \n",
              "3                                                 41154       \n",
              "4                                                 43153       \n",
              "...                                                 ...       \n",
              "6835                                              10435       \n",
              "6836                                              10365       \n",
              "6837                                              10257       \n",
              "6838                                              10113       \n",
              "6839                                              10019       \n",
              "\n",
              "      Deaths Caused by Air Pollution  \n",
              "0                              37231  \n",
              "1                              38315  \n",
              "2                              41172  \n",
              "3                              44488  \n",
              "4                              46634  \n",
              "...                              ...  \n",
              "6835                           13246  \n",
              "6836                           13131  \n",
              "6837                           12926  \n",
              "6838                           12745  \n",
              "6839                           12667  \n",
              "\n",
              "[6840 rows x 5 columns]"
            ],
            "text/html": [
              "\n",
              "  <div id=\"df-d6b5419c-14fa-4bc1-bf48-7e4866135523\">\n",
              "    <div class=\"colab-df-container\">\n",
              "      <div>\n",
              "<style scoped>\n",
              "    .dataframe tbody tr th:only-of-type {\n",
              "        vertical-align: middle;\n",
              "    }\n",
              "\n",
              "    .dataframe tbody tr th {\n",
              "        vertical-align: top;\n",
              "    }\n",
              "\n",
              "    .dataframe thead th {\n",
              "        text-align: right;\n",
              "    }\n",
              "</style>\n",
              "<table border=\"1\" class=\"dataframe\">\n",
              "  <thead>\n",
              "    <tr style=\"text-align: right;\">\n",
              "      <th></th>\n",
              "      <th>Area</th>\n",
              "      <th>Year</th>\n",
              "      <th>Deaths Caused by Outdoor Air Pollution</th>\n",
              "      <th>Deaths Caused by Household Pollution from Solid Fuels</th>\n",
              "      <th>Deaths Caused by Air Pollution</th>\n",
              "    </tr>\n",
              "  </thead>\n",
              "  <tbody>\n",
              "    <tr>\n",
              "      <th>0</th>\n",
              "      <td>Afghanistan</td>\n",
              "      <td>1990</td>\n",
              "      <td>3169</td>\n",
              "      <td>34372</td>\n",
              "      <td>37231</td>\n",
              "    </tr>\n",
              "    <tr>\n",
              "      <th>1</th>\n",
              "      <td>Afghanistan</td>\n",
              "      <td>1991</td>\n",
              "      <td>3222</td>\n",
              "      <td>35392</td>\n",
              "      <td>38315</td>\n",
              "    </tr>\n",
              "    <tr>\n",
              "      <th>2</th>\n",
              "      <td>Afghanistan</td>\n",
              "      <td>1992</td>\n",
              "      <td>3395</td>\n",
              "      <td>38065</td>\n",
              "      <td>41172</td>\n",
              "    </tr>\n",
              "    <tr>\n",
              "      <th>3</th>\n",
              "      <td>Afghanistan</td>\n",
              "      <td>1993</td>\n",
              "      <td>3623</td>\n",
              "      <td>41154</td>\n",
              "      <td>44488</td>\n",
              "    </tr>\n",
              "    <tr>\n",
              "      <th>4</th>\n",
              "      <td>Afghanistan</td>\n",
              "      <td>1994</td>\n",
              "      <td>3788</td>\n",
              "      <td>43153</td>\n",
              "      <td>46634</td>\n",
              "    </tr>\n",
              "    <tr>\n",
              "      <th>...</th>\n",
              "      <td>...</td>\n",
              "      <td>...</td>\n",
              "      <td>...</td>\n",
              "      <td>...</td>\n",
              "      <td>...</td>\n",
              "    </tr>\n",
              "    <tr>\n",
              "      <th>6835</th>\n",
              "      <td>Zimbabwe</td>\n",
              "      <td>2015</td>\n",
              "      <td>2835</td>\n",
              "      <td>10435</td>\n",
              "      <td>13246</td>\n",
              "    </tr>\n",
              "    <tr>\n",
              "      <th>6836</th>\n",
              "      <td>Zimbabwe</td>\n",
              "      <td>2016</td>\n",
              "      <td>2781</td>\n",
              "      <td>10365</td>\n",
              "      <td>13131</td>\n",
              "    </tr>\n",
              "    <tr>\n",
              "      <th>6837</th>\n",
              "      <td>Zimbabwe</td>\n",
              "      <td>2017</td>\n",
              "      <td>2700</td>\n",
              "      <td>10257</td>\n",
              "      <td>12926</td>\n",
              "    </tr>\n",
              "    <tr>\n",
              "      <th>6838</th>\n",
              "      <td>Zimbabwe</td>\n",
              "      <td>2018</td>\n",
              "      <td>2669</td>\n",
              "      <td>10113</td>\n",
              "      <td>12745</td>\n",
              "    </tr>\n",
              "    <tr>\n",
              "      <th>6839</th>\n",
              "      <td>Zimbabwe</td>\n",
              "      <td>2019</td>\n",
              "      <td>2680</td>\n",
              "      <td>10019</td>\n",
              "      <td>12667</td>\n",
              "    </tr>\n",
              "  </tbody>\n",
              "</table>\n",
              "<p>6840 rows × 5 columns</p>\n",
              "</div>\n",
              "      <button class=\"colab-df-convert\" onclick=\"convertToInteractive('df-d6b5419c-14fa-4bc1-bf48-7e4866135523')\"\n",
              "              title=\"Convert this dataframe to an interactive table.\"\n",
              "              style=\"display:none;\">\n",
              "        \n",
              "  <svg xmlns=\"http://www.w3.org/2000/svg\" height=\"24px\"viewBox=\"0 0 24 24\"\n",
              "       width=\"24px\">\n",
              "    <path d=\"M0 0h24v24H0V0z\" fill=\"none\"/>\n",
              "    <path d=\"M18.56 5.44l.94 2.06.94-2.06 2.06-.94-2.06-.94-.94-2.06-.94 2.06-2.06.94zm-11 1L8.5 8.5l.94-2.06 2.06-.94-2.06-.94L8.5 2.5l-.94 2.06-2.06.94zm10 10l.94 2.06.94-2.06 2.06-.94-2.06-.94-.94-2.06-.94 2.06-2.06.94z\"/><path d=\"M17.41 7.96l-1.37-1.37c-.4-.4-.92-.59-1.43-.59-.52 0-1.04.2-1.43.59L10.3 9.45l-7.72 7.72c-.78.78-.78 2.05 0 2.83L4 21.41c.39.39.9.59 1.41.59.51 0 1.02-.2 1.41-.59l7.78-7.78 2.81-2.81c.8-.78.8-2.07 0-2.86zM5.41 20L4 18.59l7.72-7.72 1.47 1.35L5.41 20z\"/>\n",
              "  </svg>\n",
              "      </button>\n",
              "      \n",
              "  <style>\n",
              "    .colab-df-container {\n",
              "      display:flex;\n",
              "      flex-wrap:wrap;\n",
              "      gap: 12px;\n",
              "    }\n",
              "\n",
              "    .colab-df-convert {\n",
              "      background-color: #E8F0FE;\n",
              "      border: none;\n",
              "      border-radius: 50%;\n",
              "      cursor: pointer;\n",
              "      display: none;\n",
              "      fill: #1967D2;\n",
              "      height: 32px;\n",
              "      padding: 0 0 0 0;\n",
              "      width: 32px;\n",
              "    }\n",
              "\n",
              "    .colab-df-convert:hover {\n",
              "      background-color: #E2EBFA;\n",
              "      box-shadow: 0px 1px 2px rgba(60, 64, 67, 0.3), 0px 1px 3px 1px rgba(60, 64, 67, 0.15);\n",
              "      fill: #174EA6;\n",
              "    }\n",
              "\n",
              "    [theme=dark] .colab-df-convert {\n",
              "      background-color: #3B4455;\n",
              "      fill: #D2E3FC;\n",
              "    }\n",
              "\n",
              "    [theme=dark] .colab-df-convert:hover {\n",
              "      background-color: #434B5C;\n",
              "      box-shadow: 0px 1px 3px 1px rgba(0, 0, 0, 0.15);\n",
              "      filter: drop-shadow(0px 1px 2px rgba(0, 0, 0, 0.3));\n",
              "      fill: #FFFFFF;\n",
              "    }\n",
              "  </style>\n",
              "\n",
              "      <script>\n",
              "        const buttonEl =\n",
              "          document.querySelector('#df-d6b5419c-14fa-4bc1-bf48-7e4866135523 button.colab-df-convert');\n",
              "        buttonEl.style.display =\n",
              "          google.colab.kernel.accessAllowed ? 'block' : 'none';\n",
              "\n",
              "        async function convertToInteractive(key) {\n",
              "          const element = document.querySelector('#df-d6b5419c-14fa-4bc1-bf48-7e4866135523');\n",
              "          const dataTable =\n",
              "            await google.colab.kernel.invokeFunction('convertToInteractive',\n",
              "                                                     [key], {});\n",
              "          if (!dataTable) return;\n",
              "\n",
              "          const docLinkHtml = 'Like what you see? Visit the ' +\n",
              "            '<a target=\"_blank\" href=https://colab.research.google.com/notebooks/data_table.ipynb>data table notebook</a>'\n",
              "            + ' to learn more about interactive tables.';\n",
              "          element.innerHTML = '';\n",
              "          dataTable['output_type'] = 'display_data';\n",
              "          await google.colab.output.renderOutput(dataTable, element);\n",
              "          const docLink = document.createElement('div');\n",
              "          docLink.innerHTML = docLinkHtml;\n",
              "          element.appendChild(docLink);\n",
              "        }\n",
              "      </script>\n",
              "    </div>\n",
              "  </div>\n",
              "  "
            ]
          },
          "metadata": {},
          "execution_count": 77
        }
      ]
    },
    {
      "cell_type": "code",
      "source": [
        "comparable_death_df = death_df_pandas[death_df_pandas['Area'].isin(compared_list)]"
      ],
      "metadata": {
        "id": "dtrOaoq7ub9c"
      },
      "execution_count": null,
      "outputs": []
    },
    {
      "cell_type": "code",
      "source": [
        "comparable_death_df['Area'].nunique()"
      ],
      "metadata": {
        "colab": {
          "base_uri": "https://localhost:8080/"
        },
        "id": "vNgYeZ87r0jl",
        "outputId": "5ea9eb22-0f4a-40f3-f387-e79f358c318a"
      },
      "execution_count": null,
      "outputs": [
        {
          "output_type": "execute_result",
          "data": {
            "text/plain": [
              "159"
            ]
          },
          "metadata": {},
          "execution_count": 111
        }
      ]
    },
    {
      "cell_type": "code",
      "source": [
        "comparable_emissions_df = emissions_pandas_df[emissions_pandas_df['Area'].isin(compared_list)]"
      ],
      "metadata": {
        "id": "mAqa2p6As12V"
      },
      "execution_count": null,
      "outputs": []
    },
    {
      "cell_type": "code",
      "source": [
        "comparable_emissions_df['Area'].nunique()"
      ],
      "metadata": {
        "colab": {
          "base_uri": "https://localhost:8080/"
        },
        "id": "Kk76UQbuu6SS",
        "outputId": "7f30a29f-51ac-46ad-b5fd-8d78610a603f"
      },
      "execution_count": null,
      "outputs": [
        {
          "output_type": "execute_result",
          "data": {
            "text/plain": [
              "159"
            ]
          },
          "metadata": {},
          "execution_count": 103
        }
      ]
    },
    {
      "cell_type": "code",
      "source": [],
      "metadata": {
        "id": "g9DSwwolvFpg"
      },
      "execution_count": null,
      "outputs": []
    }
  ]
}